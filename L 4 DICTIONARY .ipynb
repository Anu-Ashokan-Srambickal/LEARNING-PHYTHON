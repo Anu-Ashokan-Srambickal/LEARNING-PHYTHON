{
 "cells": [
  {
   "cell_type": "markdown",
   "id": "0c216d69-9084-4f23-8acf-1474dd3143a7",
   "metadata": {},
   "source": [
    "# DICTIONARY"
   ]
  },
  {
   "cell_type": "markdown",
   "id": "157fdaf5-2043-4545-94c5-b3ad8ea2ab5e",
   "metadata": {},
   "source": [
    "* Dictionary has key and value pair.\n",
    "\n",
    "* Key value pair is seperated by colon {key:value}\n",
    "\n",
    "* key:value pair are seperated by comma and enclosed in curly brackets.  {k1:v1, k2:v2, k3:v3}\n",
    "\n",
    "* An empty dictionary without any items is written with just two curly braces, {}.\n",
    "\n",
    "* Keys are unique within a dictionary while values may not be.\n",
    "\n",
    "* The values of a dictionary can be of any type.\n",
    "\n",
    "* KEYS are immutable. So, it can be integer, float or tuple.\n"
   ]
  },
  {
   "cell_type": "markdown",
   "id": "6196617b-57f5-4a47-9d44-1fac50099557",
   "metadata": {},
   "source": [
    "## 🍓 CREATING DICTIONARY"
   ]
  },
  {
   "cell_type": "code",
   "execution_count": 4,
   "id": "c1ae0756-3718-4b9b-a932-bf790e0d49f4",
   "metadata": {},
   "outputs": [
    {
     "data": {
      "text/plain": [
       "dict"
      ]
     },
     "execution_count": 4,
     "metadata": {},
     "output_type": "execute_result"
    }
   ],
   "source": [
    "dict = { 1:'one', 2:'two', 3:'three', 4:'four', 5:'five' }\n",
    "type(dict)"
   ]
  },
  {
   "cell_type": "markdown",
   "id": "a9a884aa-f1b3-4756-8bf4-f22d4d0adab7",
   "metadata": {},
   "source": [
    "______________________________________________________________________________________________________________________________________________________"
   ]
  },
  {
   "cell_type": "markdown",
   "id": "74da50c7-e0c8-4727-9879-afebcaed166d",
   "metadata": {},
   "source": [
    "## 🍓 EXTRACTING ELEMENTS FROM DICTONARY "
   ]
  },
  {
   "cell_type": "code",
   "execution_count": 5,
   "id": "c79c05a7-bcbe-4df0-9d5e-1e4b212b6be7",
   "metadata": {},
   "outputs": [],
   "source": [
    "dict = { 1:'one', 2:'two', 3:'three', 4:'four', 5:'five' }"
   ]
  },
  {
   "cell_type": "code",
   "execution_count": 6,
   "id": "d896f7b7-f89a-4952-bb0a-8e0a05b5c16b",
   "metadata": {},
   "outputs": [
    {
     "data": {
      "text/plain": [
       "'two'"
      ]
     },
     "execution_count": 6,
     "metadata": {},
     "output_type": "execute_result"
    }
   ],
   "source": [
    "dict[2]          # to extract, dictionary name along with key value in square brackets"
   ]
  },
  {
   "cell_type": "markdown",
   "id": "74feec49-f44c-4c2b-a37f-f112da341b98",
   "metadata": {},
   "source": [
    "______________________________________________________________________________________________________________________________________________________"
   ]
  },
  {
   "cell_type": "markdown",
   "id": "ab33532f-5c0c-4942-be8e-6738dbe46e2a",
   "metadata": {},
   "source": [
    "## 🍓 UPDATING NEW VALUE"
   ]
  },
  {
   "cell_type": "code",
   "execution_count": 7,
   "id": "f2825d69-daac-4ad7-a4b9-cd2559853ce4",
   "metadata": {},
   "outputs": [],
   "source": [
    "dict = { 1:'one', 2:'two', 3:'three', 4:'four', 5:'five' }"
   ]
  },
  {
   "cell_type": "code",
   "execution_count": 10,
   "id": "7402ef57-ac61-4a60-a0a3-a7750eca4acd",
   "metadata": {},
   "outputs": [],
   "source": [
    "dict[1] = 1          # updating one key with 1"
   ]
  },
  {
   "cell_type": "code",
   "execution_count": 9,
   "id": "b1c09f69-1855-4e03-aee4-aada5bdbb2cb",
   "metadata": {},
   "outputs": [
    {
     "data": {
      "text/plain": [
       "{1: 1, 2: 'two', 3: 'three', 4: 'four', 5: 'five'}"
      ]
     },
     "execution_count": 9,
     "metadata": {},
     "output_type": "execute_result"
    }
   ],
   "source": [
    "dict"
   ]
  },
  {
   "cell_type": "markdown",
   "id": "89b8c7d3-0f4d-4337-a8a7-d277c62e1053",
   "metadata": {},
   "source": [
    "_______________________________________________________________________________________________________________________________________________________"
   ]
  },
  {
   "cell_type": "markdown",
   "id": "e443a4ba-c60e-4c6e-9a6d-45279f23a017",
   "metadata": {},
   "source": [
    "## 🍓 ADDING NEW VALUE"
   ]
  },
  {
   "cell_type": "code",
   "execution_count": 11,
   "id": "6d83fd5f-47b9-441a-b546-e4943fa67b51",
   "metadata": {},
   "outputs": [],
   "source": [
    "dict = { 1:'one', 2:'two', 3:'three', 4:'four', 5:'five' }"
   ]
  },
  {
   "cell_type": "code",
   "execution_count": 12,
   "id": "7383e194-14d6-450c-9f9f-a85d46d7c6e2",
   "metadata": {},
   "outputs": [],
   "source": [
    "dict['six'] = 6      # dictionary name along with key and the value to be updated "
   ]
  },
  {
   "cell_type": "code",
   "execution_count": 13,
   "id": "af001c2d-1cb8-4491-bb92-90a34df6e060",
   "metadata": {},
   "outputs": [
    {
     "data": {
      "text/plain": [
       "{1: 'one', 2: 'two', 3: 'three', 4: 'four', 5: 'five', 'six': 6}"
      ]
     },
     "execution_count": 13,
     "metadata": {},
     "output_type": "execute_result"
    }
   ],
   "source": [
    "dict"
   ]
  },
  {
   "cell_type": "markdown",
   "id": "2dfae30e-d865-4a4c-9a81-512c2e39f7a6",
   "metadata": {},
   "source": [
    "_______________________________________________________________________________________________________________________________________________________"
   ]
  },
  {
   "cell_type": "markdown",
   "id": "3761c9c1-64f5-4a65-baee-f88ebc13cc74",
   "metadata": {},
   "source": [
    "## 🍓 DELETING VALUES WITH del STATEMENT"
   ]
  },
  {
   "cell_type": "code",
   "execution_count": 14,
   "id": "70691364-56eb-4b2b-b27e-2db0e22291f2",
   "metadata": {},
   "outputs": [],
   "source": [
    "dict = { 1:'one', 2:'two', 3:'three', 4:'four', 5:'five' }"
   ]
  },
  {
   "cell_type": "code",
   "execution_count": 15,
   "id": "744eccf3-ee1f-4028-8519-e1c559c69316",
   "metadata": {},
   "outputs": [],
   "source": [
    "del dict[1]"
   ]
  },
  {
   "cell_type": "code",
   "execution_count": 16,
   "id": "6c6f4d97-ddcc-4c84-ba28-517e9bf8b85d",
   "metadata": {},
   "outputs": [
    {
     "data": {
      "text/plain": [
       "{2: 'two', 3: 'three', 4: 'four', 5: 'five'}"
      ]
     },
     "execution_count": 16,
     "metadata": {},
     "output_type": "execute_result"
    }
   ],
   "source": [
    "dict"
   ]
  },
  {
   "cell_type": "markdown",
   "id": "8367a179-3625-4cba-b827-1acdde24f710",
   "metadata": {},
   "source": [
    "## DELETE THE ENTIRE DICTIONARY"
   ]
  },
  {
   "cell_type": "code",
   "execution_count": 17,
   "id": "5ae04f3a-b2b7-4dd4-9eca-5926fa70a40e",
   "metadata": {},
   "outputs": [],
   "source": [
    "dict1 = {'one': 'lion', 'two':'tiger'}"
   ]
  },
  {
   "cell_type": "code",
   "execution_count": 18,
   "id": "4d798e85-407d-4b59-ae78-079f58ef898d",
   "metadata": {},
   "outputs": [],
   "source": [
    "del dict1      # delete statement along with dictionary name"
   ]
  },
  {
   "cell_type": "markdown",
   "id": "b78907b7-3ec4-446f-a5b3-d33fea4ad216",
   "metadata": {},
   "source": [
    "_______________________________________________________________________________________________________________________________________________________"
   ]
  },
  {
   "cell_type": "markdown",
   "id": "45a8d6ad-2fde-4aab-9d41-882abb49a922",
   "metadata": {},
   "source": [
    "## 🍓  DICTIONARY CAN INCLUDE MULTIPLE DATA TYPES WITHIN"
   ]
  },
  {
   "cell_type": "code",
   "execution_count": 19,
   "id": "b5fcd16f-c3f4-4116-989a-729ab43bbb08",
   "metadata": {},
   "outputs": [
    {
     "data": {
      "text/plain": [
       "{'one': [10, 20, 30], 'two': {'stud1': 'lian', 'stud2': 'lilly'}, 'three': 100}"
      ]
     },
     "execution_count": 19,
     "metadata": {},
     "output_type": "execute_result"
    }
   ],
   "source": [
    "dict2 ={ 'one':[10,20,30], 'two':{'stud1':'lian', 'stud2':'lilly'}, 'three':100}\n",
    "dict2"
   ]
  },
  {
   "cell_type": "markdown",
   "id": "24e521e2-90f8-460f-a913-d3fe450ab019",
   "metadata": {},
   "source": [
    "_______________________________________________________________________________________________________________________________________________________"
   ]
  },
  {
   "cell_type": "markdown",
   "id": "3f3520df-ddde-43bb-a6f7-8eaf3ba37bfc",
   "metadata": {},
   "source": [
    "## 🍒 EXCERCISE"
   ]
  },
  {
   "cell_type": "markdown",
   "id": "7ba28755-746d-48b6-92e1-499d6c8d594d",
   "metadata": {},
   "source": [
    "### Dictionary (Creation, Modification and Access):"
   ]
  },
  {
   "cell_type": "code",
   "execution_count": 21,
   "id": "5a66a8b0-8364-432b-a96e-b7f3c72352a4",
   "metadata": {},
   "outputs": [],
   "source": [
    "# a. Create a dictionary named student_marks that maps the names of five students to their marks (use scale of from 0 to 100).\n",
    "\n",
    "student_marks = { 'stud1':56, 'stud2':77, 'stud3':89, 'stud4':34, 'stud5':67}"
   ]
  },
  {
   "cell_type": "code",
   "execution_count": 27,
   "id": "84d678d5-2963-4778-a6bf-baad8a19a9fd",
   "metadata": {},
   "outputs": [
    {
     "name": "stdout",
     "output_type": "stream",
     "text": [
      "Mark of Student 3: 89\n"
     ]
    }
   ],
   "source": [
    "# b. Access and print the mark of a specific student, of your choice.\n",
    "\n",
    "print(f'Mark of Student 3: {student_marks['stud3']}')"
   ]
  },
  {
   "cell_type": "code",
   "execution_count": 28,
   "id": "dba1ed57-36e7-4909-925b-b64d75c56212",
   "metadata": {},
   "outputs": [
    {
     "data": {
      "text/plain": [
       "{'stud1': 56, 'stud2': 77, 'stud3': 89, 'stud4': 34, 'stud5': 67, 'stud6': 66}"
      ]
     },
     "execution_count": 28,
     "metadata": {},
     "output_type": "execute_result"
    }
   ],
   "source": [
    "# c. Add a new student \"Janani\" with a mark of 80 to the student_marks dictionary.\n",
    "\n",
    "student_marks['stud6']=66\n",
    "student_marks"
   ]
  },
  {
   "cell_type": "code",
   "execution_count": 34,
   "id": "2c7f5038-1059-4645-995d-e8d5ab64baf1",
   "metadata": {},
   "outputs": [
    {
     "data": {
      "text/plain": [
       "{'stud1': 45, 'stud2': 77, 'stud3': 89, 'stud4': 34, 'stud5': 67, 'stud6': 66}"
      ]
     },
     "execution_count": 34,
     "metadata": {},
     "output_type": "execute_result"
    }
   ],
   "source": [
    "# d. Update the mark of any one older student to 82.\n",
    "\n",
    "student_marks['stud1'] = 45\n",
    "student_marks"
   ]
  },
  {
   "cell_type": "code",
   "execution_count": 40,
   "id": "80bcbbce-a373-4f8a-9551-fbe626075f44",
   "metadata": {},
   "outputs": [
    {
     "name": "stdout",
     "output_type": "stream",
     "text": [
      "stud1\n",
      "stud2\n",
      "stud3\n",
      "stud4\n",
      "stud5\n",
      "stud6\n"
     ]
    }
   ],
   "source": [
    "# EXTRACTING KEY IN STUDENT_MARKS\n",
    "\n",
    "for key in student_marks.keys():\n",
    "    print(key)\n"
   ]
  },
  {
   "cell_type": "code",
   "execution_count": 42,
   "id": "e4f6a44b-aad8-4616-8f9b-bb335ba69593",
   "metadata": {},
   "outputs": [
    {
     "name": "stdout",
     "output_type": "stream",
     "text": [
      "45\n",
      "77\n",
      "89\n",
      "34\n",
      "67\n",
      "66\n"
     ]
    }
   ],
   "source": [
    "# EXTRACTING VALUES IN STUDENT_MARKS\n",
    "\n",
    "for value in student_marks.values():\n",
    "    print(value)"
   ]
  },
  {
   "cell_type": "code",
   "execution_count": 47,
   "id": "bf48a2b5-b476-41c3-91d3-18ac8a53a9d0",
   "metadata": {},
   "outputs": [
    {
     "data": {
      "text/plain": [
       "dict_values([45, 77, 89, 34, 67, 66])"
      ]
     },
     "execution_count": 47,
     "metadata": {},
     "output_type": "execute_result"
    }
   ],
   "source": [
    "student_marks.values()"
   ]
  },
  {
   "cell_type": "code",
   "execution_count": 45,
   "id": "5da5966c-b0fc-480d-973b-6111fdc0475e",
   "metadata": {},
   "outputs": [
    {
     "name": "stdout",
     "output_type": "stream",
     "text": [
      "stud1:45\n",
      "stud2:77\n",
      "stud3:89\n",
      "stud4:34\n",
      "stud5:67\n",
      "stud6:66\n"
     ]
    }
   ],
   "source": [
    "# EXTRACTING KEY:VALUE PAIR\n",
    "\n",
    "for key, value in student_marks.items():\n",
    "    print(f'{key}:{value}')\n"
   ]
  },
  {
   "cell_type": "code",
   "execution_count": 46,
   "id": "d695debb-ecb9-4b38-8d29-08b6667bf64d",
   "metadata": {},
   "outputs": [
    {
     "data": {
      "text/plain": [
       "dict_items([('stud1', 45), ('stud2', 77), ('stud3', 89), ('stud4', 34), ('stud5', 67), ('stud6', 66)])"
      ]
     },
     "execution_count": 46,
     "metadata": {},
     "output_type": "execute_result"
    }
   ],
   "source": [
    "student_marks.items()"
   ]
  },
  {
   "cell_type": "code",
   "execution_count": null,
   "id": "185d6573-6248-4b9e-abfe-1414fc044c65",
   "metadata": {},
   "outputs": [],
   "source": []
  }
 ],
 "metadata": {
  "kernelspec": {
   "display_name": "Python 3 (ipykernel)",
   "language": "python",
   "name": "python3"
  },
  "language_info": {
   "codemirror_mode": {
    "name": "ipython",
    "version": 3
   },
   "file_extension": ".py",
   "mimetype": "text/x-python",
   "name": "python",
   "nbconvert_exporter": "python",
   "pygments_lexer": "ipython3",
   "version": "3.12.7"
  }
 },
 "nbformat": 4,
 "nbformat_minor": 5
}
