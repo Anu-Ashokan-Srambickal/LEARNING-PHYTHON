{
 "cells": [
  {
   "cell_type": "markdown",
   "id": "76fc1439-a4e4-45fd-97a7-bb4bd49a9007",
   "metadata": {},
   "source": [
    "#   LIST"
   ]
  },
  {
   "cell_type": "markdown",
   "id": "22656692-fd57-4a71-8558-439060cc55e8",
   "metadata": {},
   "source": [
    "#### 🔻 Elements are written in square brackets.\n",
    "\n",
    "#### 🔻 List is a Mutable Data Type."
   ]
  },
  {
   "cell_type": "markdown",
   "id": "3e6eda21-356f-4542-981e-31b03f1429ca",
   "metadata": {},
   "source": [
    "### CREATING LIST AND CHECKING TYPE"
   ]
  },
  {
   "cell_type": "code",
   "execution_count": 4,
   "id": "a4ef044b-e88e-4ad0-b28b-233c5a13e4df",
   "metadata": {},
   "outputs": [
    {
     "data": {
      "text/plain": [
       "[12, 45, 78, 'mango', 'kiwi']"
      ]
     },
     "execution_count": 4,
     "metadata": {},
     "output_type": "execute_result"
    }
   ],
   "source": [
    "# method:1\n",
    "list = [12, 45, 78, 'mango', 'kiwi']\n",
    "\n",
    "list"
   ]
  },
  {
   "cell_type": "code",
   "execution_count": 5,
   "id": "b1a847dc-5b20-4391-ad41-0fc6e19fab28",
   "metadata": {},
   "outputs": [
    {
     "data": {
      "text/plain": [
       "list"
      ]
     },
     "execution_count": 5,
     "metadata": {},
     "output_type": "execute_result"
    }
   ],
   "source": [
    "type(list)"
   ]
  },
  {
   "cell_type": "code",
   "execution_count": 1,
   "id": "7b2f7705-3b46-4904-9b70-fcfb6094ad98",
   "metadata": {},
   "outputs": [
    {
     "data": {
      "text/plain": [
       "list"
      ]
     },
     "execution_count": 1,
     "metadata": {},
     "output_type": "execute_result"
    }
   ],
   "source": [
    "# method : 2\n",
    "\n",
    "list = list((10, 20, 30, 40))\n",
    "\n",
    "type(list)"
   ]
  },
  {
   "cell_type": "markdown",
   "id": "71dd07fe-c021-43d7-997d-4c3e8bbc0bd4",
   "metadata": {},
   "source": [
    "## NESTED LIST"
   ]
  },
  {
   "cell_type": "code",
   "execution_count": 3,
   "id": "bd155865-0627-48a7-913b-d1cf8075344f",
   "metadata": {},
   "outputs": [
    {
     "data": {
      "text/plain": [
       "['mango', 'lemon', 22, [90, 'apple', 88], 'banana']"
      ]
     },
     "execution_count": 3,
     "metadata": {},
     "output_type": "execute_result"
    }
   ],
   "source": [
    "list = ['mango', 'lemon', 22, [90, 'apple', 88], 'banana']   # list inside a list is called nested list\n",
    "\n",
    "list"
   ]
  },
  {
   "cell_type": "code",
   "execution_count": 4,
   "id": "1f956800-a1c9-4d83-a627-afc736bb7acf",
   "metadata": {},
   "outputs": [
    {
     "data": {
      "text/plain": [
       "list"
      ]
     },
     "execution_count": 4,
     "metadata": {},
     "output_type": "execute_result"
    }
   ],
   "source": [
    "type(list)"
   ]
  },
  {
   "cell_type": "markdown",
   "id": "d5fa48a6-e384-4f04-864b-57bb8e87de9c",
   "metadata": {},
   "source": [
    "## EXERCISE 1"
   ]
  },
  {
   "cell_type": "markdown",
   "id": "caecf548-844a-483c-b603-d0988e3058d1",
   "metadata": {},
   "source": [
    "## List (Creation, Modification and Access):\n",
    "\n",
    "### 1. List Creation:\n"
   ]
  },
  {
   "cell_type": "markdown",
   "id": "ca794d38-319d-4618-a00b-71b72aef938e",
   "metadata": {},
   "source": [
    "### a. Create a list named age_list with five integer elements. For eg., [24, 25, 26, 27, 28]"
   ]
  },
  {
   "cell_type": "code",
   "execution_count": 19,
   "id": "44def3b6-02d4-499a-b4ac-b14230861c57",
   "metadata": {},
   "outputs": [
    {
     "data": {
      "text/plain": [
       "list"
      ]
     },
     "execution_count": 19,
     "metadata": {},
     "output_type": "execute_result"
    }
   ],
   "source": [
    "age = [24, 25, 26, 27, 28]\n",
    "type(age)"
   ]
  },
  {
   "cell_type": "code",
   "execution_count": 21,
   "id": "3b6103c4-f263-4162-849f-5b07fea2d61f",
   "metadata": {},
   "outputs": [
    {
     "data": {
      "text/plain": [
       "['tom', 'jerry', 'mickey', 'max', 'donald']"
      ]
     },
     "execution_count": 21,
     "metadata": {},
     "output_type": "execute_result"
    }
   ],
   "source": [
    "### b. Create a list named name_list with five string elements.\n",
    "\n",
    "name_list = ['tom', 'jerry', 'mickey', 'max', 'donald']\n",
    "name_list"
   ]
  },
  {
   "cell_type": "raw",
   "id": "a10fb64f-e7fe-4ed8-bf9b-36bfb48da506",
   "metadata": {},
   "source": [
    "--------------------------------------------------------------------------------------------------------------------------------------------------------"
   ]
  },
  {
   "cell_type": "code",
   "execution_count": null,
   "id": "799b948c-267a-4317-b10d-b1713be6644e",
   "metadata": {},
   "outputs": [],
   "source": [
    "----------------------------------------------------------------------------------------------------------"
   ]
  },
  {
   "cell_type": "markdown",
   "id": "e4db5a7f-e6c7-4a6b-8dbc-c2873ea70ab7",
   "metadata": {},
   "source": [
    "## INDEXING : ACCESING ELEMENTS FROM LIST"
   ]
  },
  {
   "cell_type": "code",
   "execution_count": 14,
   "id": "0d4fbd0f-6882-486a-98f1-8e3c8cbf7033",
   "metadata": {},
   "outputs": [],
   "source": [
    "list = ['mango', 'lemon', 22, [90, 'apple', 88], 'banana'] "
   ]
  },
  {
   "cell_type": "code",
   "execution_count": 5,
   "id": "dac967b0-9d85-4422-81b4-a5936668ffdb",
   "metadata": {},
   "outputs": [
    {
     "data": {
      "text/plain": [
       "'mango'"
      ]
     },
     "execution_count": 5,
     "metadata": {},
     "output_type": "execute_result"
    }
   ],
   "source": [
    "list[0]    # extracting first element from list"
   ]
  },
  {
   "cell_type": "code",
   "execution_count": 13,
   "id": "c7c12b80-7e39-4eef-b642-31bf2b2998f7",
   "metadata": {},
   "outputs": [
    {
     "data": {
      "text/plain": [
       "[[90, 'apple', 88], 'banana']"
      ]
     },
     "execution_count": 13,
     "metadata": {},
     "output_type": "execute_result"
    }
   ],
   "source": [
    "list[3:5]      # extracts elements fron 3rd till 4 th"
   ]
  },
  {
   "cell_type": "code",
   "execution_count": 14,
   "id": "b3a517cd-bf5d-4390-9d2c-8a6acdb2864f",
   "metadata": {},
   "outputs": [
    {
     "data": {
      "text/plain": [
       "'banana'"
      ]
     },
     "execution_count": 14,
     "metadata": {},
     "output_type": "execute_result"
    }
   ],
   "source": [
    "list[-1]         # reverse indexing , elements from end"
   ]
  },
  {
   "cell_type": "code",
   "execution_count": 16,
   "id": "1d331cb3-85bc-44a0-91c9-8b09a93ed911",
   "metadata": {},
   "outputs": [
    {
     "data": {
      "text/plain": [
       "[22, [90, 'apple', 88]]"
      ]
     },
     "execution_count": 16,
     "metadata": {},
     "output_type": "execute_result"
    }
   ],
   "source": [
    "list[-3:-1]     # reverse indexing"
   ]
  },
  {
   "cell_type": "code",
   "execution_count": 17,
   "id": "fc696387-2b87-482f-83fa-dd7e0eb554c3",
   "metadata": {},
   "outputs": [
    {
     "data": {
      "text/plain": [
       "['mango', 22, 'banana']"
      ]
     },
     "execution_count": 17,
     "metadata": {},
     "output_type": "execute_result"
    }
   ],
   "source": [
    "list[::2]       # extract the values from begning tii 2nd index"
   ]
  },
  {
   "cell_type": "code",
   "execution_count": 18,
   "id": "74cd8f66-f0c5-4ccb-a79f-ad5a40c61c32",
   "metadata": {},
   "outputs": [
    {
     "data": {
      "text/plain": [
       "['lemon', 22, [90, 'apple', 88], 'banana']"
      ]
     },
     "execution_count": 18,
     "metadata": {},
     "output_type": "execute_result"
    }
   ],
   "source": [
    "list[1::]       # exracts elements till the end of the list"
   ]
  },
  {
   "cell_type": "code",
   "execution_count": 22,
   "id": "9d698a27-121d-4803-8dc0-4d5744d76f50",
   "metadata": {},
   "outputs": [
    {
     "data": {
      "text/plain": [
       "['lemon', [90, 'apple', 88]]"
      ]
     },
     "execution_count": 22,
     "metadata": {},
     "output_type": "execute_result"
    }
   ],
   "source": [
    "list[1:5:2]      # extracts elements by 2 count"
   ]
  },
  {
   "cell_type": "code",
   "execution_count": 12,
   "id": "c09be291-1ac5-4237-b903-ed672d971bdc",
   "metadata": {},
   "outputs": [
    {
     "data": {
      "text/plain": [
       "'apple'"
      ]
     },
     "execution_count": 12,
     "metadata": {},
     "output_type": "execute_result"
    }
   ],
   "source": [
    "list[3][1]      # extracting values from nested list"
   ]
  },
  {
   "cell_type": "code",
   "execution_count": 15,
   "id": "2c1ece23-94e6-4f13-984d-464861536852",
   "metadata": {},
   "outputs": [
    {
     "data": {
      "text/plain": [
       "2"
      ]
     },
     "execution_count": 15,
     "metadata": {},
     "output_type": "execute_result"
    }
   ],
   "source": [
    "list[3].index(88)  # to find the index number of element within the nested list"
   ]
  },
  {
   "cell_type": "markdown",
   "id": "848c5c48-9bac-4648-a786-418081f8159b",
   "metadata": {},
   "source": [
    "## Finding index number of an element"
   ]
  },
  {
   "cell_type": "code",
   "execution_count": 4,
   "id": "ecd40788-8eaa-48cd-9d68-d0b55c254bb3",
   "metadata": {},
   "outputs": [
    {
     "data": {
      "text/plain": [
       "4"
      ]
     },
     "execution_count": 4,
     "metadata": {},
     "output_type": "execute_result"
    }
   ],
   "source": [
    "list.index('banana')          # same method is used in tuple"
   ]
  },
  {
   "cell_type": "raw",
   "id": "2d73bc82-ff6a-4c44-9bab-35bd62bac8ac",
   "metadata": {},
   "source": [
    "--------------------------------------------------------------------------------------------------------------------------------------------------------"
   ]
  },
  {
   "cell_type": "raw",
   "id": "01ffad89-949c-4a5b-9f44-dad54e226b1c",
   "metadata": {},
   "source": [
    "--------------------------------------------------------------------------------------------------------------------------------------------------------"
   ]
  },
  {
   "cell_type": "markdown",
   "id": "7b6db478-88ac-45a3-a623-511bce051637",
   "metadata": {},
   "source": [
    "## EXERCISE 2"
   ]
  },
  {
   "cell_type": "markdown",
   "id": "8616d788-39f7-482b-8da3-7e241adba1e3",
   "metadata": {},
   "source": [
    "## Accessing List Elements:\n"
   ]
  },
  {
   "cell_type": "code",
   "execution_count": 2,
   "id": "257cda54-9f22-49ce-9c49-4a5787f389f9",
   "metadata": {},
   "outputs": [],
   "source": [
    "age = [24, 25, 26, 27, 28]\n",
    "name_list = ['tom', 'jerry', 'mickey', 'max', 'donald']"
   ]
  },
  {
   "cell_type": "code",
   "execution_count": 24,
   "id": "5b23952d-a7e2-4cbc-a315-274317bc5f4f",
   "metadata": {},
   "outputs": [
    {
     "data": {
      "text/plain": [
       "'tom'"
      ]
     },
     "execution_count": 24,
     "metadata": {},
     "output_type": "execute_result"
    }
   ],
   "source": [
    "# a. Print the first element of name_list.\n",
    "\n",
    "name_list[0]"
   ]
  },
  {
   "cell_type": "code",
   "execution_count": 25,
   "id": "e17e7fba-a411-4ed6-983b-ffa57c900c53",
   "metadata": {},
   "outputs": [
    {
     "data": {
      "text/plain": [
       "'donald'"
      ]
     },
     "execution_count": 25,
     "metadata": {},
     "output_type": "execute_result"
    }
   ],
   "source": [
    "# b. Print the last element of name_list.\n",
    "\n",
    "name_list[-1]"
   ]
  },
  {
   "cell_type": "code",
   "execution_count": 27,
   "id": "4cc73148-6efd-4c9f-b65e-fd6521fe3b56",
   "metadata": {},
   "outputs": [
    {
     "data": {
      "text/plain": [
       "['mickey', 'max', 'donald']"
      ]
     },
     "execution_count": 27,
     "metadata": {},
     "output_type": "execute_result"
    }
   ],
   "source": [
    "# c. Print the elements from index 2 to index 4 in name_list.\n",
    "\n",
    "name_list[2:5]"
   ]
  },
  {
   "cell_type": "code",
   "execution_count": 4,
   "id": "6e6a0d12-0610-4dd9-a494-0e2b10cfe4e8",
   "metadata": {},
   "outputs": [
    {
     "data": {
      "text/plain": [
       "['donald', 'max', 'mickey', 'jerry', 'tom']"
      ]
     },
     "execution_count": 4,
     "metadata": {},
     "output_type": "execute_result"
    }
   ],
   "source": [
    "# d. Print the elements of name_list in reverse order.\n",
    "\n",
    "name_list[::-1]"
   ]
  },
  {
   "cell_type": "raw",
   "id": "4e7c69da-ef9a-44c9-b288-6d556709fa81",
   "metadata": {},
   "source": [
    "--------------------------------------------------------------------------------------------------------------------------------------------------------"
   ]
  },
  {
   "cell_type": "raw",
   "id": "2241ef18-33a8-4de7-bcc2-0c1477d3f52a",
   "metadata": {},
   "source": [
    "--------------------------------------------------------------------------------------------------------------------------------------------------------"
   ]
  },
  {
   "cell_type": "markdown",
   "id": "1ed192cb-f8b7-438c-a5a0-7d7fdc3efc43",
   "metadata": {},
   "source": [
    "## CONCATENATION OF LIST"
   ]
  },
  {
   "cell_type": "code",
   "execution_count": 17,
   "id": "9eb6b539-a946-4e1f-8618-ff754a68fd02",
   "metadata": {},
   "outputs": [],
   "source": [
    "one = ['apple', 'orange', 'lemon']\n",
    "two = [22, 34, 56, 76]"
   ]
  },
  {
   "cell_type": "code",
   "execution_count": 17,
   "id": "2c66d2ad-fb1c-4bd2-aea7-6e795336ebda",
   "metadata": {},
   "outputs": [
    {
     "data": {
      "text/plain": [
       "['apple', 'orange', 'lemon', 22, 34, 56, 76]"
      ]
     },
     "execution_count": 17,
     "metadata": {},
     "output_type": "execute_result"
    }
   ],
   "source": [
    "one + two        # compaining 2 or more lists"
   ]
  },
  {
   "cell_type": "raw",
   "id": "3b81de29-63cc-4b96-bdce-f0bce06496dd",
   "metadata": {},
   "source": [
    "--------------------------------------------------------------------------------------------------------------------------------------------------------"
   ]
  },
  {
   "cell_type": "markdown",
   "id": "6ebec6ed-8d3f-4a7d-b01d-662b1c8c5fd5",
   "metadata": {},
   "source": [
    "## REPEATING A LIST"
   ]
  },
  {
   "cell_type": "code",
   "execution_count": 19,
   "id": "ab003719-a6d7-4ab1-81d9-f48ec87fd492",
   "metadata": {},
   "outputs": [
    {
     "data": {
      "text/plain": [
       "['apple',\n",
       " 'orange',\n",
       " 'lemon',\n",
       " 'apple',\n",
       " 'orange',\n",
       " 'lemon',\n",
       " 'apple',\n",
       " 'orange',\n",
       " 'lemon',\n",
       " 'apple',\n",
       " 'orange',\n",
       " 'lemon']"
      ]
     },
     "execution_count": 19,
     "metadata": {},
     "output_type": "execute_result"
    }
   ],
   "source": [
    "one * 4"
   ]
  },
  {
   "cell_type": "raw",
   "id": "24fc43be-531f-469d-bec5-61cb63a1167b",
   "metadata": {},
   "source": [
    "--------------------------------------------------------------------------------------------------------------------------------------------------------"
   ]
  },
  {
   "cell_type": "markdown",
   "id": "fab2a824-ce83-4dc3-85c4-bf2c5176bdbf",
   "metadata": {},
   "source": [
    "## MEMBERSHIP IN A LIST (using 'in' and 'not in')"
   ]
  },
  {
   "cell_type": "code",
   "execution_count": 20,
   "id": "b878d6b4-ba30-41ff-95a1-6421ffe80554",
   "metadata": {},
   "outputs": [
    {
     "data": {
      "text/plain": [
       "True"
      ]
     },
     "execution_count": 20,
     "metadata": {},
     "output_type": "execute_result"
    }
   ],
   "source": [
    "'apple' in one"
   ]
  },
  {
   "cell_type": "code",
   "execution_count": 22,
   "id": "1cf2343c-1b29-4ba4-8368-69dae13edcb7",
   "metadata": {},
   "outputs": [
    {
     "data": {
      "text/plain": [
       "True"
      ]
     },
     "execution_count": 22,
     "metadata": {},
     "output_type": "execute_result"
    }
   ],
   "source": [
    "'APPLE' not in one"
   ]
  },
  {
   "cell_type": "raw",
   "id": "d8316601-dbd3-4189-a3f4-7f2f70c22887",
   "metadata": {},
   "source": [
    "--------------------------------------------------------------------------------------------------------------------------------------------------------"
   ]
  },
  {
   "cell_type": "markdown",
   "id": "af8519a4-8160-4cc1-8c53-4302cad83830",
   "metadata": {},
   "source": [
    "## SORTING VALUES"
   ]
  },
  {
   "cell_type": "code",
   "execution_count": 1,
   "id": "3b52a865-c6b8-4e12-9295-273046edcb05",
   "metadata": {},
   "outputs": [],
   "source": [
    "one = ['apple', 'orange', 'lemon']\n",
    "two = [22, 34, 56, 76]"
   ]
  },
  {
   "cell_type": "code",
   "execution_count": null,
   "id": "8b2e82e7-9bcb-44ff-a014-37f868fbc3e7",
   "metadata": {},
   "outputs": [],
   "source": [
    ".sort()                          # sorts in assending order"
   ]
  },
  {
   "cell_type": "code",
   "execution_count": 2,
   "id": "1a931ca0-2215-4907-831d-1a5380de6569",
   "metadata": {},
   "outputs": [],
   "source": [
    "two.sort()"
   ]
  },
  {
   "cell_type": "code",
   "execution_count": null,
   "id": "be15e23d-9f33-4ae7-b071-b6d3bbb51b83",
   "metadata": {},
   "outputs": [],
   "source": [
    "two.sort(reverse=True)          # sorts in descending order"
   ]
  },
  {
   "cell_type": "raw",
   "id": "0f04c9a6-ab26-4adf-a0a8-8c3fe2600d4b",
   "metadata": {},
   "source": [
    "--------------------------------------------------------------------------------------------------------------------------------------------------------"
   ]
  },
  {
   "cell_type": "markdown",
   "id": "661c88fd-bb16-4f11-bda2-857ff1c46773",
   "metadata": {},
   "source": [
    "## len() FUNCTION    - FINDS THE LENGTH OF LIST"
   ]
  },
  {
   "cell_type": "code",
   "execution_count": 23,
   "id": "cd3e6f1a-b5c6-4202-8b58-ca6036af15ae",
   "metadata": {},
   "outputs": [
    {
     "data": {
      "text/plain": [
       "3"
      ]
     },
     "execution_count": 23,
     "metadata": {},
     "output_type": "execute_result"
    }
   ],
   "source": [
    "len(one)              # used to find length of list"
   ]
  },
  {
   "cell_type": "raw",
   "id": "06d540dd-72e2-48bf-aca3-fe5ca729ffc9",
   "metadata": {},
   "source": [
    "--------------------------------------------------------------------------------------------------------------------------------------------------------"
   ]
  },
  {
   "cell_type": "markdown",
   "id": "8e30aa4e-d45a-4202-9a55-bde422ea63d5",
   "metadata": {},
   "source": [
    "## min() FUNCTION  - FINDS THE SMALLEST ELEMENT IN THE LIST"
   ]
  },
  {
   "cell_type": "code",
   "execution_count": 25,
   "id": "e0e0e60d-e6d6-4dc3-86f4-19099c23bbce",
   "metadata": {},
   "outputs": [
    {
     "data": {
      "text/plain": [
       "'apple'"
      ]
     },
     "execution_count": 25,
     "metadata": {},
     "output_type": "execute_result"
    }
   ],
   "source": [
    "min(one)"
   ]
  },
  {
   "cell_type": "raw",
   "id": "04c3af3d-63e7-4c58-9abf-e5e30a7c06a8",
   "metadata": {},
   "source": [
    "--------------------------------------------------------------------------------------------------------------------------------------------------------"
   ]
  },
  {
   "cell_type": "markdown",
   "id": "b5ec878a-d0a5-4ff5-ab81-d0f435a10a14",
   "metadata": {},
   "source": [
    "## max() FUNCTION   -FINDS THE GREATEST ELEMENT IN THE LIST"
   ]
  },
  {
   "cell_type": "code",
   "execution_count": 27,
   "id": "eed9b93d-2dac-4af3-bde8-048c4633fe3a",
   "metadata": {},
   "outputs": [
    {
     "data": {
      "text/plain": [
       "'orange'"
      ]
     },
     "execution_count": 27,
     "metadata": {},
     "output_type": "execute_result"
    }
   ],
   "source": [
    "max(one)"
   ]
  },
  {
   "cell_type": "raw",
   "id": "66eb9b9e-7192-46ee-bb4e-dbec1ec9da0f",
   "metadata": {},
   "source": [
    "--------------------------------------------------------------------------------------------------------------------------------------------------------"
   ]
  },
  {
   "cell_type": "markdown",
   "id": "6285be3b-e460-410f-b55b-b92549540be5",
   "metadata": {},
   "source": [
    "## .count() METHOD  - FINDS HOW MANY TIMES AN ELEMENT HAD OCCURED IN A LIST"
   ]
  },
  {
   "cell_type": "code",
   "execution_count": 28,
   "id": "cea30bc2-f77c-487e-bc48-740857212cc8",
   "metadata": {},
   "outputs": [
    {
     "data": {
      "text/plain": [
       "1"
      ]
     },
     "execution_count": 28,
     "metadata": {},
     "output_type": "execute_result"
    }
   ],
   "source": [
    "one.count('apple')"
   ]
  },
  {
   "cell_type": "raw",
   "id": "d4b42d95-0909-42bc-b20a-7d411379d71b",
   "metadata": {},
   "source": [
    "--------------------------------------------------------------------------------------------------------------------------------------------------------"
   ]
  },
  {
   "cell_type": "markdown",
   "id": "f137adc4-17e7-4e80-a506-a00b148ff114",
   "metadata": {},
   "source": [
    "## REPLACING VALUES OF LIST"
   ]
  },
  {
   "cell_type": "code",
   "execution_count": 2,
   "id": "d0ab62ed-99f3-41be-90a9-0a2c25386dbb",
   "metadata": {},
   "outputs": [
    {
     "data": {
      "text/plain": [
       "['apple', 'kiwi', 'lemon']"
      ]
     },
     "execution_count": 2,
     "metadata": {},
     "output_type": "execute_result"
    }
   ],
   "source": [
    "one = ['apple', 'orange', 'lemon']\n",
    "\n",
    "one[1] = 'kiwi'\n",
    "one"
   ]
  },
  {
   "cell_type": "raw",
   "id": "8d7b2cfc-b057-4deb-b1e2-bd18fcf8d1e7",
   "metadata": {},
   "source": [
    "--------------------------------------------------------------------------------------------------------------------------------------------------------"
   ]
  },
  {
   "cell_type": "markdown",
   "id": "7ef97572-f3c5-476f-b564-20b80d0744fa",
   "metadata": {},
   "source": [
    "## DELETING A VALUE "
   ]
  },
  {
   "cell_type": "markdown",
   "id": "b4cfd268-6eea-4a40-9569-55982b5065f1",
   "metadata": {},
   "source": [
    "## 1. del STATEMENT"
   ]
  },
  {
   "cell_type": "code",
   "execution_count": 12,
   "id": "387a7e07-abee-4087-8071-823b93f94cf9",
   "metadata": {},
   "outputs": [
    {
     "data": {
      "text/plain": [
       "['tom', 'jerry', 12, 'kiwi', 89, 100]"
      ]
     },
     "execution_count": 12,
     "metadata": {},
     "output_type": "execute_result"
    }
   ],
   "source": [
    "tup = ['tom', 'jerry', 12, 'kiwi', 89, 100]\n",
    "tup"
   ]
  },
  {
   "cell_type": "code",
   "execution_count": 13,
   "id": "44a8d655-652e-4b31-9b73-64c7d6b931a6",
   "metadata": {},
   "outputs": [],
   "source": [
    "del tup[1]       # deleting value against the index mentioned"
   ]
  },
  {
   "cell_type": "code",
   "execution_count": 14,
   "id": "62d702f5-641a-4f53-b2bc-b5fbf9c17c6c",
   "metadata": {},
   "outputs": [
    {
     "data": {
      "text/plain": [
       "['tom', 12, 'kiwi', 89, 100]"
      ]
     },
     "execution_count": 14,
     "metadata": {},
     "output_type": "execute_result"
    }
   ],
   "source": [
    "tup"
   ]
  },
  {
   "cell_type": "markdown",
   "id": "1546c7ff-3c60-46a6-8124-65e92501d8f3",
   "metadata": {},
   "source": [
    "## 2. remove() METHOD"
   ]
  },
  {
   "cell_type": "code",
   "execution_count": 15,
   "id": "d8437052-d105-4df6-8809-4031091b9865",
   "metadata": {},
   "outputs": [
    {
     "data": {
      "text/plain": [
       "['tom', 12, 'kiwi', 89, 100]"
      ]
     },
     "execution_count": 15,
     "metadata": {},
     "output_type": "execute_result"
    }
   ],
   "source": [
    "tup"
   ]
  },
  {
   "cell_type": "code",
   "execution_count": 16,
   "id": "3132cd68-bb86-43b8-88cf-50d618066244",
   "metadata": {},
   "outputs": [],
   "source": [
    "tup.remove('kiwi')"
   ]
  },
  {
   "cell_type": "code",
   "execution_count": 17,
   "id": "2d3f5e11-9aff-4386-b187-0921dccd1e35",
   "metadata": {},
   "outputs": [
    {
     "data": {
      "text/plain": [
       "['tom', 12, 89, 100]"
      ]
     },
     "execution_count": 17,
     "metadata": {},
     "output_type": "execute_result"
    }
   ],
   "source": [
    "tup"
   ]
  },
  {
   "cell_type": "raw",
   "id": "4dd63993-36b8-49cd-886f-9a7b1b95ec45",
   "metadata": {},
   "source": [
    "--------------------------------------------------------------------------------------------------------------------------------------------------------"
   ]
  },
  {
   "cell_type": "markdown",
   "id": "dec9f407-39fd-4dda-8ed5-c8a688ae1c50",
   "metadata": {},
   "source": [
    "## ADDING A NEW VALUE"
   ]
  },
  {
   "cell_type": "markdown",
   "id": "b24f11c4-2181-4e65-8925-0ee71d405f76",
   "metadata": {},
   "source": [
    "## 1. .append() METHOD - ADD VALUES TO THE END OF LIST"
   ]
  },
  {
   "cell_type": "code",
   "execution_count": 18,
   "id": "5c4b187b-8372-4f9f-a09c-a6f4fb247c38",
   "metadata": {},
   "outputs": [
    {
     "data": {
      "text/plain": [
       "['banana', 'mangoes', 'grapes', 'water melon', 'orange']"
      ]
     },
     "execution_count": 18,
     "metadata": {},
     "output_type": "execute_result"
    }
   ],
   "source": [
    "fruits = ['banana', 'mangoes', 'grapes', 'water melon', 'orange']\n",
    "fruits"
   ]
  },
  {
   "cell_type": "code",
   "execution_count": 19,
   "id": "2faf9ca6-9aa9-4102-96df-8e8749e52f92",
   "metadata": {},
   "outputs": [],
   "source": [
    "fruits.append('strawberry')"
   ]
  },
  {
   "cell_type": "code",
   "execution_count": 20,
   "id": "736a4018-4942-4fff-a6cc-cf24eedcb927",
   "metadata": {},
   "outputs": [
    {
     "data": {
      "text/plain": [
       "['banana', 'mangoes', 'grapes', 'water melon', 'orange', 'strawberry']"
      ]
     },
     "execution_count": 20,
     "metadata": {},
     "output_type": "execute_result"
    }
   ],
   "source": [
    "fruits"
   ]
  },
  {
   "cell_type": "markdown",
   "id": "8b4bf37d-8287-4c7a-85da-b1c3a9462595",
   "metadata": {},
   "source": [
    "## 2. .insert() METHOD"
   ]
  },
  {
   "cell_type": "markdown",
   "id": "a3f6168b-5f00-4cae-ae29-2029ce769fea",
   "metadata": {},
   "source": [
    "### CAN INSERT VALUES INTO SPECIFIC DESIRED POSITION"
   ]
  },
  {
   "cell_type": "code",
   "execution_count": 21,
   "id": "5d531986-8392-4963-abdb-5d5ee7c83342",
   "metadata": {},
   "outputs": [
    {
     "data": {
      "text/plain": [
       "['banana', 'mangoes', 'grapes', 'water melon', 'orange', 'strawberry']"
      ]
     },
     "execution_count": 21,
     "metadata": {},
     "output_type": "execute_result"
    }
   ],
   "source": [
    "fruits"
   ]
  },
  {
   "cell_type": "code",
   "execution_count": 22,
   "id": "d694f5aa-bf53-4da3-b4c7-42d95c8ae2f5",
   "metadata": {},
   "outputs": [],
   "source": [
    "fruits.insert(0, 'blueberry')"
   ]
  },
  {
   "cell_type": "code",
   "execution_count": 23,
   "id": "e3ff0c81-dc8c-4fbe-ad20-665e81bb20b8",
   "metadata": {},
   "outputs": [
    {
     "data": {
      "text/plain": [
       "['blueberry',\n",
       " 'banana',\n",
       " 'mangoes',\n",
       " 'grapes',\n",
       " 'water melon',\n",
       " 'orange',\n",
       " 'strawberry']"
      ]
     },
     "execution_count": 23,
     "metadata": {},
     "output_type": "execute_result"
    }
   ],
   "source": [
    "fruits"
   ]
  },
  {
   "cell_type": "raw",
   "id": "736d10bb-e5da-4405-aa4d-132392405d2c",
   "metadata": {},
   "source": [
    "--------------------------------------------------------------------------------------------------------------------------------------------------------"
   ]
  },
  {
   "cell_type": "markdown",
   "id": "7eff8a26-8255-4399-9eac-55dd5a5a5c7b",
   "metadata": {},
   "source": [
    "## extend() METHOD"
   ]
  },
  {
   "cell_type": "markdown",
   "id": "1655eab9-f6f6-49e7-b8e8-842085bb254c",
   "metadata": {},
   "source": [
    "### COMBINES TWO LISTS"
   ]
  },
  {
   "cell_type": "code",
   "execution_count": 24,
   "id": "fd86edba-ad21-4c0b-8581-e6d84a7caf3b",
   "metadata": {},
   "outputs": [],
   "source": [
    "list1 = ['one', 'two', 'three', 'four']\n",
    "list2 = [100, 200, 300, 400]"
   ]
  },
  {
   "cell_type": "code",
   "execution_count": 25,
   "id": "d6a335d3-b2ec-4b0f-9006-445f62ebe9ac",
   "metadata": {},
   "outputs": [],
   "source": [
    "list1.extend(list2)"
   ]
  },
  {
   "cell_type": "code",
   "execution_count": 30,
   "id": "cd54941c-47e8-42a9-a609-1a8724ee110f",
   "metadata": {},
   "outputs": [
    {
     "data": {
      "text/plain": [
       "['one', 'two', 'three', 'four', 100, 200, 300, 400]"
      ]
     },
     "execution_count": 30,
     "metadata": {},
     "output_type": "execute_result"
    }
   ],
   "source": [
    " list1                                # combines list1 to list2, its a permenent method"
   ]
  },
  {
   "cell_type": "code",
   "execution_count": 28,
   "id": "571a61bd-7a1e-4154-9409-08bfbbff8ffa",
   "metadata": {},
   "outputs": [
    {
     "data": {
      "text/plain": [
       "[100, 200, 300, 400]"
      ]
     },
     "execution_count": 28,
     "metadata": {},
     "output_type": "execute_result"
    }
   ],
   "source": [
    "list2"
   ]
  },
  {
   "cell_type": "raw",
   "id": "62ee59bd-5033-4208-9bbc-1d95f6638133",
   "metadata": {},
   "source": [
    "--------------------------------------------------------------------------------------------------------------------------------------------------------"
   ]
  },
  {
   "cell_type": "raw",
   "id": "d5404b16-0bd2-472d-9690-46c2da8d3dbb",
   "metadata": {},
   "source": [
    "--------------------------------------------------------------------------------------------------------------------------------------------------------"
   ]
  },
  {
   "cell_type": "markdown",
   "id": "43414cdf-0caa-4217-84d1-7de0c96f2a4b",
   "metadata": {},
   "source": [
    "## EXERCISE 3 List Operations / Modifications:"
   ]
  },
  {
   "cell_type": "code",
   "execution_count": 2,
   "id": "08c9ed8a-60bb-4f96-925a-0c1c9514560a",
   "metadata": {},
   "outputs": [],
   "source": [
    "age = [24, 25, 26, 27, 28]\n",
    "name_list = ['tom', 'jerry', 'mickey', 'max', 'donald']"
   ]
  },
  {
   "cell_type": "code",
   "execution_count": 3,
   "id": "e9d518f7-ffed-4305-bf00-326b71086a67",
   "metadata": {},
   "outputs": [
    {
     "data": {
      "text/plain": [
       "['tom', 'jerry', 'mickey', 'max', 'donald', 'Yazhini']"
      ]
     },
     "execution_count": 3,
     "metadata": {},
     "output_type": "execute_result"
    }
   ],
   "source": [
    "# a. Append the string \"Yazhini\" to name_list.\n",
    "\n",
    "name_list.append(\"Yazhini\")\n",
    "\n",
    "name_list"
   ]
  },
  {
   "cell_type": "code",
   "execution_count": 4,
   "id": "216439ea-641c-4cee-bcdf-f21783c35459",
   "metadata": {},
   "outputs": [
    {
     "data": {
      "text/plain": [
       "['tom', 'jerry', 30, 'mickey', 'max', 'donald', 'Yazhini']"
      ]
     },
     "execution_count": 4,
     "metadata": {},
     "output_type": "execute_result"
    }
   ],
   "source": [
    "# b. Insert the element 30 at index 2 in age_list.\n",
    "\n",
    "name_list.insert(2, 30)\n",
    "name_list"
   ]
  },
  {
   "cell_type": "code",
   "execution_count": 5,
   "id": "7555ad4c-ea6b-49d0-972e-71c9884a5671",
   "metadata": {},
   "outputs": [
    {
     "data": {
      "text/plain": [
       "['tom', 'jerry', 30, 'mickey', 'max', 'donald']"
      ]
     },
     "execution_count": 5,
     "metadata": {},
     "output_type": "execute_result"
    }
   ],
   "source": [
    "# c. Remove the string \"Yazhini\" from name_list.\n",
    "name_list.remove(\"Yazhini\")\n",
    "name_list"
   ]
  },
  {
   "cell_type": "code",
   "execution_count": 6,
   "id": "7ec9daf4-1f37-4b7b-8110-c92ce31d7bf1",
   "metadata": {},
   "outputs": [
    {
     "data": {
      "text/plain": [
       "28"
      ]
     },
     "execution_count": 6,
     "metadata": {},
     "output_type": "execute_result"
    }
   ],
   "source": [
    "# d. Pop the last element from age_list.\n",
    "\n",
    "age.pop()\n"
   ]
  },
  {
   "cell_type": "code",
   "execution_count": 7,
   "id": "8adfdbf1-ddcf-40ec-a576-b3c43cc2678b",
   "metadata": {},
   "outputs": [
    {
     "data": {
      "text/plain": [
       "[24, 25, 26, 27, 29, 30, 26]"
      ]
     },
     "execution_count": 7,
     "metadata": {},
     "output_type": "execute_result"
    }
   ],
   "source": [
    "# e. Extend the age_list with additional ages [29, 30, 26].\n",
    "\n",
    "age1 =  [29, 30, 26]\n",
    "\n",
    "age.extend(age1)\n",
    "age"
   ]
  },
  {
   "cell_type": "code",
   "execution_count": 8,
   "id": "df756cd4-fc63-45df-ab30-c519b6a370e6",
   "metadata": {},
   "outputs": [
    {
     "data": {
      "text/plain": [
       "[30, 29, 27, 26, 26, 25, 24]"
      ]
     },
     "execution_count": 8,
     "metadata": {},
     "output_type": "execute_result"
    }
   ],
   "source": [
    "# f. Sort age_list in descending order.\n",
    "\n",
    "age.sort(reverse=True)\n",
    "age"
   ]
  },
  {
   "cell_type": "code",
   "execution_count": 9,
   "id": "14ab9ee7-46fc-48f3-bd45-2b13ede5bbc1",
   "metadata": {},
   "outputs": [
    {
     "data": {
      "text/plain": [
       "[30, 29, 27, 26, 26, 25, 24]"
      ]
     },
     "execution_count": 9,
     "metadata": {},
     "output_type": "execute_result"
    }
   ],
   "source": [
    "# g. Find Max age, Min age and sum of all ages from age_list.\n",
    "\n",
    "age"
   ]
  },
  {
   "cell_type": "code",
   "execution_count": 10,
   "id": "0bda2e23-0724-4b29-a9f3-eecc958db2ca",
   "metadata": {},
   "outputs": [
    {
     "data": {
      "text/plain": [
       "24"
      ]
     },
     "execution_count": 10,
     "metadata": {},
     "output_type": "execute_result"
    }
   ],
   "source": [
    "# minimum age\n",
    "\n",
    "min(age)"
   ]
  },
  {
   "cell_type": "code",
   "execution_count": 11,
   "id": "61405150-b7d7-41b4-ac4e-88de00d79838",
   "metadata": {},
   "outputs": [
    {
     "data": {
      "text/plain": [
       "30"
      ]
     },
     "execution_count": 11,
     "metadata": {},
     "output_type": "execute_result"
    }
   ],
   "source": [
    "# max age\n",
    "\n",
    "max(age)"
   ]
  },
  {
   "cell_type": "code",
   "execution_count": 16,
   "id": "e0fefa93-d285-47a8-a615-cbcc5033c78b",
   "metadata": {},
   "outputs": [
    {
     "data": {
      "text/plain": [
       "187"
      ]
     },
     "execution_count": 16,
     "metadata": {},
     "output_type": "execute_result"
    }
   ],
   "source": [
    "# sum of ages\n",
    "\n",
    "sum(age)"
   ]
  },
  {
   "cell_type": "code",
   "execution_count": null,
   "id": "678f60f6-cbf9-434b-b759-6c5d8650f5e9",
   "metadata": {},
   "outputs": [],
   "source": []
  }
 ],
 "metadata": {
  "kernelspec": {
   "display_name": "Python 3 (ipykernel)",
   "language": "python",
   "name": "python3"
  },
  "language_info": {
   "codemirror_mode": {
    "name": "ipython",
    "version": 3
   },
   "file_extension": ".py",
   "mimetype": "text/x-python",
   "name": "python",
   "nbconvert_exporter": "python",
   "pygments_lexer": "ipython3",
   "version": "3.12.7"
  }
 },
 "nbformat": 4,
 "nbformat_minor": 5
}
