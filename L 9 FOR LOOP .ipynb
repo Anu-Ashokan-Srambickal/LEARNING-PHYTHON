{
 "cells": [
  {
   "cell_type": "markdown",
   "id": "7599ceca-65a6-4c37-860d-993a8b93c093",
   "metadata": {},
   "source": [
    "## 🍁 FOR LOOP"
   ]
  },
  {
   "cell_type": "markdown",
   "id": "188effff-57e2-4924-8903-3943d2dbe7bc",
   "metadata": {},
   "source": [
    "#### ◼️  It  is used for iterating elements from a group of items."
   ]
  },
  {
   "cell_type": "markdown",
   "id": "62eea1df-ac68-4b14-8dcd-d82bd4d0a62a",
   "metadata": {},
   "source": [
    "#### ◼️ Group of items can be:"
   ]
  },
  {
   "cell_type": "markdown",
   "id": "262b2f89-c0b8-4051-beef-59af06291bb4",
   "metadata": {},
   "source": [
    "            1. LIST\n",
    "\n",
    "            2. TUPLE\n",
    "\n",
    "            3. RANGE\n",
    "\n",
    "            4. DICTIONARY \n",
    "            \n",
    "            5. STRING\n",
    "            \n",
    "            6. SET  etc."
   ]
  },
  {
   "cell_type": "markdown",
   "id": "530dc507-3cd9-48a0-a0ca-ffb520c50387",
   "metadata": {},
   "source": [
    "#### ◼️ Non - Iterable objects are:"
   ]
  },
  {
   "cell_type": "markdown",
   "id": "51da137c-9ee3-460a-9f29-0f40af3c6ff8",
   "metadata": {},
   "source": [
    "             1. Integer\n",
    "\n",
    "             2. Float"
   ]
  },
  {
   "cell_type": "markdown",
   "id": "cdf97538-3c2f-422b-aba9-182a58385386",
   "metadata": {},
   "source": [
    "______________________________"
   ]
  },
  {
   "cell_type": "markdown",
   "id": "70775170-164f-4c92-ade0-f27f9c400d54",
   "metadata": {},
   "source": [
    "#### 🗝 SYNTAX"
   ]
  },
  {
   "cell_type": "markdown",
   "id": "41c1cbf6-5710-4f47-9993-92a17332f316",
   "metadata": {},
   "source": [
    "           for variable in iterarble_object:\n",
    "    \n",
    "\t\t\t     loop body"
   ]
  },
  {
   "cell_type": "markdown",
   "id": "69b90f33-6487-4ca2-ae07-ba867ee8c6e0",
   "metadata": {},
   "source": [
    "________________________"
   ]
  },
  {
   "cell_type": "markdown",
   "id": "0e73ab7b-0459-4e05-a829-756167fe6153",
   "metadata": {},
   "source": [
    "#### 🔰 Example: Itetrating items from a list of names."
   ]
  },
  {
   "cell_type": "code",
   "execution_count": 2,
   "id": "43805bbb-4ac6-45c2-bb89-43be65b359ef",
   "metadata": {},
   "outputs": [
    {
     "name": "stdout",
     "output_type": "stream",
     "text": [
      "Tom\n",
      "Jerry\n",
      "Jim\n",
      "Jake\n",
      "Martin\n",
      "Elsa\n",
      "Irene\n"
     ]
    }
   ],
   "source": [
    "names = ['Tom', 'Jerry', 'Jim', 'Jake', 'Martin', 'Elsa', 'Irene']\n",
    "\n",
    "for name in names:\n",
    "    print(name)"
   ]
  },
  {
   "cell_type": "markdown",
   "id": "2da71e70-053b-4ec9-8869-9297f5eb01fc",
   "metadata": {},
   "source": [
    "_______________________"
   ]
  },
  {
   "cell_type": "markdown",
   "id": "0ac3c5c0-465d-418d-9fb2-a52581f4ea12",
   "metadata": {},
   "source": [
    "#### 🔰 Iterating name along with its lenght"
   ]
  },
  {
   "cell_type": "code",
   "execution_count": 8,
   "id": "1dc9ad68-8192-4153-8f26-2ed26d66b64d",
   "metadata": {},
   "outputs": [
    {
     "name": "stdout",
     "output_type": "stream",
     "text": [
      "Tom ---- 3\n",
      "Jerry ---- 5\n",
      "Jim ---- 3\n",
      "Jake ---- 4\n",
      "Martin ---- 6\n",
      "Elsa ---- 4\n",
      "Irene ---- 5\n"
     ]
    }
   ],
   "source": [
    "names = ['Tom', 'Jerry', 'Jim', 'Jake', 'Martin', 'Elsa', 'Irene']\n",
    "\n",
    "for name in names:\n",
    "    print(name, '----', len(name))"
   ]
  },
  {
   "cell_type": "markdown",
   "id": "36b055df-4fee-44e8-b1a6-ad53fe5205c8",
   "metadata": {},
   "source": [
    "__________________________"
   ]
  },
  {
   "cell_type": "markdown",
   "id": "92ca9b20-9d8a-4c48-93bb-3411851152d9",
   "metadata": {},
   "source": [
    "### 🛡 RANGE "
   ]
  },
  {
   "cell_type": "code",
   "execution_count": null,
   "id": "6119cc48-2b83-4299-a608-8ebc7247df02",
   "metadata": {},
   "outputs": [],
   "source": [
    "💠 syntax: range(starting number, ending number, steps)"
   ]
  },
  {
   "cell_type": "code",
   "execution_count": null,
   "id": "a76aca6c-9b26-43b3-b405-e1788fdc8c08",
   "metadata": {},
   "outputs": [],
   "source": []
  },
  {
   "cell_type": "markdown",
   "id": "cfc24504-6829-4f0d-a7fa-db5c05830125",
   "metadata": {},
   "source": [
    "________________"
   ]
  },
  {
   "cell_type": "markdown",
   "id": "2da7b6d5-85bd-4d57-8f1f-e4cd1876a3c9",
   "metadata": {},
   "source": [
    "#### 🔰  Iterating numbers from Range"
   ]
  },
  {
   "cell_type": "code",
   "execution_count": 14,
   "id": "ad3fb80a-3793-4e43-9884-45d30d2b1be9",
   "metadata": {},
   "outputs": [
    {
     "name": "stdout",
     "output_type": "stream",
     "text": [
      "1\n",
      "2\n",
      "3\n",
      "4\n",
      "5\n",
      "6\n",
      "7\n",
      "8\n",
      "9\n",
      "10\n"
     ]
    }
   ],
   "source": [
    "ranges = range(1,11)\n",
    "\n",
    "for i in ranges:\n",
    "    print(i)\n"
   ]
  },
  {
   "cell_type": "markdown",
   "id": "07fc0b37-50e8-4750-bb77-30c14c599d16",
   "metadata": {},
   "source": [
    "_______________________"
   ]
  },
  {
   "cell_type": "markdown",
   "id": "8b80e980-293d-445a-8ce0-274e0c313e63",
   "metadata": {},
   "source": [
    "#### 🔰 Iterating numbers from range in desending order."
   ]
  },
  {
   "cell_type": "code",
   "execution_count": 4,
   "id": "55adb0bd-047c-46b5-99ad-8871e46878da",
   "metadata": {},
   "outputs": [
    {
     "name": "stdout",
     "output_type": "stream",
     "text": [
      "10\n",
      "8\n",
      "6\n",
      "4\n",
      "2\n"
     ]
    }
   ],
   "source": [
    "numbers = range(10,1,-2)\n",
    "\n",
    "for i in numbers:\n",
    "    print(i)"
   ]
  },
  {
   "cell_type": "markdown",
   "id": "55ced08f-2d60-44ca-907d-985b65e01375",
   "metadata": {},
   "source": [
    "_____________________________________"
   ]
  },
  {
   "cell_type": "markdown",
   "id": "cb1a1853-aed2-42e1-8ad5-603d9c0b9d23",
   "metadata": {},
   "source": [
    "#### 🔰 Iterating even numbers"
   ]
  },
  {
   "cell_type": "code",
   "execution_count": 2,
   "id": "48479d0e-1a74-4777-8945-007e9df955e2",
   "metadata": {},
   "outputs": [
    {
     "name": "stdout",
     "output_type": "stream",
     "text": [
      "2\n",
      "4\n",
      "6\n",
      "8\n",
      "10\n"
     ]
    }
   ],
   "source": [
    "numbers = list(range(2,11,2))\n",
    "\n",
    "for i in numbers:\n",
    "    print(i)\n"
   ]
  },
  {
   "cell_type": "markdown",
   "id": "9495169b-5468-4384-86f2-1dc4321df5cf",
   "metadata": {},
   "source": [
    "________________________________"
   ]
  },
  {
   "cell_type": "markdown",
   "id": "b11ba3b4-4e15-4bec-a7c9-5380bb0f0467",
   "metadata": {},
   "source": [
    "### ⚜️ BREAK & CONTINUE STATEMENTS"
   ]
  },
  {
   "cell_type": "markdown",
   "id": "c49e708b-dc67-450d-a548-69e0d8342be8",
   "metadata": {},
   "source": [
    "### ✂️ Break Statement is used to interupt and break the iteration"
   ]
  },
  {
   "cell_type": "code",
   "execution_count": 16,
   "id": "fa34f2ce-0ed0-4792-a2be-90662760713a",
   "metadata": {},
   "outputs": [
    {
     "name": "stdout",
     "output_type": "stream",
     "text": [
      "0\n",
      "1\n",
      "2\n",
      "3\n",
      "4\n",
      "5\n"
     ]
    }
   ],
   "source": [
    "numbers = range(10)\n",
    "\n",
    "for i in numbers:\n",
    "      \n",
    "     if i == 6:\n",
    "        break\n",
    "         \n",
    "     print(i)\n",
    "        "
   ]
  },
  {
   "cell_type": "markdown",
   "id": "f5a744ee-90ab-4d29-8bbe-946e4ca43a85",
   "metadata": {},
   "source": [
    "____________________________"
   ]
  },
  {
   "cell_type": "markdown",
   "id": "bfd7e47e-3631-4c53-9da8-c340bce09908",
   "metadata": {},
   "source": [
    "### 🧮 The continue statement, continues with the next iteration of the loop:\n"
   ]
  },
  {
   "cell_type": "code",
   "execution_count": 17,
   "id": "1cf22d59-3724-433c-9095-aa1a185db1f3",
   "metadata": {},
   "outputs": [
    {
     "name": "stdout",
     "output_type": "stream",
     "text": [
      "0\n",
      "1\n",
      "2\n",
      "3\n",
      "4\n",
      "5\n",
      "7\n",
      "8\n",
      "9\n"
     ]
    }
   ],
   "source": [
    "numbers = range(10)\n",
    "\n",
    "for i in numbers:\n",
    "      \n",
    "     if i == 6:\n",
    "        continue\n",
    "         \n",
    "     print(i)"
   ]
  },
  {
   "cell_type": "markdown",
   "id": "5d42911b-f173-48a9-8a25-cd27255cb96a",
   "metadata": {},
   "source": [
    "____________________________________"
   ]
  },
  {
   "cell_type": "markdown",
   "id": "cb52b66b-6558-4996-b555-b013198f36ad",
   "metadata": {},
   "source": [
    "### ⚜️ NESTED FOR LOOP"
   ]
  },
  {
   "cell_type": "markdown",
   "id": "96fcda07-5e59-425f-a64d-aa39a0bc054b",
   "metadata": {},
   "source": [
    "#### ◼️ LOOP INSIDE A LOOP"
   ]
  },
  {
   "cell_type": "code",
   "execution_count": 18,
   "id": "f59485b1-f939-4a74-9cc2-3e96f66f55ee",
   "metadata": {},
   "outputs": [
    {
     "name": "stdout",
     "output_type": "stream",
     "text": [
      "Hello\n",
      "Hello\n"
     ]
    }
   ],
   "source": [
    "for i in range(2):\n",
    "    print('Hello')\n",
    "    "
   ]
  },
  {
   "cell_type": "code",
   "execution_count": 20,
   "id": "fb1d7c68-a22a-4cb0-b96c-b91d4c6af811",
   "metadata": {},
   "outputs": [
    {
     "name": "stdout",
     "output_type": "stream",
     "text": [
      "Hello\n",
      "World\n",
      "World\n",
      "World\n",
      "World\n",
      "World\n",
      "Hello\n",
      "World\n",
      "World\n",
      "World\n",
      "World\n",
      "World\n"
     ]
    }
   ],
   "source": [
    "for i in range(2):\n",
    "    print('Hello')\n",
    "\n",
    "    for j in range(5):\n",
    "        print('World')"
   ]
  },
  {
   "cell_type": "markdown",
   "id": "7053d281-d7fa-4a19-b165-5142627e0287",
   "metadata": {},
   "source": [
    "______________________"
   ]
  },
  {
   "cell_type": "markdown",
   "id": "3c6ce740-2c80-4c30-8ab0-5946f6e5641d",
   "metadata": {},
   "source": [
    "#### 🔰 Example : 2"
   ]
  },
  {
   "cell_type": "code",
   "execution_count": 16,
   "id": "c8d1a71d-cbce-42ce-b063-5fba59fe2f5f",
   "metadata": {},
   "outputs": [
    {
     "name": "stdin",
     "output_type": "stream",
     "text": [
      "Enter a Number 1:  5\n",
      "Enter a Number 2:  6\n"
     ]
    },
    {
     "name": "stdout",
     "output_type": "stream",
     "text": [
      "5\n",
      "6\n"
     ]
    }
   ],
   "source": [
    "num1 = input('Enter a Number 1: ')\n",
    "num2 = input('Enter a Number 2: ')\n",
    "\n",
    "for i in num1:\n",
    "    print(i)\n",
    "\n",
    "    for j in num2:\n",
    "        print(j)"
   ]
  },
  {
   "cell_type": "markdown",
   "id": "d37adab7-2f52-48dc-96ea-977382d3d2dd",
   "metadata": {},
   "source": [
    "_____________________"
   ]
  },
  {
   "cell_type": "markdown",
   "id": "f5e60473-f461-4031-bf51-0520c777fcf6",
   "metadata": {},
   "source": [
    "### ⚜️ ENUMERATE FUNCTION"
   ]
  },
  {
   "cell_type": "markdown",
   "id": "d004f669-5fb8-4d15-961a-750fc2ec551a",
   "metadata": {},
   "source": [
    "#### ◼️ Indexing from list and its items "
   ]
  },
  {
   "cell_type": "code",
   "execution_count": 27,
   "id": "4e35e0a0-f7bb-4224-9f3c-1d6bb1631a30",
   "metadata": {},
   "outputs": [
    {
     "name": "stdout",
     "output_type": "stream",
     "text": [
      "0 Tom\n",
      "1 Jerry\n",
      "2 Jim\n",
      "3 Jake\n",
      "4 Martin\n",
      "5 Elsa\n",
      "6 Irene\n"
     ]
    }
   ],
   "source": [
    "names = ['Tom', 'Jerry', 'Jim', 'Jake', 'Martin', 'Elsa', 'Irene']\n",
    "\n",
    "for e,n in enumerate(names):\n",
    "    print(e,n)"
   ]
  },
  {
   "cell_type": "markdown",
   "id": "3d39ade2-cd72-4646-9f88-d478392b8e0f",
   "metadata": {},
   "source": [
    "________________________"
   ]
  },
  {
   "cell_type": "markdown",
   "id": "d936320a-4abc-4029-8484-942a1c54f016",
   "metadata": {},
   "source": [
    "### ⚜️ LIST COMPREHENSION"
   ]
  },
  {
   "cell_type": "markdown",
   "id": "caa791a1-b51e-4f24-9c35-f2d7cf213fbc",
   "metadata": {},
   "source": [
    " ◼️ List comprehension is a concise way to create lists in Python. \n",
    "\n",
    " ◼️ It allows you to generate a new list by applying an expression to each item in an iterable (like a list, range, or string), optionally including a condition.\n",
    "\n",
    "\n"
   ]
  },
  {
   "cell_type": "markdown",
   "id": "82cd2ebe-7254-4a30-b1d3-b2ee10154093",
   "metadata": {},
   "source": [
    "#### 📌 Syntax:"
   ]
  },
  {
   "cell_type": "markdown",
   "id": "a2d0bb60-3fab-4f66-a63f-ea0b35dddc25",
   "metadata": {},
   "source": [
    "[expression for item in iterable if condition]\n"
   ]
  },
  {
   "cell_type": "markdown",
   "id": "cc87561f-56f5-48ba-87df-02863090c033",
   "metadata": {},
   "source": [
    "◼️ expression: The value to include in the new list (can be transformed).\n",
    "\n",
    "◼️ item: The variable representing each element in the iterable.\n",
    "\n",
    "◼️ iterable: A sequence (like range, list, etc.).\n",
    "\n",
    "◼️ condition (optional): A filter to include only certain items.\n",
    "\n",
    "\n"
   ]
  },
  {
   "cell_type": "code",
   "execution_count": 2,
   "id": "93f8e81c-9bf2-4064-8db1-772cc57f3582",
   "metadata": {},
   "outputs": [],
   "source": [
    "even_numbers = [x for x in range(10) if x % 2 == 0]"
   ]
  },
  {
   "cell_type": "code",
   "execution_count": null,
   "id": "017d8d98-d207-41d9-ad08-97400b2f0722",
   "metadata": {},
   "outputs": [],
   "source": [
    "fruits = ['mango', 'apple', 'grapes', 'orange', 'blueberry']"
   ]
  },
  {
   "cell_type": "code",
   "execution_count": null,
   "id": "670f409a-b329-440a-99f2-cad6e217befd",
   "metadata": {},
   "outputs": [],
   "source": []
  },
  {
   "cell_type": "markdown",
   "id": "c04fd354-54ca-42e0-ad01-70518d14bf37",
   "metadata": {},
   "source": [
    "_______________________"
   ]
  },
  {
   "cell_type": "markdown",
   "id": "d253b158-a7be-40b1-a04c-5ef95df87959",
   "metadata": {},
   "source": [
    "### Multiplication Table Generator"
   ]
  },
  {
   "cell_type": "markdown",
   "id": "6158bd44-7e8b-4141-a732-0b6a26e29674",
   "metadata": {},
   "source": [
    "Problem Statement:"
   ]
  },
  {
   "cell_type": "markdown",
   "id": "7d2f1afc-4716-4951-b536-2f32cf2e6bf9",
   "metadata": {},
   "source": [
    "Create a Python program that generates and prints a multiplication table (from 1 to 10) for a given number using a for loop and the range\n",
    "function."
   ]
  },
  {
   "cell_type": "markdown",
   "id": "57c5e907-31e0-4fb9-90e1-3bd12c1b3c8d",
   "metadata": {},
   "source": [
    "Step wise Instructions:"
   ]
  },
  {
   "cell_type": "markdown",
   "id": "cb2e262c-51fc-44d3-a461-99a63e639fd0",
   "metadata": {},
   "source": [
    "1. Prompt user for Input.\n",
    "  \n",
    "    Ask the user to enter a number for which they want to generate a multiplication table."
   ]
  },
  {
   "cell_type": "markdown",
   "id": "17cb9e8d-7fed-4718-b566-f1905f3fcd46",
   "metadata": {},
   "source": [
    "2. Generate the Multiplication Table: Use a for loop to iterate through the numbers 1 to 10. \n",
    "\n",
    "    In each iteration, calculate the product of the user's number and the current number from the loop."
   ]
  },
  {
   "cell_type": "markdown",
   "id": "5a5c77cb-fdd3-4728-8431-d940ef1c4389",
   "metadata": {},
   "source": [
    "3. Display the Multiplication Table:\n",
    "\n",
    "   Print each line of the multiplication table in the format: \"number x i = result\"."
   ]
  },
  {
   "cell_type": "markdown",
   "id": "99bf7aeb-3383-46d9-bc7c-3ffad43e9b87",
   "metadata": {},
   "source": [
    "### Sample Output:"
   ]
  },
  {
   "cell_type": "markdown",
   "id": "91ee2f34-b7a6-42c3-a40a-2690bbdd6d54",
   "metadata": {},
   "source": [
    "\n",
    "Enter the number for which you want the multiplication table: 5\n",
    "\n",
    "5 x 1 = 5\n",
    "\n",
    "5 x 2 = 10\n",
    "\n",
    "5 x 3 = 15\n",
    "\n",
    "5 x 4 = 20\n",
    "\n",
    "5 x 5 = 25\n",
    "\n",
    "5 x 6 = 30\n",
    "\n",
    "5 x 7 = 35\n",
    "\n",
    "5 x 8 = 40\n",
    "\n",
    "5 x 9 = 45\n",
    "\n",
    "5 x 10 = 50\n",
    " "
   ]
  },
  {
   "cell_type": "code",
   "execution_count": 11,
   "id": "08ba617a-44ed-4495-8f87-dd39952530fa",
   "metadata": {},
   "outputs": [
    {
     "name": "stdout",
     "output_type": "stream",
     "text": [
      "5 x 1 = 5\n",
      "5 x 2 = 10\n",
      "5 x 3 = 15\n",
      "5 x 4 = 20\n",
      "5 x 5 = 25\n",
      "5 x 6 = 30\n",
      "5 x 7 = 35\n",
      "5 x 8 = 40\n",
      "5 x 9 = 45\n",
      "5 x 10 = 50\n"
     ]
    }
   ],
   "source": [
    "number = 5\n",
    "\n",
    "for i in range(1,11):\n",
    "    result = number * i\n",
    "    print(f'{number} x {i} = {result}')\n",
    "   \n",
    "        "
   ]
  },
  {
   "cell_type": "markdown",
   "id": "30d9884b-8c14-4a7f-af1b-f3e954c998ae",
   "metadata": {},
   "source": [
    "\n",
    "____________________________________________________________________________________________\n"
   ]
  },
  {
   "cell_type": "code",
   "execution_count": 14,
   "id": "b00dcf72-a73f-46fa-9d04-53c65161ffbd",
   "metadata": {},
   "outputs": [
    {
     "name": "stdin",
     "output_type": "stream",
     "text": [
      "Enter a Number:  2\n"
     ]
    },
    {
     "name": "stdout",
     "output_type": "stream",
     "text": [
      "2 x 1 = 2\n",
      "2 x 2 = 4\n",
      "2 x 3 = 6\n",
      "2 x 4 = 8\n",
      "2 x 5 = 10\n",
      "2 x 6 = 12\n",
      "2 x 7 = 14\n",
      "2 x 8 = 16\n",
      "2 x 9 = 18\n",
      "2 x 10 = 20\n"
     ]
    }
   ],
   "source": [
    "n = int(input('Enter a Number: '))\n",
    "\n",
    "for i in range(1,11):\n",
    "        result = n*i\n",
    "        print(f'{n} x {i} = {n*i}')\n"
   ]
  },
  {
   "cell_type": "markdown",
   "id": "7c6284a4-9227-4faf-b502-2612a46ba422",
   "metadata": {},
   "source": [
    "__________________________________________________________________________________"
   ]
  },
  {
   "cell_type": "code",
   "execution_count": null,
   "id": "9c54d840-164d-4cd8-801c-30d1abdbc931",
   "metadata": {},
   "outputs": [],
   "source": []
  },
  {
   "cell_type": "code",
   "execution_count": null,
   "id": "649e0479-dc5a-418c-a11d-47c685ab3227",
   "metadata": {},
   "outputs": [],
   "source": []
  },
  {
   "cell_type": "code",
   "execution_count": null,
   "id": "e3fb99fe-67a0-42e1-bf09-5f81402abff9",
   "metadata": {},
   "outputs": [],
   "source": []
  },
  {
   "cell_type": "code",
   "execution_count": null,
   "id": "eba0e124-f035-40f9-a5b4-f9c9736820ae",
   "metadata": {},
   "outputs": [],
   "source": []
  },
  {
   "cell_type": "code",
   "execution_count": null,
   "id": "6ac3a713-1867-40b8-9e48-7defcae1ff47",
   "metadata": {},
   "outputs": [],
   "source": []
  }
 ],
 "metadata": {
  "kernelspec": {
   "display_name": "Python 3 (ipykernel)",
   "language": "python",
   "name": "python3"
  },
  "language_info": {
   "codemirror_mode": {
    "name": "ipython",
    "version": 3
   },
   "file_extension": ".py",
   "mimetype": "text/x-python",
   "name": "python",
   "nbconvert_exporter": "python",
   "pygments_lexer": "ipython3",
   "version": "3.12.7"
  }
 },
 "nbformat": 4,
 "nbformat_minor": 5
}
