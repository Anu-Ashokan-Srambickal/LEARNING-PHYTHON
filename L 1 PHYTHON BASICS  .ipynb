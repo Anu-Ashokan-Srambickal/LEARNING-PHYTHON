{
 "cells": [
  {
   "cell_type": "markdown",
   "id": "0b4bde69-fcd8-4834-8e01-40976c1dae1b",
   "metadata": {},
   "source": [
    "# PHYTHON"
   ]
  },
  {
   "cell_type": "markdown",
   "id": "a420257f-a459-448a-82bf-e641c9c09b15",
   "metadata": {},
   "source": [
    "_______________"
   ]
  },
  {
   "cell_type": "markdown",
   "id": "16378a0b-4bb3-4895-ac4b-51c78f66d1ae",
   "metadata": {},
   "source": [
    "#### 🍁 VARIABLES : DATA IS STORED IN VARIABLES"
   ]
  },
  {
   "cell_type": "markdown",
   "id": "5e0a5d58-5895-46cc-84e5-b192420513f9",
   "metadata": {},
   "source": [
    "- A variable in programming is like a labeled container that stores data you want to use or manipulate later.\n",
    "\n",
    "- variable is case sensitive"
   ]
  },
  {
   "cell_type": "markdown",
   "id": "684dae33-4505-471a-9a8a-a8019b8835ea",
   "metadata": {},
   "source": [
    "#### 🍂 Declare a Variable"
   ]
  },
  {
   "cell_type": "code",
   "execution_count": null,
   "id": "92301583-2893-49c6-bd6e-92a7dfba668d",
   "metadata": {},
   "outputs": [],
   "source": [
    "x = 25          # 25 is Integer"
   ]
  },
  {
   "cell_type": "code",
   "execution_count": null,
   "id": "2b2ad963-0232-4760-9cd7-b4cad36340af",
   "metadata": {},
   "outputs": [],
   "source": [
    "y ='name'       # name is string\n",
    "z = \"phython\"   # string is added in either single quote or double quote"
   ]
  },
  {
   "cell_type": "code",
   "execution_count": null,
   "id": "21b6d798-f409-4e41-96bd-68ebc5d6fec2",
   "metadata": {},
   "outputs": [],
   "source": [
    "a = 33.6       # 33.6 is float"
   ]
  },
  {
   "cell_type": "markdown",
   "id": "fc03f560-1208-4153-884a-02c2d5af99fe",
   "metadata": {},
   "source": [
    "____________"
   ]
  },
  {
   "cell_type": "markdown",
   "id": "9f344d8b-0c6b-46ab-a169-5e5c6046da63",
   "metadata": {},
   "source": [
    "#### 🍂 PRINT FUNCTION - print()"
   ]
  },
  {
   "cell_type": "markdown",
   "id": "1e7cae1a-febe-4f8e-b5a6-5b60c80afc82",
   "metadata": {},
   "source": [
    "- print() FUNCTION IS USED TO GET THE OUTPUT"
   ]
  },
  {
   "cell_type": "code",
   "execution_count": 5,
   "id": "635625ed-39c6-4d29-8412-4f4259f65d48",
   "metadata": {},
   "outputs": [
    {
     "name": "stdout",
     "output_type": "stream",
     "text": [
      "88\n"
     ]
    }
   ],
   "source": [
    "x = 88\n",
    "print(x)"
   ]
  },
  {
   "cell_type": "markdown",
   "id": "86652d8b-8469-4ab4-8ab1-256867e796d9",
   "metadata": {},
   "source": [
    "___________"
   ]
  },
  {
   "cell_type": "markdown",
   "id": "a8d0a83d-18dd-4407-ab1e-c5056129daff",
   "metadata": {},
   "source": [
    "#### 🍂 TYPE FUNCTION - type()"
   ]
  },
  {
   "cell_type": "markdown",
   "id": "404b2569-ee6d-44b6-91ea-647a13ba0344",
   "metadata": {},
   "source": [
    "- The type() function in Python is used to determine the type of an object.\n"
   ]
  },
  {
   "cell_type": "code",
   "execution_count": 78,
   "id": "3489cedf-9047-43d7-a1ca-f4d10d69e467",
   "metadata": {},
   "outputs": [
    {
     "data": {
      "text/plain": [
       "int"
      ]
     },
     "execution_count": 78,
     "metadata": {},
     "output_type": "execute_result"
    }
   ],
   "source": [
    "type(x)    "
   ]
  },
  {
   "cell_type": "markdown",
   "id": "5557274e-6d61-4865-8c04-ac82c2854c12",
   "metadata": {},
   "source": [
    "__________________"
   ]
  },
  {
   "cell_type": "markdown",
   "id": "86bfcb24-1d91-4b08-b40c-9fd7efa1a72e",
   "metadata": {},
   "source": [
    "### 🍒 DATA TYPES"
   ]
  },
  {
   "cell_type": "markdown",
   "id": "4c5bc588-d123-4cc2-abb1-20cd6a3362d3",
   "metadata": {},
   "source": [
    "                1. Numeric Data Types : Integer, Float\n",
    "                \n",
    "                2. String\n",
    "                \n",
    "                3. List\n",
    "                \n",
    "                4. Tuple\n",
    "                \n",
    "                5. Dictionaries\n",
    "                \n",
    "                6. Set\n",
    "                \n",
    "                7. Boolean Data types\n",
    "\n",
    "List, Tuple, Dictonaries, Set stores a colection of vales(or group of vales)."
   ]
  },
  {
   "cell_type": "markdown",
   "id": "1a5940f7-ffe2-46e8-ab60-f5db0a369590",
   "metadata": {},
   "source": [
    "_____________________"
   ]
  },
  {
   "cell_type": "markdown",
   "id": "96d9c243-113e-45cc-b22e-bab1c121ff9b",
   "metadata": {},
   "source": [
    "### 🍒 Data Types can be Categorized to:\n",
    "\n",
    "                1. Mutable or\n",
    "   \n",
    "                2. Inmutable Data Types\n",
    "\n",
    "🟧  Mutable data types can be altered after creation while inmutable cannot be changed.\n",
    "\n",
    "                🔻 Immutable data types includes : Integer, Float , String and Tuple.\n",
    "\n",
    "                🔻 Mutable data types includes : List and Dictionary \n",
    "\n",
    "                 🔻 Partially Mutable : Set"
   ]
  },
  {
   "cell_type": "markdown",
   "id": "701282d5-3d33-4fce-a9bf-82aad57dded1",
   "metadata": {},
   "source": [
    "_______________________"
   ]
  },
  {
   "cell_type": "markdown",
   "id": "7b041da9-927f-41b8-9f05-d33621810b71",
   "metadata": {},
   "source": [
    "#### 🍒 CONVERTING DATA TYPES"
   ]
  },
  {
   "cell_type": "markdown",
   "id": "baab6386-c794-4a5d-abbc-eb8c4823ecf3",
   "metadata": {},
   "source": [
    "#### ☘️ Converting Integer to Float"
   ]
  },
  {
   "cell_type": "code",
   "execution_count": 7,
   "id": "c44953a1-626f-4f7d-a5c2-1f9941783011",
   "metadata": {},
   "outputs": [
    {
     "name": "stdout",
     "output_type": "stream",
     "text": [
      "<class 'float'>\n"
     ]
    }
   ],
   "source": [
    "a = 5     # 5 is Integer\n",
    "b = float(a)\n",
    "print(type(b))"
   ]
  },
  {
   "cell_type": "markdown",
   "id": "4e4da4e2-4338-470b-9a0d-70869687b3cd",
   "metadata": {},
   "source": [
    "### ☘️ Converting Float to Integer"
   ]
  },
  {
   "cell_type": "code",
   "execution_count": 8,
   "id": "a6c77d31-685a-4989-ba4b-b93916b616c5",
   "metadata": {},
   "outputs": [
    {
     "name": "stdout",
     "output_type": "stream",
     "text": [
      "<class 'int'>\n"
     ]
    }
   ],
   "source": [
    "c = int(b)\n",
    "print(type(c))"
   ]
  },
  {
   "cell_type": "markdown",
   "id": "8ffb8e4e-bb6d-45f3-a9dd-67b6e8458e08",
   "metadata": {},
   "source": [
    "### ☘️ Converting Integer to String"
   ]
  },
  {
   "cell_type": "code",
   "execution_count": 9,
   "id": "b1bbf2ad-fb46-4dfb-81cb-31b8571c36d0",
   "metadata": {},
   "outputs": [
    {
     "name": "stdout",
     "output_type": "stream",
     "text": [
      "5\n",
      "<class 'str'>\n"
     ]
    }
   ],
   "source": [
    "d = str(c)\n",
    "print(d)\n",
    "print(type(d))"
   ]
  },
  {
   "cell_type": "markdown",
   "id": "6f556961-ff0d-41ad-8556-afe6a9bd4114",
   "metadata": {},
   "source": [
    "_____________"
   ]
  },
  {
   "cell_type": "markdown",
   "id": "0467f5be-57a5-42f7-9133-3a9aa3bfeead",
   "metadata": {},
   "source": [
    "### 🍒 INPUT FUNCTION "
   ]
  },
  {
   "cell_type": "code",
   "execution_count": 10,
   "id": "822e7b6f-132d-4555-aedc-dc0be173baf4",
   "metadata": {},
   "outputs": [
    {
     "name": "stdin",
     "output_type": "stream",
     "text": [
      "Enter a number:  88\n"
     ]
    }
   ],
   "source": [
    "num = input(\"Enter a number: \")        # Promt to enter a number into a variables"
   ]
  },
  {
   "cell_type": "code",
   "execution_count": 11,
   "id": "5dc2bfe6-637b-41a7-a425-857dd784173e",
   "metadata": {},
   "outputs": [
    {
     "name": "stdout",
     "output_type": "stream",
     "text": [
      "88\n",
      "<class 'str'>\n"
     ]
    }
   ],
   "source": [
    "print(num)                             # output and data type \n",
    "print(type(num))"
   ]
  },
  {
   "cell_type": "markdown",
   "id": "9527797c-f2d8-4eb6-b84e-14e8489b85b8",
   "metadata": {},
   "source": [
    "_______________"
   ]
  },
  {
   "cell_type": "markdown",
   "id": "084c50f1-8830-41d9-b56d-15ccf3b53353",
   "metadata": {},
   "source": [
    "#### 🍂 MATHEMATICAL OPERATION"
   ]
  },
  {
   "cell_type": "markdown",
   "id": "8ee29518-3782-448d-b681-9fa7d274a237",
   "metadata": {},
   "source": [
    "#### ☘️ ADDITION"
   ]
  },
  {
   "cell_type": "code",
   "execution_count": 13,
   "id": "7da19cd8-5c72-4f25-b35b-4a819af59964",
   "metadata": {},
   "outputs": [
    {
     "name": "stdout",
     "output_type": "stream",
     "text": [
      "56\n"
     ]
    }
   ],
   "source": [
    "print(11+45)                 # method1"
   ]
  },
  {
   "cell_type": "code",
   "execution_count": 14,
   "id": "4fb23473-3cea-4f83-8445-6cc13fcf60f1",
   "metadata": {},
   "outputs": [
    {
     "name": "stdout",
     "output_type": "stream",
     "text": [
      "89\n"
     ]
    }
   ],
   "source": [
    "num1 = 22                    # method2\n",
    "num2 = 67\n",
    "total = num1 + num2\n",
    "print(total)"
   ]
  },
  {
   "cell_type": "markdown",
   "id": "e0c864f7-58ed-42d7-a4ab-39f315774f98",
   "metadata": {},
   "source": [
    "_______________"
   ]
  },
  {
   "cell_type": "markdown",
   "id": "0f67530e-f002-4fa7-adf3-ce6644e3684a",
   "metadata": {},
   "source": [
    "### 🌱 Exercise 1"
   ]
  },
  {
   "cell_type": "markdown",
   "id": "5035519a-f5c8-45c8-8ecd-f13f4c0727ea",
   "metadata": {},
   "source": [
    "_____________"
   ]
  },
  {
   "cell_type": "markdown",
   "id": "aae51194-012b-4c28-9344-7b1dd1ccaefc",
   "metadata": {},
   "source": [
    "### ⚜️ 1. String Concatenation:\n",
    "- Write a Python program that takes two strings i.e string 1 “Hello ”, string 2 get name as input from the user and concatenates them together. \n",
    "\n",
    "                               Display the concatenated string as the output.\n",
    "\n",
    "- Sample Output:\n",
    "\n",
    "                             Enter your Name: Zara\n",
    "\n",
    "                             Hello Zara"
   ]
  },
  {
   "cell_type": "code",
   "execution_count": 140,
   "id": "e75856e1-03ee-42f4-acd5-f63fb39e5fb7",
   "metadata": {},
   "outputs": [
    {
     "name": "stdout",
     "output_type": "stream",
     "text": [
      "Hello Zara\n"
     ]
    }
   ],
   "source": [
    "string1 = \"Hello \"         # string1\n",
    "string2 = \"Zara\"           # string2\n",
    "                     \n",
    "s = (string1 + string2)   # concatenation of string\n",
    "print(s)"
   ]
  },
  {
   "cell_type": "markdown",
   "id": "bb2e5c11-428c-48bf-a3f1-f92d7312e7b5",
   "metadata": {},
   "source": [
    "_______________"
   ]
  },
  {
   "cell_type": "markdown",
   "id": "a86ebad6-3090-4c87-b596-aa27318e6be7",
   "metadata": {},
   "source": [
    "### 🌱 Excercise 2"
   ]
  },
  {
   "cell_type": "markdown",
   "id": "6e645947-a9e2-4fb1-9186-9b21ecb855ce",
   "metadata": {},
   "source": [
    "2 . Now concatenate string 3 “, welcome to Python programming” to the existing string and display the output string.\n",
    "    \n",
    "- Sample Output:\n",
    "    \n",
    "       Hello Zara, welcome to Python programming"
   ]
  },
  {
   "cell_type": "markdown",
   "id": "63de01f2-785a-436a-9462-107b24d8fbc7",
   "metadata": {},
   "source": [
    "srting3 = \"Hello Zara, \"\n",
    "string4 = \"welcome to Python programming\"\n",
    "\n",
    "print(srting3 + string4)\n"
   ]
  },
  {
   "cell_type": "markdown",
   "id": "f2171535-e214-4ef4-80dd-16bf1b8d5255",
   "metadata": {},
   "source": [
    "_________________"
   ]
  },
  {
   "cell_type": "markdown",
   "id": "adf43ff8-1339-47ab-a153-0946e1574602",
   "metadata": {},
   "source": [
    "___________"
   ]
  },
  {
   "cell_type": "markdown",
   "id": "a3f88e2f-0050-460c-836c-88f936bf0c5e",
   "metadata": {},
   "source": [
    "### 🔴 STRING CONVERSION"
   ]
  },
  {
   "cell_type": "markdown",
   "id": "2e8cab1e-b32b-432d-9578-2e4759cf3541",
   "metadata": {},
   "source": [
    "#### 🔰 1. CAPITALIZE FUNCTION"
   ]
  },
  {
   "cell_type": "markdown",
   "id": "cc03ba24-33d1-4c8d-a09a-b6a5382079e4",
   "metadata": {},
   "source": [
    "SYNTAX : .capitalize()\n",
    "\n",
    "Capitalize first letter in a word ."
   ]
  },
  {
   "cell_type": "code",
   "execution_count": 53,
   "id": "8670dc10-f1ba-4125-bc49-ce0509ad3cc4",
   "metadata": {},
   "outputs": [
    {
     "name": "stdout",
     "output_type": "stream",
     "text": [
      "Phython\n"
     ]
    }
   ],
   "source": [
    "var = 'phython'\n",
    "\n",
    "c = var.capitalize()\n",
    "print(c)"
   ]
  },
  {
   "cell_type": "markdown",
   "id": "bbcb0655-520c-4047-9453-123674e03f56",
   "metadata": {},
   "source": [
    "________________"
   ]
  },
  {
   "cell_type": "markdown",
   "id": "37b15e82-0cfc-46b4-8a4b-4ebc71db4ba7",
   "metadata": {},
   "source": [
    "#### 🔰 2 . LOWER FUNCTION"
   ]
  },
  {
   "cell_type": "markdown",
   "id": "7b513289-bf2e-41e7-b9ea-a28e71110f01",
   "metadata": {},
   "source": [
    "SYNTAX : .lower()\n",
    "\n",
    "converts to lower case"
   ]
  },
  {
   "cell_type": "code",
   "execution_count": 54,
   "id": "e37ca9db-5c1c-4441-9714-225026ad5c43",
   "metadata": {},
   "outputs": [
    {
     "name": "stdout",
     "output_type": "stream",
     "text": [
      "phython\n"
     ]
    }
   ],
   "source": [
    "var = 'PHYTHON'\n",
    "\n",
    "c = var.lower()\n",
    "print(c)"
   ]
  },
  {
   "cell_type": "markdown",
   "id": "83ac1852-b1ab-4ae2-bf01-f768614528b3",
   "metadata": {},
   "source": [
    "_______________"
   ]
  },
  {
   "cell_type": "markdown",
   "id": "507279e2-21ab-4089-ba70-787c44632225",
   "metadata": {},
   "source": [
    "#### 🔰 3. UPPER FUNCTION"
   ]
  },
  {
   "cell_type": "markdown",
   "id": "5e2bc4de-9d96-4125-b8c9-67c80ef04757",
   "metadata": {},
   "source": [
    "SYNTAX : .upper()\n",
    "\n",
    "Converts all words to upper case"
   ]
  },
  {
   "cell_type": "code",
   "execution_count": 58,
   "id": "653754be-5ed4-4430-b818-c3fc46c05801",
   "metadata": {},
   "outputs": [
    {
     "name": "stdout",
     "output_type": "stream",
     "text": [
      "PHYTHON\n"
     ]
    }
   ],
   "source": [
    "var = 'phython'\n",
    "c = var.upper()\n",
    "print(c)"
   ]
  },
  {
   "cell_type": "markdown",
   "id": "507d15d4-68d2-462b-a07a-80cf9b7f2e86",
   "metadata": {},
   "source": [
    "#### 🔰 TITLE FUNCTION"
   ]
  },
  {
   "cell_type": "markdown",
   "id": "45f0816e-7686-4b45-8f47-325af0337c0c",
   "metadata": {},
   "source": [
    "SYNTAX : .title()\n",
    "\n",
    "Capitalize all the first letter in a sentance"
   ]
  },
  {
   "cell_type": "code",
   "execution_count": 57,
   "id": "cd391048-7c3c-470e-865a-c6f205b2cabb",
   "metadata": {},
   "outputs": [
    {
     "name": "stdout",
     "output_type": "stream",
     "text": [
      "Welcome To Python Programming\n"
     ]
    }
   ],
   "source": [
    "print('welcome to Python programming'.title())"
   ]
  },
  {
   "cell_type": "markdown",
   "id": "5066b4fe-b5af-4840-8f66-07dca781dc46",
   "metadata": {},
   "source": [
    "__________"
   ]
  },
  {
   "cell_type": "markdown",
   "id": "29cbdcfb-0fc9-4167-9b9b-487477e1f234",
   "metadata": {},
   "source": [
    "#### 🔰 SWAPCASE FUNCTION"
   ]
  },
  {
   "cell_type": "markdown",
   "id": "2c0eab83-0d10-47e2-ae00-e63a926bc40e",
   "metadata": {},
   "source": [
    "SYNTAX : .swapcase()\n",
    "\n",
    "Swaps the letter cases"
   ]
  },
  {
   "cell_type": "code",
   "execution_count": 60,
   "id": "b189f4f7-6193-425a-88a6-e6052c9009cd",
   "metadata": {},
   "outputs": [
    {
     "name": "stdout",
     "output_type": "stream",
     "text": [
      "WELCOME TO pYTHON PROGRAMMING\n"
     ]
    }
   ],
   "source": [
    "print('welcome to Python programming'.swapcase())"
   ]
  },
  {
   "cell_type": "markdown",
   "id": "9a9d96d9-a26e-4a1f-adbb-7354eff21736",
   "metadata": {},
   "source": [
    "___________"
   ]
  },
  {
   "cell_type": "markdown",
   "id": "d969943c-a445-4f2c-94ab-610e11949600",
   "metadata": {},
   "source": [
    "#### 🔰 COUNT FUNCTION"
   ]
  },
  {
   "cell_type": "markdown",
   "id": "8284bb27-c579-4947-8d32-78e6c97636f1",
   "metadata": {},
   "source": [
    "SYNTAX : .count()\n",
    "\n",
    "It is case sensitive."
   ]
  },
  {
   "cell_type": "code",
   "execution_count": 64,
   "id": "e6c08ee0-b390-4e81-8283-32c90c3cd270",
   "metadata": {},
   "outputs": [
    {
     "name": "stdout",
     "output_type": "stream",
     "text": [
      "2\n"
     ]
    }
   ],
   "source": [
    "print('phython'.count('h'))      # count is case sensitive (upper and lower case)"
   ]
  },
  {
   "cell_type": "code",
   "execution_count": 65,
   "id": "4bdda7a9-d228-4a2d-b4f2-336e214c1557",
   "metadata": {},
   "outputs": [
    {
     "name": "stdout",
     "output_type": "stream",
     "text": [
      "1\n"
     ]
    }
   ],
   "source": [
    "text ='Eagle Eyes'            # Indexing stats from 0 and even space is considered as a charecter, phython indexing checks the ending index till 6 not 7\n",
    "print(text.count('e', 2, 7))  # e between the index 2 and 7, string charecter should be in quotes"
   ]
  },
  {
   "cell_type": "markdown",
   "id": "46c1cb74-3b74-4f71-9190-38cf162be977",
   "metadata": {},
   "source": [
    "________________"
   ]
  },
  {
   "cell_type": "markdown",
   "id": "c0239bba-4ff0-4419-b6e8-02783eb33142",
   "metadata": {},
   "source": [
    "#### 🔰 CONVERT TO STRING WITH FORMATTING"
   ]
  },
  {
   "cell_type": "markdown",
   "id": "70b6ec7b-9f03-495c-b15c-9eb00fc9bb1d",
   "metadata": {},
   "source": [
    "- You can also use f-strings or .format() for cleaner conversion:"
   ]
  },
  {
   "cell_type": "code",
   "execution_count": 11,
   "id": "bf259ddf-73f5-429a-9588-ff85c4841c13",
   "metadata": {},
   "outputs": [
    {
     "name": "stdout",
     "output_type": "stream",
     "text": [
      "Sara scored 95 points.\n"
     ]
    }
   ],
   "source": [
    "name = \"Sara\"\n",
    "score = 95\n",
    "\n",
    "print(f\"{name} scored {score} points.\")  # Output: Sara scored 95 points."
   ]
  },
  {
   "cell_type": "markdown",
   "id": "9de62f83-883d-470e-8d61-40f8b522c863",
   "metadata": {},
   "source": [
    "______________"
   ]
  },
  {
   "cell_type": "markdown",
   "id": "8ca460b2-e858-47f4-922a-5c7dfdfd672d",
   "metadata": {},
   "source": [
    "#### 🔰 CONVERTING LIST TO STRING"
   ]
  },
  {
   "cell_type": "code",
   "execution_count": 19,
   "id": "ad24cf8d-d58f-4449-92be-0078a6ece35a",
   "metadata": {},
   "outputs": [
    {
     "name": "stdout",
     "output_type": "stream",
     "text": [
      "[1, 2, 3]\n"
     ]
    }
   ],
   "source": [
    "my_list = [1, 2, 3]\n",
    "\n",
    "\n",
    "str_list = str(my_list)\n",
    "\n",
    "print(str_list)"
   ]
  },
  {
   "cell_type": "markdown",
   "id": "edad815c-88e6-4914-ac42-61dff0df954f",
   "metadata": {},
   "source": [
    "______________________"
   ]
  },
  {
   "cell_type": "markdown",
   "id": "1c3c290e-1830-4308-a12f-0744106b5bad",
   "metadata": {},
   "source": [
    "#### 🔰 DICTIONARY TO STRING"
   ]
  },
  {
   "cell_type": "code",
   "execution_count": 18,
   "id": "7f373ed8-1f94-4082-84b4-dbb6d95fbfdc",
   "metadata": {},
   "outputs": [
    {
     "name": "stdout",
     "output_type": "stream",
     "text": [
      "{'name': 'Ali', 'age': 30}\n"
     ]
    }
   ],
   "source": [
    "my_dict = {'name': 'Ali', 'age': 30}\n",
    "\n",
    "\n",
    "str_dict = str(my_dict)\n",
    "\n",
    "print(str_dict)"
   ]
  },
  {
   "cell_type": "markdown",
   "id": "203216cd-7ed7-419d-9b42-7c35dc1e6a87",
   "metadata": {},
   "source": [
    "_________________"
   ]
  },
  {
   "cell_type": "markdown",
   "id": "3bc93d1a-68aa-488e-82fb-536651f83b7f",
   "metadata": {},
   "source": [
    "#### 🔰 JOINING STRINGS FROM LIST"
   ]
  },
  {
   "cell_type": "markdown",
   "id": "37fdae9c-0ba5-436d-bb24-8fcfaef85720",
   "metadata": {},
   "source": [
    "- If you have a list of strings and want to combine them:"
   ]
  },
  {
   "cell_type": "code",
   "execution_count": 17,
   "id": "b0d57237-b01a-4a67-8c8d-445193ba7653",
   "metadata": {},
   "outputs": [
    {
     "name": "stdout",
     "output_type": "stream",
     "text": [
      "Hello world !\n"
     ]
    }
   ],
   "source": [
    "words = ['Hello', 'world', '!']\n",
    "\n",
    "sentence = ' '.join(words)\n",
    "print(sentence)  "
   ]
  },
  {
   "cell_type": "markdown",
   "id": "209604a6-6ee7-44e0-97bc-32bb251b4bb5",
   "metadata": {},
   "source": [
    "____________"
   ]
  },
  {
   "cell_type": "markdown",
   "id": "6219541a-1b44-442c-ac2b-ceb302b0ef97",
   "metadata": {},
   "source": [
    "#### 🔰 FORMATING RESULT TO ROUND FLOAT TO 2 DECIMAL POINTS"
   ]
  },
  {
   "cell_type": "code",
   "execution_count": 12,
   "id": "7bfa6b29-249e-4870-a11b-8c97c5de8448",
   "metadata": {},
   "outputs": [
    {
     "name": "stdout",
     "output_type": "stream",
     "text": [
      "3.14\n"
     ]
    }
   ],
   "source": [
    "raw_number = 3.1415926535\n",
    "\n",
    "formatted = f\"{raw_number:.2f}\"  \n",
    "print(formatted)"
   ]
  },
  {
   "cell_type": "markdown",
   "id": "10eb31de-3f67-44bd-ad08-169cf292162a",
   "metadata": {},
   "source": [
    "______________________"
   ]
  },
  {
   "cell_type": "markdown",
   "id": "5553cc9b-aa1b-4dcb-9c0d-993e18bde46d",
   "metadata": {},
   "source": [
    "### 🔴 STRING COMPARISION FUNCTION"
   ]
  },
  {
   "cell_type": "markdown",
   "id": "f7f465af-9537-4835-9eb6-0e1794fc34f5",
   "metadata": {},
   "source": [
    "#### ⭐ islower()"
   ]
  },
  {
   "cell_type": "code",
   "execution_count": 71,
   "id": "e043ac42-100a-47fb-a88d-3720cac27bf8",
   "metadata": {},
   "outputs": [
    {
     "name": "stdout",
     "output_type": "stream",
     "text": [
      "False\n"
     ]
    }
   ],
   "source": [
    "text ='Eagle Eyes' \n",
    "\n",
    "print(text.islower())   # returns true if all charecters are lower case else false"
   ]
  },
  {
   "cell_type": "markdown",
   "id": "3dce222f-92ee-4a55-ad4d-dadf1f090f81",
   "metadata": {},
   "source": [
    "___________________"
   ]
  },
  {
   "cell_type": "markdown",
   "id": "1f9db53e-cd8f-4174-bc8a-7b4833f92b59",
   "metadata": {},
   "source": [
    "#### ⭐ isupper()"
   ]
  },
  {
   "cell_type": "code",
   "execution_count": 72,
   "id": "6447c35b-cc9c-41c0-85dc-e32acbe0ec62",
   "metadata": {},
   "outputs": [
    {
     "name": "stdout",
     "output_type": "stream",
     "text": [
      "False\n"
     ]
    }
   ],
   "source": [
    "text ='Eagle Eyes' \n",
    "\n",
    "print(text.isupper())   # returns true if all charecters are upper case"
   ]
  },
  {
   "cell_type": "markdown",
   "id": "30157f9b-455e-4a03-b6db-c18ef3d48460",
   "metadata": {},
   "source": [
    "__________________"
   ]
  },
  {
   "cell_type": "markdown",
   "id": "1a0659b4-c2e0-4ba5-a512-6e0c2d61fd3d",
   "metadata": {},
   "source": [
    "#### ⭐ isalpha()"
   ]
  },
  {
   "cell_type": "code",
   "execution_count": 73,
   "id": "cef7d5bc-9e22-4e56-800f-7e5b2666f2d4",
   "metadata": {},
   "outputs": [
    {
     "name": "stdout",
     "output_type": "stream",
     "text": [
      "False\n"
     ]
    }
   ],
   "source": [
    "text ='Eagle Eyes' \n",
    "\n",
    "print(text.isalpha())   # returns true if all the charecters are alphabets\n",
    "                        # also if there is space output will be false"
   ]
  },
  {
   "cell_type": "markdown",
   "id": "55e584f6-e6d9-48d7-96f2-f697c6886834",
   "metadata": {},
   "source": [
    "______________________"
   ]
  },
  {
   "cell_type": "markdown",
   "id": "559371d8-5103-45d0-948d-e65774f7ad9a",
   "metadata": {},
   "source": [
    "#### ⭐ isdigit()"
   ]
  },
  {
   "cell_type": "code",
   "execution_count": 77,
   "id": "68526e83-cc7b-457d-a86a-d49d3383a759",
   "metadata": {},
   "outputs": [
    {
     "name": "stdout",
     "output_type": "stream",
     "text": [
      "True\n"
     ]
    }
   ],
   "source": [
    "num ='2345'\n",
    "\n",
    "print(num.isdigit())  # checks for digit , comma and space will returns false"
   ]
  },
  {
   "cell_type": "markdown",
   "id": "de39e791-50e1-46c7-92ab-7fc3f10f84ed",
   "metadata": {},
   "source": [
    "______________"
   ]
  },
  {
   "cell_type": "markdown",
   "id": "5ba329f5-6e06-4e45-9f06-5b50edb48a89",
   "metadata": {},
   "source": [
    "## ⚜️ EXERCISE"
   ]
  },
  {
   "cell_type": "markdown",
   "id": "0e0f89b8-19df-4679-b76d-affecaf0c704",
   "metadata": {},
   "source": [
    "Now concatenate string 3 “, welcome to Python programming” to the existing string and display the output string."
   ]
  },
  {
   "cell_type": "markdown",
   "id": "fe7ff984-f652-4b83-b23f-6518a2414d5c",
   "metadata": {},
   "source": [
    "#### 💠 2. String Slicing and Indexing:\n",
    "Write a Python program using the above concatenated string as input and performs the following tasks:\n",
    "\n",
    "a. Print the first character of the string.\n",
    "    \n",
    "b. Print the last character of the string.\n",
    "    \n",
    "c. Print the first 5 characters of the string.\n",
    "    \n",
    "d. Print the last 11 characters of the string.\n",
    "    \n",
    "e. Print the string in reverse.\n",
    "\n",
    "f. Use slicing and print the word “Python” from the existing string."
   ]
  },
  {
   "cell_type": "code",
   "execution_count": 92,
   "id": "2078e422-b1f9-4f83-a445-027091b19eda",
   "metadata": {},
   "outputs": [
    {
     "name": "stdout",
     "output_type": "stream",
     "text": [
      "The First Character : H\n"
     ]
    }
   ],
   "source": [
    "text = 'Hello Zara, welcome to Python programming'\n",
    "first_charecter = text[0]\n",
    "\n",
    "#Print the first character of the string.\n",
    "print(f'The First Character : {first_charecter}')"
   ]
  },
  {
   "cell_type": "code",
   "execution_count": 94,
   "id": "5bfa916f-92bb-41d5-a225-dcfa7d5e7417",
   "metadata": {},
   "outputs": [
    {
     "name": "stdout",
     "output_type": "stream",
     "text": [
      "Last Charecter : g\n"
     ]
    }
   ],
   "source": [
    "# Print the last character of the string.\n",
    "\n",
    "last_charecter = text[-1]\n",
    "print(f'Last Charecter : {last_charecter}')"
   ]
  },
  {
   "cell_type": "code",
   "execution_count": 95,
   "id": "b6d55144-29d3-46d5-b08e-d82be2e99f08",
   "metadata": {},
   "outputs": [
    {
     "name": "stdout",
     "output_type": "stream",
     "text": [
      "First 5 Charecters : Hello \n"
     ]
    }
   ],
   "source": [
    "# Print the first 5 characters of the string.\n",
    "\n",
    "first_5_charecters = text[0:6]\n",
    "\n",
    "print(f'First 5 Charecters : {first_5_charecters}')"
   ]
  },
  {
   "cell_type": "code",
   "execution_count": 106,
   "id": "4f198603-4773-4079-91f7-7189202dc4c5",
   "metadata": {},
   "outputs": [
    {
     "name": "stdout",
     "output_type": "stream",
     "text": [
      "Last 11 charecters :  programming\n"
     ]
    }
   ],
   "source": [
    "# Print the last 11 characters of the string.\n",
    "\n",
    "last_11_charecters = text[29:41]\n",
    "\n",
    "print(f'Last 11 charecters : {last_11_charecters}')"
   ]
  },
  {
   "cell_type": "code",
   "execution_count": 108,
   "id": "626a408a-dd81-45a8-a501-da39f40fb924",
   "metadata": {},
   "outputs": [
    {
     "name": "stdout",
     "output_type": "stream",
     "text": [
      "String in reverse : gnimmargorp nohtyP ot emoclew ,araZ olleH \n"
     ]
    }
   ],
   "source": [
    "# Print the string in reverse.\n",
    "\n",
    "# To reverse the string, we use slicing with a step of -1.\n",
    "# The syntax [start:end:step] is used here.\n",
    "# Omitting the start and end indices means we'll take the entire string.\n",
    "# A step of -1 tells Python to go from the end of the string to the beginning.\n",
    "reversed_sentence = text[::-1]\n",
    "\n",
    "print(f'String in reverse : {reversed_sentence} ')\n"
   ]
  },
  {
   "cell_type": "code",
   "execution_count": 111,
   "id": "69e65c55-3849-4909-ad9b-eeccb4a9a43f",
   "metadata": {},
   "outputs": [
    {
     "name": "stdout",
     "output_type": "stream",
     "text": [
      "print Python from the existing string : Python \n"
     ]
    }
   ],
   "source": [
    "#  Use slicing and print the word “Python” from the existing string.\n",
    "\n",
    "slicing = text[23:30]\n",
    "\n",
    "print(f'print Python from the existing string : {slicing}')"
   ]
  },
  {
   "cell_type": "markdown",
   "id": "199ad9eb-5821-4a10-b2ac-d3c57201bce5",
   "metadata": {},
   "source": [
    "__________"
   ]
  },
  {
   "cell_type": "markdown",
   "id": "ce44ec36-0e18-423c-964d-ef4b77654d01",
   "metadata": {},
   "source": [
    "## 💠  3. String Methods:\n",
    "\n",
    "Write a Python program that takes a string, strM = “Python beginner tutorial” and perform the following tasks:\n",
    "\n",
    "        a. Convert the sentence to uppercase.\n",
    "\n",
    "        b. Convert the sentence to lowercase.\n",
    "\n",
    "        c. Use Capitalize and return the sentence to the original input form.\n",
    "\n",
    "        d. Count the total number of occurrences of character ‘t’ in the string.\n",
    "\n",
    "        e. Replace all occurrences of “Python” with “Machine Learning” in the input string strM = “Python beginner tutorial”"
   ]
  },
  {
   "cell_type": "code",
   "execution_count": 114,
   "id": "24eb00ac-2c9d-4e80-acdc-37199b459e25",
   "metadata": {},
   "outputs": [],
   "source": [
    "strM = 'Python beginner tutorial'"
   ]
  },
  {
   "cell_type": "markdown",
   "id": "898a8b07-8a3d-4cae-81e6-242458a7d1c8",
   "metadata": {},
   "source": [
    "####  🔰 Convert the sentence to uppercase."
   ]
  },
  {
   "cell_type": "code",
   "execution_count": 117,
   "id": "231ca079-0df1-4ec6-8c00-5adfb2705d2c",
   "metadata": {},
   "outputs": [
    {
     "name": "stdout",
     "output_type": "stream",
     "text": [
      "sentence to uppercase : PYTHON BEGINNER TUTORIAL\n"
     ]
    }
   ],
   "source": [
    "u = strM.upper()\n",
    "\n",
    "print(f'sentence to uppercase : {u}')"
   ]
  },
  {
   "cell_type": "markdown",
   "id": "7094e659-1f7a-4c69-8928-64efdb3702c2",
   "metadata": {},
   "source": [
    "#### 🔰 Convert the sentence to lowercase."
   ]
  },
  {
   "cell_type": "code",
   "execution_count": 118,
   "id": "d44c3378-90b8-45c8-b31b-815c3c05704f",
   "metadata": {},
   "outputs": [
    {
     "name": "stdout",
     "output_type": "stream",
     "text": [
      "sentence yo lower case : python beginner tutorial\n"
     ]
    }
   ],
   "source": [
    "l = strM.lower()\n",
    "\n",
    "print(f'sentence yo lower case : {l}')"
   ]
  },
  {
   "cell_type": "markdown",
   "id": "b2e0e889-9745-4e9e-a88e-7d9743e09721",
   "metadata": {},
   "source": [
    "#### 🔰 Use Capitalize and return the sentence to the original input form.\n"
   ]
  },
  {
   "cell_type": "code",
   "execution_count": 122,
   "id": "b42f74db-63f8-4bbb-ad60-9046f25a3ce6",
   "metadata": {},
   "outputs": [
    {
     "name": "stdout",
     "output_type": "stream",
     "text": [
      "sentence to uppercase : PYTHON BEGINNER TUTORIAL\n",
      "sentence to normal : Python beginner tutorial\n"
     ]
    }
   ],
   "source": [
    "c = strM.upper()\n",
    "\n",
    "print(f'sentence to uppercase : {c}')\n",
    "\n",
    "p = strM.capitalize()\n",
    "\n",
    "print(f'sentence to normal : {p}')"
   ]
  },
  {
   "cell_type": "markdown",
   "id": "bfd76553-e647-4d5c-b4b2-c4402d00ddf9",
   "metadata": {},
   "source": [
    "#### 🔰 Count the total number of occurrences of character ‘t’ in the string."
   ]
  },
  {
   "cell_type": "code",
   "execution_count": 120,
   "id": "ea4f192c-6b6e-41f0-a933-376fc34f25c2",
   "metadata": {},
   "outputs": [
    {
     "name": "stdout",
     "output_type": "stream",
     "text": [
      "Occarence of t in sentence : 3\n"
     ]
    }
   ],
   "source": [
    "t = strM.count('t')\n",
    "\n",
    "print(f'Occarence of t in sentence : {t}')"
   ]
  },
  {
   "cell_type": "markdown",
   "id": "210cf2d8-7c82-472e-8f63-ae6d54271663",
   "metadata": {},
   "source": [
    "#### 🔰 Replace all occurrences of “Python” with “Machine Learning” in the input string.\n",
    "\n",
    "* strM = “Python beginner tutorial”\n",
    "\n"
   ]
  },
  {
   "cell_type": "code",
   "execution_count": 8,
   "id": "165649fe-cb8e-4b79-816a-28a9eb53d558",
   "metadata": {},
   "outputs": [
    {
     "name": "stdout",
     "output_type": "stream",
     "text": [
      "Machine Language beginner tutorial\n"
     ]
    }
   ],
   "source": [
    "strM = 'Python beginner tutorial'\n",
    "\n",
    "strM = strM.replace('Python', 'Machine Language')\n",
    "\n",
    "print(strM)\n"
   ]
  },
  {
   "cell_type": "markdown",
   "id": "da9ae1b9-6303-45a0-bf18-b538895d857d",
   "metadata": {},
   "source": [
    "________________"
   ]
  },
  {
   "cell_type": "markdown",
   "id": "4522f80f-c135-416e-9799-463760b6d893",
   "metadata": {},
   "source": [
    "### 🔴 STRING CLEANING TECHNIQUE"
   ]
  },
  {
   "cell_type": "markdown",
   "id": "67eea5f7-0cfc-4814-9966-be6555d4ca2f",
   "metadata": {},
   "source": [
    "_________________"
   ]
  },
  {
   "cell_type": "markdown",
   "id": "83b98ef4-a921-4f85-a8bd-d45d9885acc5",
   "metadata": {},
   "source": [
    "#### 🔰 REMOVING LEADING AND TRALLING SPACES"
   ]
  },
  {
   "cell_type": "code",
   "execution_count": 20,
   "id": "b17c9d97-71a7-4955-81e8-9b76f9772767",
   "metadata": {},
   "outputs": [
    {
     "name": "stdout",
     "output_type": "stream",
     "text": [
      "Hello World!\n"
     ]
    }
   ],
   "source": [
    "text = \"   Hello World!   \"\n",
    "\n",
    "cleaned = text.strip()\n",
    "print(cleaned)  "
   ]
  },
  {
   "cell_type": "markdown",
   "id": "7a717b6d-4fed-48b3-98ed-a50d5f2a7ca5",
   "metadata": {},
   "source": [
    "____________"
   ]
  },
  {
   "cell_type": "markdown",
   "id": "0777f4f9-c336-4619-a030-db4930cb1277",
   "metadata": {},
   "source": [
    "#### 🔰  REMOVING SPECIFIC CHARECTERS"
   ]
  },
  {
   "cell_type": "code",
   "execution_count": 24,
   "id": "ea9c21a8-fb9f-4c6a-84c3-47c8673ca70c",
   "metadata": {},
   "outputs": [
    {
     "name": "stdout",
     "output_type": "stream",
     "text": [
      "Hello World\n"
     ]
    }
   ],
   "source": [
    "text = \"Hello, World!\"\n",
    "\n",
    "cleaned = text.replace(\",\", \"\").replace(\"!\", \"\")\n",
    "print(cleaned)"
   ]
  },
  {
   "cell_type": "markdown",
   "id": "c03355d5-18b1-49d4-977d-7d2f13e43cb0",
   "metadata": {},
   "source": [
    "______________________________"
   ]
  },
  {
   "cell_type": "markdown",
   "id": "a5bfa92f-2caf-4159-9b69-af454050a737",
   "metadata": {},
   "source": [
    "#### 🔰 REMOVE DIGITS or NON-ALPHABETIC CHARECTERS"
   ]
  },
  {
   "cell_type": "code",
   "execution_count": 23,
   "id": "0da8e160-4612-4ee7-9e0b-303729d86b43",
   "metadata": {},
   "outputs": [
    {
     "name": "stdout",
     "output_type": "stream",
     "text": [
      "Python\n"
     ]
    }
   ],
   "source": [
    "import re\n",
    "# Using regular expressions\n",
    "\n",
    "text = \"Python123!!\"\n",
    "\n",
    "cleaned = re.sub(r'[^A-Za-z ]+', '', text)\n",
    "print(cleaned) "
   ]
  },
  {
   "cell_type": "markdown",
   "id": "a0e9ce1d-4c88-4579-8141-f47e25bc495a",
   "metadata": {},
   "source": [
    "______________"
   ]
  },
  {
   "cell_type": "markdown",
   "id": "e6e32d1f-f290-4190-aa4c-373db8ba3813",
   "metadata": {},
   "source": [
    "#### 🔰 NORMALIZE WHITESPACE"
   ]
  },
  {
   "cell_type": "code",
   "execution_count": 21,
   "id": "5f1436bd-8a1f-4f46-a504-497ad26bc058",
   "metadata": {},
   "outputs": [
    {
     "name": "stdout",
     "output_type": "stream",
     "text": [
      "Python is awesome\n"
     ]
    }
   ],
   "source": [
    "text = \"Python     is   awesome\"\n",
    "\n",
    "cleaned = ' '.join(text.split())\n",
    "print(cleaned) "
   ]
  },
  {
   "cell_type": "markdown",
   "id": "ccdafaaf-8372-483d-94f4-425849698d9e",
   "metadata": {},
   "source": [
    "_______________"
   ]
  },
  {
   "cell_type": "markdown",
   "id": "5656ffd8-2a38-42c7-9cc5-9e31a937177d",
   "metadata": {},
   "source": [
    "#### 🧠 Bonus: Combine All in a Function"
   ]
  },
  {
   "cell_type": "code",
   "execution_count": 25,
   "id": "06adcfac-d81a-4718-954c-9a7928a679ef",
   "metadata": {},
   "outputs": [
    {
     "name": "stdout",
     "output_type": "stream",
     "text": [
      "python is great\n"
     ]
    }
   ],
   "source": [
    "def clean_string(s):\n",
    "    import re\n",
    "    s = s.strip()\n",
    "    s = re.sub(r'[^A-Za-z ]+', '', s)\n",
    "    s = ' '.join(s.split())\n",
    "    return s.lower()\n",
    "\n",
    "text = \"   Python123!! is   GREAT   \"\n",
    "print(clean_string(text)) "
   ]
  },
  {
   "cell_type": "markdown",
   "id": "d28fafef-a1bd-453b-a69c-8d8c9897cb0c",
   "metadata": {},
   "source": [
    "_________________"
   ]
  },
  {
   "cell_type": "code",
   "execution_count": null,
   "id": "1099ab4a-a753-4c1a-867e-4a2bc5666a36",
   "metadata": {},
   "outputs": [],
   "source": []
  }
 ],
 "metadata": {
  "kernelspec": {
   "display_name": "Python 3 (ipykernel)",
   "language": "python",
   "name": "python3"
  },
  "language_info": {
   "codemirror_mode": {
    "name": "ipython",
    "version": 3
   },
   "file_extension": ".py",
   "mimetype": "text/x-python",
   "name": "python",
   "nbconvert_exporter": "python",
   "pygments_lexer": "ipython3",
   "version": "3.12.7"
  }
 },
 "nbformat": 4,
 "nbformat_minor": 5
}
