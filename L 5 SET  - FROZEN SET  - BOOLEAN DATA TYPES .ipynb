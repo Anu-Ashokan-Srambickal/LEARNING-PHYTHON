{
 "cells": [
  {
   "cell_type": "markdown",
   "id": "c56ecf6f-a0a3-4e88-8346-c7e2e6984714",
   "metadata": {},
   "source": [
    "# SET"
   ]
  },
  {
   "cell_type": "markdown",
   "id": "3fc1f0f2-f120-42d6-ae72-8bd7d250957f",
   "metadata": {},
   "source": [
    "*  Set stores unique data types, ie. it do not support duplicate values.\n",
    "  \n",
    "*  Elements in set are enclosed in curly brackets {}.\n",
    "\n",
    "*  Set is partially mutable data type.\n",
    "\n",
    "*  Set is not denoted by indexes.\n",
    "  "
   ]
  },
  {
   "cell_type": "markdown",
   "id": "e9b58bdf-85ad-43dd-b762-a7c7a1ac3d6a",
   "metadata": {},
   "source": [
    "________________________________________________________________________________________________________________________________________________________"
   ]
  },
  {
   "cell_type": "markdown",
   "id": "052dba58-1245-463a-98a3-ae8763564468",
   "metadata": {},
   "source": [
    "## 🍒 CREATING SET"
   ]
  },
  {
   "cell_type": "code",
   "execution_count": 1,
   "id": "91820484-6e6e-42fd-ae3c-832caa375a20",
   "metadata": {},
   "outputs": [
    {
     "data": {
      "text/plain": [
       "set"
      ]
     },
     "execution_count": 1,
     "metadata": {},
     "output_type": "execute_result"
    }
   ],
   "source": [
    "set = {'apple', 'grapes', 23, 45,'mango'}\n",
    "type(set)"
   ]
  },
  {
   "cell_type": "markdown",
   "id": "abf16349-ff78-4824-9ecf-80f99ed3708f",
   "metadata": {},
   "source": [
    "________________________________________________________________________________________________________________________________________________________"
   ]
  },
  {
   "cell_type": "markdown",
   "id": "84608533-18b5-4a99-bd40-b36673557abe",
   "metadata": {},
   "source": [
    "## 🍒 ADDING NEW VALUE IN TO SET"
   ]
  },
  {
   "cell_type": "code",
   "execution_count": 2,
   "id": "7cf7e812-8871-4bab-8588-72a77dd1a866",
   "metadata": {},
   "outputs": [],
   "source": [
    "set = {'apple', 'grapes', 23, 45,'mango'}"
   ]
  },
  {
   "cell_type": "code",
   "execution_count": 3,
   "id": "7a9fdfcf-d2f4-4c17-8832-cf85db782809",
   "metadata": {},
   "outputs": [],
   "source": [
    "set.add('banana')"
   ]
  },
  {
   "cell_type": "code",
   "execution_count": 4,
   "id": "bfac63e8-7ac8-489f-b558-f8ac83a1fe72",
   "metadata": {},
   "outputs": [
    {
     "data": {
      "text/plain": [
       "{23, 45, 'apple', 'banana', 'grapes', 'mango'}"
      ]
     },
     "execution_count": 4,
     "metadata": {},
     "output_type": "execute_result"
    }
   ],
   "source": [
    "set"
   ]
  },
  {
   "cell_type": "markdown",
   "id": "ca7e0c2d-6d33-4f58-89bd-81eae19abe70",
   "metadata": {},
   "source": [
    "________________________________________________________________________________________________________________________________________________________"
   ]
  },
  {
   "cell_type": "markdown",
   "id": "20b1efbc-2844-4d80-a790-e0c2d701c558",
   "metadata": {},
   "source": [
    "## 🍒 REMOVING VALUES FROM SET"
   ]
  },
  {
   "cell_type": "code",
   "execution_count": null,
   "id": "59f6cdea-e6e1-4989-945a-a2920173c5ec",
   "metadata": {},
   "outputs": [],
   "source": [
    "set = {23, 45, 'apple', 'banana', 'grapes', 'mango'}"
   ]
  },
  {
   "cell_type": "code",
   "execution_count": 5,
   "id": "9f88e7df-50a3-4bbf-9ff1-b8eec7dcbc23",
   "metadata": {},
   "outputs": [],
   "source": [
    "set.remove('mango')           # .remove() statement"
   ]
  },
  {
   "cell_type": "code",
   "execution_count": 6,
   "id": "f44c797d-e5f4-4963-8493-0073da51a8bd",
   "metadata": {},
   "outputs": [
    {
     "data": {
      "text/plain": [
       "{23, 45, 'apple', 'banana', 'grapes'}"
      ]
     },
     "execution_count": 6,
     "metadata": {},
     "output_type": "execute_result"
    }
   ],
   "source": [
    "set"
   ]
  },
  {
   "cell_type": "markdown",
   "id": "08a00f13-5c00-4f87-97d3-79771a3e75a8",
   "metadata": {},
   "source": [
    "________________________________________________________________________________________________________________________________________________________"
   ]
  },
  {
   "cell_type": "markdown",
   "id": "349d0b29-1a93-4f79-bb23-670ddd4a6379",
   "metadata": {},
   "source": [
    "## 🍒 pop()"
   ]
  },
  {
   "cell_type": "code",
   "execution_count": null,
   "id": "3645af57-c59c-400e-a595-27b6173bbc55",
   "metadata": {},
   "outputs": [],
   "source": [
    "pop(): Removes and returns an arbitrary element from the set."
   ]
  },
  {
   "cell_type": "code",
   "execution_count": null,
   "id": "2c15d86f-c9ef-4fc8-9c46-4ee6f9fb39e1",
   "metadata": {},
   "outputs": [],
   "source": [
    "set = {23, 45, 'apple', 'banana', 'grapes', 'mango'}"
   ]
  },
  {
   "cell_type": "code",
   "execution_count": 7,
   "id": "846020fd-bad2-406d-a238-e32558dacefd",
   "metadata": {},
   "outputs": [
    {
     "data": {
      "text/plain": [
       "23"
      ]
     },
     "execution_count": 7,
     "metadata": {},
     "output_type": "execute_result"
    }
   ],
   "source": [
    "set.pop()"
   ]
  },
  {
   "cell_type": "code",
   "execution_count": 8,
   "id": "23db9e1c-334a-4de8-bb0f-6f2207afb858",
   "metadata": {},
   "outputs": [
    {
     "data": {
      "text/plain": [
       "{45, 'apple', 'banana', 'grapes'}"
      ]
     },
     "execution_count": 8,
     "metadata": {},
     "output_type": "execute_result"
    }
   ],
   "source": [
    "set"
   ]
  },
  {
   "cell_type": "markdown",
   "id": "7e3ede3e-aec8-417d-a1e8-3368a3750d0c",
   "metadata": {},
   "source": [
    "________________________________________________________________________________________________________________________________________________________"
   ]
  },
  {
   "cell_type": "markdown",
   "id": "6292bb95-2d19-43f3-adf3-bddc509d10f6",
   "metadata": {},
   "source": [
    "## 🍒 discard()"
   ]
  },
  {
   "cell_type": "markdown",
   "id": "6d7c2047-1013-4261-aa86-cc884e4decfb",
   "metadata": {},
   "source": [
    "* Removes a specified element.\n",
    "  \n",
    "* Does not raise an error if the element is not found."
   ]
  },
  {
   "cell_type": "code",
   "execution_count": null,
   "id": "903be0a4-acac-45d6-aad9-b896a42596e2",
   "metadata": {},
   "outputs": [],
   "source": []
  },
  {
   "cell_type": "markdown",
   "id": "d63aea74-3791-4252-817b-b0cfaa368cfb",
   "metadata": {},
   "source": [
    "________________________________________________________________________________________________________________________________________________________"
   ]
  },
  {
   "cell_type": "markdown",
   "id": "094b57cf-c4c4-42f6-ae64-fce9169b512f",
   "metadata": {},
   "source": [
    "## 🍒 CHECKING FOR MEMBERSHIP"
   ]
  },
  {
   "cell_type": "code",
   "execution_count": 9,
   "id": "0011438b-b3f2-42f0-8a16-29372dfa5bee",
   "metadata": {},
   "outputs": [
    {
     "name": "stdout",
     "output_type": "stream",
     "text": [
      "True\n",
      "False\n"
     ]
    }
   ],
   "source": [
    "my_set = {10, 20, 30}\n",
    "\n",
    "print(10 in my_set)    \n",
    "print(50 in my_set) "
   ]
  },
  {
   "cell_type": "markdown",
   "id": "7c85071e-4a66-40d2-a7c7-d229e1a1ca26",
   "metadata": {},
   "source": [
    "________________________________________________________________________________________________________________________________________________________"
   ]
  },
  {
   "cell_type": "markdown",
   "id": "5c4aeff6-9fa0-458d-a264-5f53c11b955a",
   "metadata": {},
   "source": [
    "## 🍒 MATHEMATICAL SET OPERATION"
   ]
  },
  {
   "cell_type": "code",
   "execution_count": 10,
   "id": "aae21ec5-f383-4096-9adf-730f6263173f",
   "metadata": {},
   "outputs": [],
   "source": [
    "A = {1, 2, 3, 4}\n",
    "B = {3, 4, 5, 6}"
   ]
  },
  {
   "cell_type": "markdown",
   "id": "b9b39108-3c1b-4f6b-b6b6-68ab345aac45",
   "metadata": {},
   "source": [
    "________________________________________________________________________________________________________________________________________________________"
   ]
  },
  {
   "cell_type": "markdown",
   "id": "b46fd30a-aa2a-41ec-8562-d61c43a34246",
   "metadata": {},
   "source": [
    "## UNION"
   ]
  },
  {
   "cell_type": "code",
   "execution_count": 16,
   "id": "ac23b64b-12bf-41f9-a7a0-fbf772719142",
   "metadata": {},
   "outputs": [
    {
     "name": "stdout",
     "output_type": "stream",
     "text": [
      "{1, 2, 3, 4, 5, 6}\n"
     ]
    }
   ],
   "source": [
    "print(A | B)             # method 1\n"
   ]
  },
  {
   "cell_type": "code",
   "execution_count": 15,
   "id": "ad3d6b36-fabc-47c3-b935-9a12e96cc0c3",
   "metadata": {},
   "outputs": [
    {
     "name": "stdout",
     "output_type": "stream",
     "text": [
      "{1, 2, 3, 4, 5, 6}\n"
     ]
    }
   ],
   "source": [
    "print(A.union(B))        # method 2\n"
   ]
  },
  {
   "cell_type": "code",
   "execution_count": null,
   "id": "576c25f2-9405-4e58-9c6b-4fd8e4011b89",
   "metadata": {},
   "outputs": [],
   "source": [
    "________________________________________________________________________________________________________________________________________________________"
   ]
  },
  {
   "cell_type": "markdown",
   "id": "44b8918d-2992-46e0-aa62-265512053cf2",
   "metadata": {},
   "source": [
    "## INTERSECTION"
   ]
  },
  {
   "cell_type": "code",
   "execution_count": 22,
   "id": "84f1541d-25a2-420b-bb01-6994a6c2dcc0",
   "metadata": {},
   "outputs": [
    {
     "name": "stdout",
     "output_type": "stream",
     "text": [
      "{3, 4}\n"
     ]
    }
   ],
   "source": [
    "print(A & B)             # method 1\n"
   ]
  },
  {
   "cell_type": "code",
   "execution_count": 14,
   "id": "5cac1d90-0e18-4736-b957-cddc94539059",
   "metadata": {},
   "outputs": [
    {
     "name": "stdout",
     "output_type": "stream",
     "text": [
      "{3, 4}\n"
     ]
    }
   ],
   "source": [
    "print(A.intersection(B))   # method 2"
   ]
  },
  {
   "cell_type": "markdown",
   "id": "429bca7e-4efa-42f4-b472-edd04f118d9c",
   "metadata": {},
   "source": [
    "##  DIFFERENCE"
   ]
  },
  {
   "cell_type": "code",
   "execution_count": 18,
   "id": "40bb0127-ad50-4885-ac08-f5c260270dfb",
   "metadata": {},
   "outputs": [
    {
     "name": "stdout",
     "output_type": "stream",
     "text": [
      "{1, 2}\n"
     ]
    }
   ],
   "source": [
    "print(A - B)                       # method 1\n"
   ]
  },
  {
   "cell_type": "code",
   "execution_count": 17,
   "id": "5c0d2eee-c9f9-4ad3-b463-6b23bfd93583",
   "metadata": {},
   "outputs": [
    {
     "name": "stdout",
     "output_type": "stream",
     "text": [
      "{1, 2}\n"
     ]
    }
   ],
   "source": [
    "print(A.difference(B))              # method 2\n"
   ]
  },
  {
   "cell_type": "code",
   "execution_count": null,
   "id": "525a9ef0-7924-40b1-9b84-0c6cd7bdce0f",
   "metadata": {},
   "outputs": [],
   "source": [
    "________________________________________________________________________________________________________________________________________________________"
   ]
  },
  {
   "cell_type": "markdown",
   "id": "ea00f46c-d7ad-4acb-8777-dfdbc2a80fef",
   "metadata": {},
   "source": [
    "## 💎 EXCERCISE"
   ]
  },
  {
   "cell_type": "markdown",
   "id": "e9180c4c-a1fe-43fd-bffd-ae0ccc04fd4d",
   "metadata": {},
   "source": [
    "### Sets (Operations):"
   ]
  },
  {
   "cell_type": "markdown",
   "id": "c176822c-5e56-4ddc-b671-a722b6dfd4d5",
   "metadata": {},
   "source": [
    "### a. Create a set called my_set with following values:\n",
    "### Analyse the output and provide explanation for the same."
   ]
  },
  {
   "cell_type": "code",
   "execution_count": 25,
   "id": "f70ad754-3972-4b5f-92b2-a08ee92ddc8a",
   "metadata": {},
   "outputs": [
    {
     "data": {
      "text/plain": [
       "['a', 'e', 'i', 'o', 'u', 'a', 'a', 'i']"
      ]
     },
     "execution_count": 25,
     "metadata": {},
     "output_type": "execute_result"
    }
   ],
   "source": [
    "my_set = ['a','e','i','o','u','a','a','i']\n",
    "\n",
    "my_set"
   ]
  },
  {
   "cell_type": "code",
   "execution_count": 26,
   "id": "395abe14-4900-42ed-a8da-0ecdaea5ffbc",
   "metadata": {},
   "outputs": [
    {
     "data": {
      "text/plain": [
       "list"
      ]
     },
     "execution_count": 26,
     "metadata": {},
     "output_type": "execute_result"
    }
   ],
   "source": [
    "type(my_set)"
   ]
  },
  {
   "cell_type": "markdown",
   "id": "f302efab-07b2-445a-8845-9a4ad84f0ab1",
   "metadata": {},
   "source": [
    "### b. Attempt to change the value of my_set[4] = 's'. If code throws an error, provide an explanation."
   ]
  },
  {
   "cell_type": "markdown",
   "id": "8fb7816d-9d88-420d-84ce-25085de9cf26",
   "metadata": {},
   "source": [
    " my_set[4] = 's'\n",
    "\n",
    "my_set"
   ]
  },
  {
   "cell_type": "markdown",
   "id": "c0c55796-4ca1-4d20-baa6-48fe1f0fb950",
   "metadata": {},
   "source": [
    "### c. Create two sets:\n",
    "\n",
    "### set1 with values: {1, 3, 5, 7, 9}\n",
    "\n",
    "### set2 with values: {2, 3, 5, 8, 10}"
   ]
  },
  {
   "cell_type": "code",
   "execution_count": 28,
   "id": "b6641f63-1c31-4c9f-b6cc-0f196ec029c1",
   "metadata": {},
   "outputs": [
    {
     "data": {
      "text/plain": [
       "{1, 3, 5, 7, 9}"
      ]
     },
     "execution_count": 28,
     "metadata": {},
     "output_type": "execute_result"
    }
   ],
   "source": [
    "set1 = {1, 3, 5, 7, 9}\n",
    "set1"
   ]
  },
  {
   "cell_type": "code",
   "execution_count": 29,
   "id": "110d0aa6-068a-4398-acda-f05b567d620a",
   "metadata": {},
   "outputs": [
    {
     "data": {
      "text/plain": [
       "{2, 3, 5, 8, 10}"
      ]
     },
     "execution_count": 29,
     "metadata": {},
     "output_type": "execute_result"
    }
   ],
   "source": [
    "set2 = {2, 3, 5, 8, 10}\n",
    "set2"
   ]
  },
  {
   "cell_type": "markdown",
   "id": "9c413cb4-9ec7-455d-8b13-4d0e5b5ea28a",
   "metadata": {},
   "source": [
    "### d. Compute and print the union and intersection of set1 and set2."
   ]
  },
  {
   "cell_type": "code",
   "execution_count": 33,
   "id": "13248bf5-b6c1-4ac2-87ab-e8683478610a",
   "metadata": {},
   "outputs": [
    {
     "data": {
      "text/plain": [
       "{1, 2, 3, 5, 7, 8, 9, 10}"
      ]
     },
     "execution_count": 33,
     "metadata": {},
     "output_type": "execute_result"
    }
   ],
   "source": [
    "## union\n",
    "set1.union(set2)"
   ]
  },
  {
   "cell_type": "code",
   "execution_count": 34,
   "id": "11eead2d-5ac0-473a-9c99-a9e0f107bf44",
   "metadata": {},
   "outputs": [
    {
     "data": {
      "text/plain": [
       "{3, 5}"
      ]
     },
     "execution_count": 34,
     "metadata": {},
     "output_type": "execute_result"
    }
   ],
   "source": [
    "# intersection\n",
    "\n",
    "set1.intersection(set2)"
   ]
  },
  {
   "cell_type": "code",
   "execution_count": null,
   "id": "ff36467a-c2a1-4d69-8847-1660aa3be010",
   "metadata": {},
   "outputs": [],
   "source": [
    "________________________________________________________________________________________________________________________________________________________\n"
   ]
  },
  {
   "cell_type": "markdown",
   "id": "6a76f669-eb28-4b20-b51b-10d6ac2deb9d",
   "metadata": {},
   "source": [
    "________________________________________________________________________________________________________________________________________________________\n"
   ]
  },
  {
   "cell_type": "markdown",
   "id": "f673c954-3f89-4789-9555-7255dc0e2c77",
   "metadata": {},
   "source": [
    "## 🍓 Frozenset (Immutable Sets)"
   ]
  },
  {
   "cell_type": "markdown",
   "id": "928a0dbf-54d3-405a-9333-c44a7b64dd37",
   "metadata": {},
   "source": [
    "* A frozenset is an immutable version of a set.\n",
    "\n",
    "* Once created, you cannot add or remove elements.\n",
    "\n",
    "* This makes it possible to use a frozenset as a dictionary key or as an element within another set."
   ]
  },
  {
   "cell_type": "code",
   "execution_count": 19,
   "id": "b60b83a0-926e-40bb-b627-11a1920e9e73",
   "metadata": {},
   "outputs": [
    {
     "data": {
      "text/plain": [
       "frozenset"
      ]
     },
     "execution_count": 19,
     "metadata": {},
     "output_type": "execute_result"
    }
   ],
   "source": [
    "my_frozenset = frozenset([1, 2, 3])\n",
    "\n",
    "type(my_frozenset)"
   ]
  },
  {
   "cell_type": "code",
   "execution_count": null,
   "id": "971bbdb2-6cc4-4895-9471-f48f479b3023",
   "metadata": {},
   "outputs": [],
   "source": [
    "________________________________________________________________________________________________________________________________________________________"
   ]
  },
  {
   "cell_type": "markdown",
   "id": "17df6c6d-9f83-4a01-a2f3-aca0155005dc",
   "metadata": {},
   "source": [
    "## 🍓 BOOLEAN DATA TYPES"
   ]
  },
  {
   "cell_type": "markdown",
   "id": "6d985aa8-2fd9-461e-ab67-a180dbf1ee0f",
   "metadata": {},
   "source": [
    "* The Boolean data type is a fundamental data type in Python (and many other programming languages\n",
    "\n",
    "* It can only have one of two possible values: True or False."
   ]
  },
  {
   "cell_type": "markdown",
   "id": "c7f813db-add6-48ec-8d69-f7fc87ae8998",
   "metadata": {},
   "source": [
    "These values are keywords in Python and are always written with an initial capital letter.\n",
    "\n",
    "1. True and False\n",
    "    \n",
    "* True: Represents a true or \"on\" state.\n",
    "\n",
    "* False: Represents a false or \"off\" state.\n",
    "\n"
   ]
  },
  {
   "cell_type": "markdown",
   "id": "3f24f278-5a96-4704-85c6-00dff06b4bdf",
   "metadata": {},
   "source": [
    "They are primarily used to control the flow of a program, especially in conditional statements and loops."
   ]
  },
  {
   "cell_type": "code",
   "execution_count": null,
   "id": "739f8388-7f75-4a06-a78d-44b0545837df",
   "metadata": {},
   "outputs": [],
   "source": [
    "________________________________________________________________________________________________________________________________________________________"
   ]
  }
 ],
 "metadata": {
  "kernelspec": {
   "display_name": "Python 3 (ipykernel)",
   "language": "python",
   "name": "python3"
  },
  "language_info": {
   "codemirror_mode": {
    "name": "ipython",
    "version": 3
   },
   "file_extension": ".py",
   "mimetype": "text/x-python",
   "name": "python",
   "nbconvert_exporter": "python",
   "pygments_lexer": "ipython3",
   "version": "3.12.7"
  }
 },
 "nbformat": 4,
 "nbformat_minor": 5
}
