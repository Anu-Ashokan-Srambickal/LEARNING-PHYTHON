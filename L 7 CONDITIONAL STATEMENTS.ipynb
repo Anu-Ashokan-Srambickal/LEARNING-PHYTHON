{
 "cells": [
  {
   "cell_type": "markdown",
   "id": "fc57abef-8f2e-4b8d-a371-da9553794e60",
   "metadata": {},
   "source": [
    "# 🍁 CONDITIONAL STATEMENT"
   ]
  },
  {
   "cell_type": "markdown",
   "id": "45455395-a032-4d84-abd5-e358668c7877",
   "metadata": {},
   "source": [
    "### 🍒 THREE CONDITONAL STATEMENTS ARE:\n",
    "\n",
    "* IF\n",
    "\n",
    "* IF......ELSE\n",
    "\n",
    "* IF....ELIF.....ELSE"
   ]
  },
  {
   "cell_type": "markdown",
   "id": "4fbb8e76-99bd-4f78-a93a-121acc98d846",
   "metadata": {},
   "source": [
    "Phython flow control includes conditional and looping statements.\n"
   ]
  },
  {
   "cell_type": "markdown",
   "id": "e2338bf5-cb81-46c5-9364-22159ae7acab",
   "metadata": {},
   "source": [
    "## 🍒 IF STATEMENT"
   ]
  },
  {
   "cell_type": "markdown",
   "id": "c00ab897-cae1-4816-99f1-502c93edf236",
   "metadata": {},
   "source": [
    "#### ♦️ The programme runs till a condition is met."
   ]
  },
  {
   "cell_type": "markdown",
   "id": "4f85ad62-abd1-426c-84ce-572ba06412a6",
   "metadata": {},
   "source": [
    "_____________________________________________________________________________________________________________________________"
   ]
  },
  {
   "cell_type": "markdown",
   "id": "e20f13d2-2568-40f1-8b01-4d58b132289a",
   "metadata": {},
   "source": [
    "### 🔴  IF     STATEMENT"
   ]
  },
  {
   "cell_type": "markdown",
   "id": "900a892c-093e-4464-af46-354ece1a577c",
   "metadata": {},
   "source": [
    "Sample:1\n",
    "\n",
    "Write a programme to print 'Big Number', when the number exceeds 100."
   ]
  },
  {
   "cell_type": "code",
   "execution_count": 10,
   "id": "0a0a466e-e7fd-4a0d-8a21-bef9e68a506b",
   "metadata": {},
   "outputs": [
    {
     "name": "stdin",
     "output_type": "stream",
     "text": [
      "Enter a number:  200\n"
     ]
    },
    {
     "name": "stdout",
     "output_type": "stream",
     "text": [
      "200 is Big Number\n"
     ]
    }
   ],
   "source": [
    "num = int(input('Enter a number: '))  \n",
    "\n",
    "if num >= 100:  \n",
    "            print(f\"{num} is Big Number\")   "
   ]
  },
  {
   "cell_type": "markdown",
   "id": "900ca0e6-8fa4-4196-9ee7-5427526ebc61",
   "metadata": {},
   "source": [
    "_____________________________________________________________________________________________________________________________"
   ]
  },
  {
   "cell_type": "markdown",
   "id": "e9032675-7121-4f21-96f6-6314416c0a4a",
   "metadata": {},
   "source": [
    "## 🔴 IF............ELSE  STATEMENT"
   ]
  },
  {
   "cell_type": "markdown",
   "id": "c6dcda5b-4757-4573-8e55-1f4bfccc5e4b",
   "metadata": {},
   "source": [
    "#### if a condition satistied do a task\n",
    "\n",
    "#### else do another task"
   ]
  },
  {
   "cell_type": "code",
   "execution_count": 18,
   "id": "129f7897-ab29-44ab-9c96-db9bba726a18",
   "metadata": {},
   "outputs": [
    {
     "name": "stdin",
     "output_type": "stream",
     "text": [
      "Enter a Number:  99\n"
     ]
    },
    {
     "name": "stdout",
     "output_type": "stream",
     "text": [
      "99 is Small Number\n"
     ]
    }
   ],
   "source": [
    "num =int(input('Enter a Number: '))\n",
    "\n",
    "if num >= 100:\n",
    "         print(f'{num} is a Big Number')\n",
    "else:\n",
    "    print(f'{num} is Small Number')"
   ]
  },
  {
   "cell_type": "markdown",
   "id": "ad96ca7c-61a5-4545-b30d-52e85d6755b2",
   "metadata": {},
   "source": [
    "__________________________________________________________________________________________________________________________"
   ]
  },
  {
   "cell_type": "markdown",
   "id": "b0d9f829-1791-4b7e-8dfc-58c98cd3e8a4",
   "metadata": {},
   "source": [
    "### 🔴 IF...... ELIF.......ELSE STATEMENT\n"
   ]
  },
  {
   "cell_type": "markdown",
   "id": "564ef0a9-1d06-4685-8d91-b63a4ee0ee0a",
   "metadata": {},
   "source": [
    "* Mainly used when there are more than 2 conditions.\n",
    "  \n",
    "* elif can be used multiple times based on the requirements."
   ]
  },
  {
   "cell_type": "markdown",
   "id": "4a26c611-48eb-4c7f-a765-a9ef4a070242",
   "metadata": {},
   "source": [
    "### ♦️ Numbers "
   ]
  },
  {
   "cell_type": "code",
   "execution_count": 23,
   "id": "e968f430-92d3-4df6-8e25-742b3d03e9e2",
   "metadata": {},
   "outputs": [
    {
     "name": "stdin",
     "output_type": "stream",
     "text": [
      "Enter a Number:  78\n"
     ]
    },
    {
     "name": "stdout",
     "output_type": "stream",
     "text": [
      "78 is a Average Number\n"
     ]
    }
   ],
   "source": [
    "num = int(input('Enter a Number: '))\n",
    "\n",
    "if num >=100:\n",
    "    print(f'{num} is a Big Number')\n",
    "elif num >= 75 and num <= 100:\n",
    "    print(f'{num} is a Average Number')\n",
    "else:\n",
    "    print(f'{num} is a Small Number')\n",
    "    "
   ]
  },
  {
   "cell_type": "markdown",
   "id": "aeace39c-069a-4e6a-b513-c81ebc357c78",
   "metadata": {},
   "source": [
    "______________________________________________________________________________________________________________________________"
   ]
  },
  {
   "cell_type": "markdown",
   "id": "eef6b986-ba1f-495c-b550-72499be7500a",
   "metadata": {},
   "source": [
    "### ♦️ Marks and Grading"
   ]
  },
  {
   "cell_type": "code",
   "execution_count": 57,
   "id": "c9e28c31-da1a-46fc-96a5-2a84c91be2ea",
   "metadata": {},
   "outputs": [
    {
     "name": "stdin",
     "output_type": "stream",
     "text": [
      "Enter your Marks:  89\n"
     ]
    },
    {
     "name": "stdout",
     "output_type": "stream",
     "text": [
      "Your mark is 89 with A Grade\n"
     ]
    }
   ],
   "source": [
    "marks = int(input('Enter your Marks: '))\n",
    "\n",
    "if marks <= 100 and marks >= 90:\n",
    "          print(f'Your mark is {marks} with A+ Grade')\n",
    "elif marks < 90 and marks >= 80:\n",
    "          print(f'Your mark is {marks} with A Grade')\n",
    "elif marks < 80 and marks >= 70:\n",
    "          print(f'Your mark is {marks} with B+ Grade')     \n",
    "elif marks < 70 and marks >= 60:\n",
    "          print(f'Your mark is {marks} with B Grade')\n",
    "elif marks < 60 and marks >= 50:\n",
    "          print(f'Your mark is {marks} with C+ Grade')\n",
    "elif marks < 50 and marks >= 40:\n",
    "           print(f'Your mark is {marks} with C Grade')\n",
    "else:\n",
    "           print(f'Your mark is {marks} with D Grade, You Failed!!')\n"
   ]
  },
  {
   "cell_type": "markdown",
   "id": "b69e25c9-46ac-412c-9143-b0eef17a1eea",
   "metadata": {},
   "source": [
    "_______________________________________________________________________________________________________________________________"
   ]
  },
  {
   "cell_type": "code",
   "execution_count": null,
   "id": "b82f2a0f-fd88-4c10-81e7-51da4fcea29f",
   "metadata": {},
   "outputs": [],
   "source": [
    "Conditional statement practice using String Value."
   ]
  },
  {
   "cell_type": "code",
   "execution_count": 78,
   "id": "0d1b2ce7-11c5-42a8-9d5c-e06cf27c31e7",
   "metadata": {},
   "outputs": [
    {
     "name": "stdin",
     "output_type": "stream",
     "text": [
      "Enter a text:  hai\n"
     ]
    },
    {
     "name": "stdout",
     "output_type": "stream",
     "text": [
      "Invalid Text\n"
     ]
    }
   ],
   "source": [
    "text = input('Enter a text: ')\n",
    "\n",
    "if text == 'Hello':\n",
    "    print('Good Morning !!')\n",
    "\n",
    "elif text == 'Hii':\n",
    "    print('Good Afternoon')\n",
    "\n",
    "elif text == 'Heyy':\n",
    "    print('Good Night')\n",
    "else:\n",
    "    print('Invalid Text')\n"
   ]
  },
  {
   "cell_type": "markdown",
   "id": "20f75c09-1a4f-4787-9f46-ade68c692685",
   "metadata": {},
   "source": [
    "________________________________________________________________________________________________________________"
   ]
  },
  {
   "cell_type": "markdown",
   "id": "4fddc9c6-bdfb-45be-948c-f829cedd73f8",
   "metadata": {},
   "source": [
    "### Performance Category Program:"
   ]
  },
  {
   "cell_type": "markdown",
   "id": "49e70ca8-4711-4cf3-9e85-f491be5c4d49",
   "metadata": {},
   "source": [
    "Prompt user for Input. Score range should be from 0 to 10 (both inclusive).\n",
    "\n",
    "Find the performance category based on the input score using following criteria:           "
   ]
  },
  {
   "cell_type": "markdown",
   "id": "4d373765-83d5-479a-b77f-ff5afe510fba",
   "metadata": {},
   "source": [
    "Above Average: Score greater than 7 \n",
    "\n",
    "Average: Score between 4 and 7(both inclusive)\n",
    "\n",
    "Below Average: Score lesser than 4\n",
    "\n",
    "Output: Print the Performance category\n",
    "\n",
    "Additional Step: You can give a prompt of your choice to each category."
   ]
  },
  {
   "cell_type": "markdown",
   "id": "ede880b6-c318-41ac-bb59-ad4608bcb575",
   "metadata": {},
   "source": [
    "For eg: If score below average “Need to Improve your performance, consistent\n",
    "\n",
    "practice will lead to better results”."
   ]
  },
  {
   "cell_type": "markdown",
   "id": "54e12946-516d-47fd-9fe3-29907e668324",
   "metadata": {},
   "source": [
    "Sample Output:\n",
    "\n",
    "Enter your score (0 to 10): 7\n",
    "\n",
    "Average: Good effort! Keep practicing, there's room for improvement."
   ]
  },
  {
   "cell_type": "code",
   "execution_count": 73,
   "id": "fde70eb3-ad3b-4e1a-b349-413e77c1cfaf",
   "metadata": {},
   "outputs": [
    {
     "name": "stdin",
     "output_type": "stream",
     "text": [
      "Enter your score between (0,10):  7\n"
     ]
    },
    {
     "name": "stdout",
     "output_type": "stream",
     "text": [
      "Your score is 7 and is Above Average. Good Job!!!\n"
     ]
    }
   ],
   "source": [
    "score = int(input('Enter your score between (0,10): '))\n",
    "\n",
    "if score <= 10  and score >= 7:\n",
    "    print(f'Your score is {score} and is Above Average. Good Job!!!')\n",
    "   \n",
    "    \n",
    "elif score < 7 and score >= 4:\n",
    "    print(f'Your score is {score} and is  Average.  Good effort! Keep practicing, there is room for improvement !!' )\n",
    "\n",
    "else:\n",
    "    print(f'Your score is {score} and is Below Average. Need to Improve your performance, consistent practice will lead to better results !!')\n",
    "\n",
    "    "
   ]
  },
  {
   "cell_type": "code",
   "execution_count": null,
   "id": "e66a543c-bc7e-43e9-b246-9e874113ffdf",
   "metadata": {},
   "outputs": [],
   "source": []
  }
 ],
 "metadata": {
  "kernelspec": {
   "display_name": "Python 3 (ipykernel)",
   "language": "python",
   "name": "python3"
  },
  "language_info": {
   "codemirror_mode": {
    "name": "ipython",
    "version": 3
   },
   "file_extension": ".py",
   "mimetype": "text/x-python",
   "name": "python",
   "nbconvert_exporter": "python",
   "pygments_lexer": "ipython3",
   "version": "3.12.7"
  }
 },
 "nbformat": 4,
 "nbformat_minor": 5
}
