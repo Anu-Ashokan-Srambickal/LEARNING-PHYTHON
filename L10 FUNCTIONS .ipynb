{
 "cells": [
  {
   "cell_type": "markdown",
   "id": "44b096b7-9733-4efb-9af8-d43b0e8ed737",
   "metadata": {},
   "source": [
    "### 🍁 FUNCTIONS"
   ]
  },
  {
   "cell_type": "markdown",
   "id": "2a9fd347-db68-4060-8850-f1a261b97099",
   "metadata": {},
   "source": [
    "- A function is a block of organized, reusable code that is used to perform a single, related action. \n",
    "\n",
    "- Functions provide better modularity for your application and a high degree of code reusing.\n",
    "\n"
   ]
  },
  {
   "cell_type": "markdown",
   "id": "dd06e8b0-40d4-4686-a11f-ece553e17fcb",
   "metadata": {},
   "source": [
    "- As you already know, Python gives you many built-in functions like print(), etc. but you can also create your own functions. \n",
    "\n",
    "- These functions are called user-defined functions."
   ]
  },
  {
   "cell_type": "markdown",
   "id": "688f420a-38bc-4b41-85f7-c6a018ffb5eb",
   "metadata": {},
   "source": [
    "✨ Used to :\n",
    "\n",
    "- Avoid repeating code\n",
    "\n",
    "- Make programs easier to read and maintain\n",
    "\n",
    "- Break complex problems into smaller parts\n"
   ]
  },
  {
   "cell_type": "markdown",
   "id": "c0b8693d-c94a-4277-881f-2b86b5902047",
   "metadata": {},
   "source": [
    "___________"
   ]
  },
  {
   "cell_type": "markdown",
   "id": "32107b12-52ab-47a9-9404-f0307c49192a",
   "metadata": {},
   "source": [
    "#### 🧬 SYNTAX :\n",
    "\n",
    "def function_name():\n",
    "\n",
    "    function_body\n",
    "    "
   ]
  },
  {
   "cell_type": "markdown",
   "id": "b961f781-a209-4f6e-9ac4-c9dff8455d01",
   "metadata": {},
   "source": [
    "___________________"
   ]
  },
  {
   "cell_type": "markdown",
   "id": "024416d8-73bf-40df-91b8-8cd7a9b5ccdb",
   "metadata": {},
   "source": [
    "#### 🍒 FUNCTION TO ADD NUMBERS"
   ]
  },
  {
   "cell_type": "markdown",
   "id": "71e5ea06-a4d9-431c-86cd-760bcacd4d97",
   "metadata": {},
   "source": [
    "##### 🔰 FUNCTION DECLARATION"
   ]
  },
  {
   "cell_type": "markdown",
   "id": "17ded788-5d66-4f8e-9d79-ac517aba8644",
   "metadata": {},
   "source": [
    "#### 🔺 FUNCTION TO ADD NUMBERS"
   ]
  },
  {
   "cell_type": "code",
   "execution_count": 3,
   "id": "57aa9a7c-d6ae-44bf-9465-46c6045889b0",
   "metadata": {},
   "outputs": [],
   "source": [
    "def add_numbers():\n",
    "\n",
    "    num1 = 10\n",
    "    num2 = 20\n",
    "\n",
    "    add_numbers = num1+num2\n",
    "    print(add_numbers)"
   ]
  },
  {
   "cell_type": "markdown",
   "id": "7be8741b-6059-4737-bcac-77c8cb73de76",
   "metadata": {},
   "source": [
    "##### 🔰 FUNCTION CALL"
   ]
  },
  {
   "cell_type": "code",
   "execution_count": 6,
   "id": "97db5aba-28d9-4572-b1b0-645f07f29045",
   "metadata": {},
   "outputs": [
    {
     "name": "stdout",
     "output_type": "stream",
     "text": [
      "30\n"
     ]
    }
   ],
   "source": [
    "add_numbers()"
   ]
  },
  {
   "cell_type": "markdown",
   "id": "f4304d88-cc03-4753-a330-3c2bec626980",
   "metadata": {},
   "source": [
    "____________"
   ]
  },
  {
   "cell_type": "markdown",
   "id": "0a61d07e-070b-4bda-84fc-7faacee53a0e",
   "metadata": {},
   "source": [
    "#### 🔺 FUNCTION TO ITERATE LIST ITEMS"
   ]
  },
  {
   "cell_type": "code",
   "execution_count": 22,
   "id": "79c5ce6a-740b-4f63-9153-3cbda266b947",
   "metadata": {},
   "outputs": [],
   "source": [
    "def print_fruits():\n",
    "\n",
    "    fruits = ['apple', 'orange', 'grapes', 'banana']\n",
    "    for f in fruits:\n",
    "        print(f)"
   ]
  },
  {
   "cell_type": "code",
   "execution_count": 25,
   "id": "c7838595-a3aa-4c86-9558-9fba30676128",
   "metadata": {},
   "outputs": [
    {
     "name": "stdout",
     "output_type": "stream",
     "text": [
      "apple\n",
      "orange\n",
      "grapes\n",
      "banana\n"
     ]
    }
   ],
   "source": [
    "print_fruits()"
   ]
  },
  {
   "cell_type": "markdown",
   "id": "1e1bb11f-119b-4218-a935-08a2327735b7",
   "metadata": {},
   "source": [
    "______________________"
   ]
  },
  {
   "cell_type": "markdown",
   "id": "6517f935-2bff-4141-924c-9119ba36c11d",
   "metadata": {},
   "source": [
    "#### 🔺 FUNCTION TO CONCATENATE "
   ]
  },
  {
   "cell_type": "code",
   "execution_count": 26,
   "id": "da7176d8-ffb7-4ae1-866c-a097aa674b10",
   "metadata": {},
   "outputs": [],
   "source": [
    "def concat():\n",
    "\n",
    "    X = \"Hello\"\n",
    "    Y = \"World\"\n",
    "\n",
    "    print(X+Y)"
   ]
  },
  {
   "cell_type": "code",
   "execution_count": 27,
   "id": "8536e59b-7c4f-4daa-a5f0-f5dc9cba430a",
   "metadata": {},
   "outputs": [
    {
     "name": "stdout",
     "output_type": "stream",
     "text": [
      "HelloWorld\n"
     ]
    }
   ],
   "source": [
    "concat()"
   ]
  },
  {
   "cell_type": "markdown",
   "id": "d49ae7bc-fbdd-4a23-9d89-3b27af8df1e4",
   "metadata": {},
   "source": [
    "___________________"
   ]
  },
  {
   "cell_type": "markdown",
   "id": "2011a8d8-0234-40d5-bc25-d0fd40d731ae",
   "metadata": {},
   "source": [
    "#### 💠 FUNCTION EXAMPLE"
   ]
  },
  {
   "cell_type": "markdown",
   "id": "885c7744-12e0-4997-8382-6882b2557c73",
   "metadata": {},
   "source": [
    "#### BMI Calculator"
   ]
  },
  {
   "cell_type": "markdown",
   "id": "cf318acd-9651-4d1f-9199-b5096c92429c",
   "metadata": {},
   "source": [
    "Problem Statement : \n",
    "\n",
    "           Create a Python program that calculates the Body Mass Index(BMI).\n",
    "\n",
    "##### ◼️ Hint :\n",
    "\n",
    "            BMI = weight (kg) / [height (m)]2"
   ]
  },
  {
   "cell_type": "markdown",
   "id": "be015e0c-f868-4d5a-9412-e91e52e7a808",
   "metadata": {},
   "source": [
    "#### ◼️ Instructions:\n",
    "\n",
    "          1. Define a function calculate_bmi(weight, height) that returns the BMI.\n",
    "\n",
    "          2. Prompt the user for their weight (in kg) and height (in meters).\n",
    "\n",
    "          3. Use the function to calculate and display the BMI"
   ]
  },
  {
   "cell_type": "markdown",
   "id": "cbef0ece-eb92-4ac4-8530-9146417b08e6",
   "metadata": {},
   "source": [
    "#### ◼️ Sample Output:\n",
    "\n",
    "        ◼️ Enter your weight in kg: 58\n",
    "\n",
    "        ◼️ Enter your height in meters: 1.62\n",
    "\n",
    "        ◼️ Your BMI is: 22.10"
   ]
  },
  {
   "cell_type": "code",
   "execution_count": null,
   "id": "31b2280f-0a64-4227-9a6b-b69e0a5571c1",
   "metadata": {},
   "outputs": [],
   "source": [
    "BMI = weight (kg) / [height (m)]2"
   ]
  },
  {
   "cell_type": "code",
   "execution_count": 16,
   "id": "1e1ae46b-c82a-4e38-bb87-92cfbae8807d",
   "metadata": {},
   "outputs": [],
   "source": [
    "def bmi_calculator():\n",
    "\n",
    "    w = float(input('Enter your Weight in Kg: '))\n",
    "    height = float(input('Enter your Height in Meters: '))\n",
    "\n",
    "    h = height ** 2\n",
    "\n",
    "    BMI = (w/h)\n",
    "\n",
    "    print(BMI)\n",
    "    "
   ]
  },
  {
   "cell_type": "code",
   "execution_count": 17,
   "id": "92885436-9959-422d-bfb8-89590c34718d",
   "metadata": {},
   "outputs": [
    {
     "name": "stdin",
     "output_type": "stream",
     "text": [
      "Enter your Weight in Kg:  58\n",
      "Enter your Height in Meters:  1.62\n"
     ]
    },
    {
     "name": "stdout",
     "output_type": "stream",
     "text": [
      "22.10028959000152\n"
     ]
    }
   ],
   "source": [
    "bmi_calculator()"
   ]
  },
  {
   "cell_type": "markdown",
   "id": "1ca42c69-af0e-4c12-a51b-97267222ef80",
   "metadata": {},
   "source": [
    "_______________________"
   ]
  },
  {
   "cell_type": "markdown",
   "id": "f45ba7c1-e372-47d8-a1fb-cf417324482c",
   "metadata": {},
   "source": [
    "Functions can be:\n",
    "\n",
    "               1. User Defined Function - created by developers inorder to ease the tasks.\n",
    "\n",
    "               2. Build In Functions - like print(), input(), max() etc."
   ]
  },
  {
   "cell_type": "markdown",
   "id": "95ed13cc-f628-469b-8f92-0f3f6f267db8",
   "metadata": {},
   "source": [
    "________________"
   ]
  },
  {
   "cell_type": "markdown",
   "id": "365492eb-5e39-47dc-86ad-0a64ec4b6879",
   "metadata": {},
   "source": [
    "#### 🍁 FUNCTIONS WITH RETURN STATEMENT"
   ]
  },
  {
   "cell_type": "markdown",
   "id": "fe2c68a0-afe9-4258-9d42-2030aee0d5c1",
   "metadata": {},
   "source": [
    "#### ⚡️ SYNTAX :"
   ]
  },
  {
   "cell_type": "code",
   "execution_count": null,
   "id": "f8442b5f-84d8-4510-b4f4-bf4d028cd6de",
   "metadata": {},
   "outputs": [],
   "source": [
    "def function_name():\n",
    "\n",
    "    function_body\n",
    "    return"
   ]
  },
  {
   "cell_type": "markdown",
   "id": "a72cf41c-799c-4f12-8a41-217a838286e1",
   "metadata": {},
   "source": [
    "#### ⚡️ CALLING FUNCTION :"
   ]
  },
  {
   "cell_type": "code",
   "execution_count": null,
   "id": "795cad4a-e886-4ab8-9aeb-b9aeb984391c",
   "metadata": {},
   "outputs": [],
   "source": [
    "print(function_name)"
   ]
  },
  {
   "cell_type": "code",
   "execution_count": null,
   "id": "152b7cd8-ed72-4b5e-9d9f-f16d28848b7f",
   "metadata": {},
   "outputs": [],
   "source": [
    "- When return statement is used, to get the output print function should be used."
   ]
  },
  {
   "cell_type": "markdown",
   "id": "4923487a-3219-4e27-beaf-dc1808e446e8",
   "metadata": {},
   "source": [
    "_____________________________________________________________"
   ]
  },
  {
   "cell_type": "markdown",
   "id": "cfdbae90-59b3-486e-80a9-c05ed2dffd55",
   "metadata": {},
   "source": [
    "- Return statement should be  added to the end.\n",
    "\n",
    "- The return statement in Python is used inside a function to send a result back to the caller.\n",
    "\n",
    "- Return statement can be given as 'retun' or 'retun None'. "
   ]
  },
  {
   "cell_type": "markdown",
   "id": "d4ec3c4b-7dbc-4601-9802-10d2b99bb96c",
   "metadata": {},
   "source": [
    "___________________\n",
    "\n"
   ]
  },
  {
   "cell_type": "markdown",
   "id": "5826851e-ec12-4dee-a96f-f050e48e1297",
   "metadata": {},
   "source": [
    "#### ☘️ SUBSTRACT NUMBER WITH FUNCTION AND RETURN STATEMENT"
   ]
  },
  {
   "cell_type": "code",
   "execution_count": 46,
   "id": "fead005f-9f54-46dd-bd46-ae3fa809c0ce",
   "metadata": {},
   "outputs": [],
   "source": [
    "def substract_num():\n",
    "\n",
    "    num1 = int(input('Enter First Number: '))\n",
    "    num2 = int(input('Enter Second Number\" '))\n",
    "\n",
    "    total = num1 - num2\n",
    "\n",
    "    return total   "
   ]
  },
  {
   "cell_type": "code",
   "execution_count": 47,
   "id": "70686d62-8f31-4613-a768-71be075d7989",
   "metadata": {},
   "outputs": [
    {
     "name": "stdin",
     "output_type": "stream",
     "text": [
      "Enter First Number:  100\n",
      "Enter Second Number\"  50\n"
     ]
    },
    {
     "name": "stdout",
     "output_type": "stream",
     "text": [
      "50\n"
     ]
    }
   ],
   "source": [
    "print(substract_num())"
   ]
  },
  {
   "cell_type": "markdown",
   "id": "4c05fe69-a9dc-4b1b-8aae-260b6aa911eb",
   "metadata": {},
   "source": [
    "________________________________"
   ]
  },
  {
   "cell_type": "markdown",
   "id": "27cf37ad-b162-427f-a455-b38ccd4e43fc",
   "metadata": {},
   "source": [
    "#### ☘️ GREETINGS USING FUNCTION AND RETURN"
   ]
  },
  {
   "cell_type": "code",
   "execution_count": 52,
   "id": "f3c953a6-6979-4797-80f6-0dc5905f915d",
   "metadata": {},
   "outputs": [],
   "source": [
    "def say_hello():\n",
    "\n",
    "    print('Hello Good Morning')\n",
    "    return None\n",
    "    "
   ]
  },
  {
   "cell_type": "code",
   "execution_count": 53,
   "id": "b920f171-a216-4ae2-8daa-0f48489847fb",
   "metadata": {},
   "outputs": [
    {
     "name": "stdout",
     "output_type": "stream",
     "text": [
      "Hello Good Morning\n"
     ]
    }
   ],
   "source": [
    "say_hello()"
   ]
  },
  {
   "cell_type": "markdown",
   "id": "628debaa-b92f-4bdf-ac22-e64d8bab98a9",
   "metadata": {},
   "source": [
    "___________________________"
   ]
  },
  {
   "cell_type": "code",
   "execution_count": 58,
   "id": "ae3c945a-dadb-4e67-9fb8-06b3a525f2ff",
   "metadata": {},
   "outputs": [],
   "source": [
    "def check_even(num):\n",
    "    return \"Even\" if num % 2 == 0 else \"Odd\"\n"
   ]
  },
  {
   "cell_type": "code",
   "execution_count": 60,
   "id": "81308a23-e522-4e69-b2f4-ebdc83e86e5b",
   "metadata": {},
   "outputs": [
    {
     "data": {
      "text/plain": [
       "'Even'"
      ]
     },
     "execution_count": 60,
     "metadata": {},
     "output_type": "execute_result"
    }
   ],
   "source": [
    "check_even(4)"
   ]
  },
  {
   "cell_type": "markdown",
   "id": "b17c26e4-081a-4d34-ac19-958ee76c6ab5",
   "metadata": {},
   "source": [
    "___________________"
   ]
  },
  {
   "cell_type": "markdown",
   "id": "9fb26773-e502-4f32-8e02-16583ec93f68",
   "metadata": {},
   "source": [
    "#### 🍒 ARGUMENTS"
   ]
  },
  {
   "cell_type": "markdown",
   "id": "1a434544-40f6-4516-952c-58a3b87bcd0a",
   "metadata": {},
   "source": [
    "- Arguments are the actual values you pass into a function when you call it. \n",
    "\n",
    "- They fill in the placeholders (called parameters) defined in the function.\n"
   ]
  },
  {
   "cell_type": "markdown",
   "id": "ebdd3225-e5f1-4379-9bad-a7ca06be13f2",
   "metadata": {},
   "source": [
    "#### 🔰 TYPES OF ARGUMENTS:"
   ]
  },
  {
   "cell_type": "code",
   "execution_count": null,
   "id": "3977de1b-2743-41d1-acd5-1e4649cfd944",
   "metadata": {},
   "outputs": [],
   "source": [
    "             •\tRequired arguments\n",
    "       \n",
    "             •\tKeyword arguments\n",
    "\n",
    "             •\tDefault arguments\n",
    "\n",
    "             •\tVariable-length arguments\n"
   ]
  },
  {
   "cell_type": "markdown",
   "id": "7c05f099-dc17-4f11-bebc-dc47c0bb2046",
   "metadata": {},
   "source": [
    "#### 🔰 REQUIRED ARGUMENT"
   ]
  },
  {
   "cell_type": "markdown",
   "id": "ed759d54-a311-41e7-a8c4-14d70d586cf3",
   "metadata": {},
   "source": [
    "- Here order of the argument is very important.\n",
    "\n",
    "- Any Miss-Match in argument will lead to error in storing the object."
   ]
  },
  {
   "cell_type": "code",
   "execution_count": 61,
   "id": "da02db76-012e-493d-95da-a067ae2b4653",
   "metadata": {},
   "outputs": [],
   "source": [
    "def add_numbers(num1, num2):\n",
    "    print(num1 + num2)\n",
    "\n",
    "    return"
   ]
  },
  {
   "cell_type": "code",
   "execution_count": 63,
   "id": "87b0470b-452c-4d7c-95bf-23357293f192",
   "metadata": {},
   "outputs": [
    {
     "name": "stdout",
     "output_type": "stream",
     "text": [
      "200\n"
     ]
    }
   ],
   "source": [
    "add_numbers(100,100)"
   ]
  },
  {
   "cell_type": "markdown",
   "id": "07db7a5d-435b-4262-8471-72db65050901",
   "metadata": {},
   "source": [
    "#### 🔰 KEYWORD ARGUMENT"
   ]
  },
  {
   "cell_type": "markdown",
   "id": "23d710e0-efce-4078-ae20-c5da1038f63c",
   "metadata": {},
   "source": [
    "- Order of argument is maintained because of the keyword provided in the Call Function."
   ]
  },
  {
   "cell_type": "code",
   "execution_count": 66,
   "id": "8edbddda-2894-478c-9ad9-9369f972c5b7",
   "metadata": {},
   "outputs": [],
   "source": [
    "def introduce(name, age):\n",
    "    print(f'My name is {name} and my age is {age}')\n",
    "\n",
    "    return\n"
   ]
  },
  {
   "cell_type": "code",
   "execution_count": 111,
   "id": "59dfa3af-84f1-4fb7-9628-36a4484598e4",
   "metadata": {},
   "outputs": [
    {
     "name": "stdout",
     "output_type": "stream",
     "text": [
      "My name is zara and my age is 33\n"
     ]
    }
   ],
   "source": [
    "introduce(name='zara', age=33)"
   ]
  },
  {
   "cell_type": "markdown",
   "id": "f1b2e713-df91-47fa-83a4-f1816f21b31d",
   "metadata": {},
   "source": [
    "_______________"
   ]
  },
  {
   "cell_type": "markdown",
   "id": "a2dc241b-e27d-4e20-9455-c1d9eb78278a",
   "metadata": {},
   "source": [
    "#### 🔰 DEFAULT ARGUMENT"
   ]
  },
  {
   "cell_type": "markdown",
   "id": "764fe820-2e68-458c-af79-853b307b8439",
   "metadata": {},
   "source": [
    "- A default argument can be set, also if needed the argument value can be changed."
   ]
  },
  {
   "cell_type": "code",
   "execution_count": 72,
   "id": "8f0970e5-2c58-4859-b8ca-1f20a15e53df",
   "metadata": {},
   "outputs": [],
   "source": [
    "def Hello(name = 'guest'):\n",
    "    print(f'Hello, {name}')\n",
    "\n",
    "    return\n"
   ]
  },
  {
   "cell_type": "code",
   "execution_count": 75,
   "id": "22de189f-0b73-45f0-809e-42492253fe44",
   "metadata": {},
   "outputs": [
    {
     "name": "stdout",
     "output_type": "stream",
     "text": [
      "Hello, guest\n"
     ]
    }
   ],
   "source": [
    "Hello()"
   ]
  },
  {
   "cell_type": "code",
   "execution_count": 76,
   "id": "992c6ad7-d8b7-45f1-b4a0-6462516981a3",
   "metadata": {},
   "outputs": [
    {
     "name": "stdout",
     "output_type": "stream",
     "text": [
      "Hello, Zara\n"
     ]
    }
   ],
   "source": [
    "Hello('Zara')"
   ]
  },
  {
   "cell_type": "markdown",
   "id": "c922e850-0ed4-4214-b2df-3f6cb0e85619",
   "metadata": {},
   "source": [
    "________________"
   ]
  },
  {
   "cell_type": "markdown",
   "id": "828cf037-5f97-4294-a2a8-5ab7ca4313c1",
   "metadata": {},
   "source": [
    "#### 🔰 VARIABLE LENGTH ARGUMENTS"
   ]
  },
  {
   "cell_type": "markdown",
   "id": "34af1465-218e-453b-841d-b9e8b9a4ba01",
   "metadata": {},
   "source": [
    "USED WHEN:\n",
    "\n",
    "   1. When Infinite number of values are used.\n",
    "\n",
    "   2. Number of values use case in unkown or donot have a prior knowledge about no:of arguments used.\n",
    "\n",
    "Variable Length Arguments can be of 2 types:\n",
    "\n",
    "   1. *args : Arguments  -  the output is printed in tuple.\n",
    "      \n",
    "   2. **kwargs : KeyWord  Arguments  - output is printed in Dictionary."
   ]
  },
  {
   "cell_type": "markdown",
   "id": "483e17d6-d197-4787-81b4-e4263b9d66f3",
   "metadata": {},
   "source": [
    "__________________________"
   ]
  },
  {
   "cell_type": "markdown",
   "id": "6ca975ce-bd03-4ab1-a2b7-4bea8ce740e2",
   "metadata": {},
   "source": [
    "#### ⚜️ *args"
   ]
  },
  {
   "cell_type": "code",
   "execution_count": 145,
   "id": "4949e965-c2cf-4bea-a2d3-2549868a755c",
   "metadata": {},
   "outputs": [],
   "source": [
    "def numbers(*args):   \n",
    "    print(args)"
   ]
  },
  {
   "cell_type": "code",
   "execution_count": 155,
   "id": "ec27564c-f691-40a1-a56f-405e2b4252b1",
   "metadata": {},
   "outputs": [
    {
     "name": "stdout",
     "output_type": "stream",
     "text": [
      "(10, 20, 30, 40, 50)\n"
     ]
    }
   ],
   "source": [
    "numbers(10,20,30,40,50)"
   ]
  },
  {
   "cell_type": "code",
   "execution_count": 152,
   "id": "f0309d00-173d-4c33-aa71-6c8bba5fd877",
   "metadata": {},
   "outputs": [],
   "source": [
    "def fruits(*fruits):                    # instead of *args, anything can be added. eg:*numbers\n",
    "    print(fruits)"
   ]
  },
  {
   "cell_type": "code",
   "execution_count": 154,
   "id": "9183fc2c-7474-41af-8ddd-456482a8f152",
   "metadata": {},
   "outputs": [
    {
     "name": "stdout",
     "output_type": "stream",
     "text": [
      "('grapes', 'mango', 'orange', 'apple')\n"
     ]
    }
   ],
   "source": [
    "fruits('grapes', 'mango','orange','apple')"
   ]
  },
  {
   "cell_type": "markdown",
   "id": "dddb6523-276e-4255-a4b0-5da166a44c49",
   "metadata": {},
   "source": [
    "______________"
   ]
  },
  {
   "cell_type": "markdown",
   "id": "15decda4-6239-46bc-a358-b3f9847ad3eb",
   "metadata": {},
   "source": [
    "#### ⚜️ **kwargs"
   ]
  },
  {
   "cell_type": "code",
   "execution_count": 164,
   "id": "d7683ddf-bcec-4733-b6bf-768947dfa688",
   "metadata": {},
   "outputs": [],
   "source": [
    "def students(**kwargs):\n",
    "    print(kwargs)"
   ]
  },
  {
   "cell_type": "code",
   "execution_count": 165,
   "id": "e1db9f84-927a-40a3-8e81-8adfd2841933",
   "metadata": {},
   "outputs": [
    {
     "name": "stdout",
     "output_type": "stream",
     "text": [
      "{'name': 'Tom', 'age': 22, 'marks': 75}\n"
     ]
    }
   ],
   "source": [
    "students(name ='Tom', age = 22, marks = 75)"
   ]
  },
  {
   "cell_type": "code",
   "execution_count": null,
   "id": "c6d72cb4-e262-4853-b4e4-92e6414cb0ed",
   "metadata": {},
   "outputs": [],
   "source": []
  },
  {
   "cell_type": "code",
   "execution_count": null,
   "id": "c27a8d6d-30cd-4ad8-9a69-98345c09e887",
   "metadata": {},
   "outputs": [],
   "source": []
  },
  {
   "cell_type": "markdown",
   "id": "20df5a0d-2629-4f80-875a-5aae93d81487",
   "metadata": {},
   "source": [
    "_________________________________"
   ]
  },
  {
   "cell_type": "markdown",
   "id": "7bc4a293-f53b-473d-b19e-51b7a594e379",
   "metadata": {},
   "source": [
    "#### 🍂 PRACTICE"
   ]
  },
  {
   "cell_type": "code",
   "execution_count": 77,
   "id": "37c81019-0eda-4b38-9a90-1fbeefd37caa",
   "metadata": {},
   "outputs": [],
   "source": [
    "def details(name, location):\n",
    "    print(name+location)\n",
    "    return"
   ]
  },
  {
   "cell_type": "code",
   "execution_count": 78,
   "id": "b54da28a-4672-4878-8fb2-14b4eeecb0d8",
   "metadata": {},
   "outputs": [
    {
     "name": "stdout",
     "output_type": "stream",
     "text": [
      "ZaraDubai\n"
     ]
    }
   ],
   "source": [
    "details('Zara','Dubai')"
   ]
  },
  {
   "cell_type": "markdown",
   "id": "39eb0742-d701-4cd7-bcfc-fd17a4358add",
   "metadata": {},
   "source": [
    "__________________________"
   ]
  },
  {
   "cell_type": "markdown",
   "id": "f3fddb27-5478-4886-9d5e-2984e4d629da",
   "metadata": {},
   "source": [
    "#### 🔰 CALLING A LIST WITH FUNCTION"
   ]
  },
  {
   "cell_type": "code",
   "execution_count": 103,
   "id": "35871531-aa31-4c72-aefc-2ef593f53bed",
   "metadata": {},
   "outputs": [],
   "source": [
    "def fruits(fruits):\n",
    "     \n",
    "    for f in fruits:\n",
    "        print(f)\n",
    "    return\n",
    "    "
   ]
  },
  {
   "cell_type": "code",
   "execution_count": 105,
   "id": "09556517-e1d9-4ba7-b4a7-fa8f1f8cf737",
   "metadata": {},
   "outputs": [
    {
     "name": "stdout",
     "output_type": "stream",
     "text": [
      "mango\n",
      "apple\n",
      "banana\n",
      "grapes\n"
     ]
    }
   ],
   "source": [
    " fruits(fruits =['mango', 'apple', 'banana', 'grapes'] )"
   ]
  },
  {
   "cell_type": "markdown",
   "id": "5f161eff-4542-4b8e-abd1-2fa261879d2d",
   "metadata": {},
   "source": [
    "______________"
   ]
  },
  {
   "cell_type": "markdown",
   "id": "e7ea268e-88b5-4716-b83d-a5455d1f595a",
   "metadata": {},
   "source": [
    "#### 🔰 FUNCTION TO FIND EVEN AND ODD NUMBER"
   ]
  },
  {
   "cell_type": "code",
   "execution_count": 109,
   "id": "395f40cc-41b2-47ac-a917-6a678525616f",
   "metadata": {},
   "outputs": [],
   "source": [
    "def numbers():\n",
    "    num = int(input('Enter a Number: '))\n",
    "    if num % 2 == 0:\n",
    "        print(f'{num} is Even Number')\n",
    "    else:\n",
    "        print(f'{num} is Odd Number')\n",
    "    return"
   ]
  },
  {
   "cell_type": "code",
   "execution_count": 110,
   "id": "56156f7c-e900-434c-ab27-51c6668dc58b",
   "metadata": {},
   "outputs": [
    {
     "name": "stdin",
     "output_type": "stream",
     "text": [
      "Enter a Number:  8\n"
     ]
    },
    {
     "name": "stdout",
     "output_type": "stream",
     "text": [
      "8 is Even Number\n"
     ]
    }
   ],
   "source": [
    "numbers()"
   ]
  },
  {
   "cell_type": "markdown",
   "id": "3158d32f-c483-4742-abdf-9c913e778f61",
   "metadata": {},
   "source": [
    "__________________________"
   ]
  },
  {
   "cell_type": "code",
   "execution_count": 134,
   "id": "c2ab47ed-27ce-428c-bf01-60601a85948a",
   "metadata": {},
   "outputs": [],
   "source": [
    "def create_list():\n",
    "    final_list = []\n",
    "\n",
    "    total_elements = int(input('Enter the total number of Elements: '))\n",
    "\n",
    "    for i in range(total_elements):\n",
    "                         list_element = input('Enter an Element: ')\n",
    "                         final_list.append(list_element)                     \n",
    "    print(final_list)"
   ]
  },
  {
   "cell_type": "code",
   "execution_count": 135,
   "id": "c2b33409-5460-4f4c-ba05-cf4e93d49e31",
   "metadata": {},
   "outputs": [
    {
     "name": "stdin",
     "output_type": "stream",
     "text": [
      "Enter the total number of Elements:  2\n",
      "Enter an Element:  lion\n",
      "Enter an Element:  tiger\n"
     ]
    },
    {
     "name": "stdout",
     "output_type": "stream",
     "text": [
      "['lion', 'tiger']\n"
     ]
    }
   ],
   "source": [
    "create_list()"
   ]
  },
  {
   "cell_type": "markdown",
   "id": "c6a76f20-1fb1-44cb-910e-18af6b0f2f09",
   "metadata": {},
   "source": [
    "__________________________________"
   ]
  },
  {
   "cell_type": "code",
   "execution_count": null,
   "id": "e8929eeb-df26-4ff3-b2aa-2188a98d0727",
   "metadata": {},
   "outputs": [],
   "source": []
  }
 ],
 "metadata": {
  "kernelspec": {
   "display_name": "Python 3 (ipykernel)",
   "language": "python",
   "name": "python3"
  },
  "language_info": {
   "codemirror_mode": {
    "name": "ipython",
    "version": 3
   },
   "file_extension": ".py",
   "mimetype": "text/x-python",
   "name": "python",
   "nbconvert_exporter": "python",
   "pygments_lexer": "ipython3",
   "version": "3.12.7"
  }
 },
 "nbformat": 4,
 "nbformat_minor": 5
}
