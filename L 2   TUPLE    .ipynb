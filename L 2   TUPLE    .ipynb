{
 "cells": [
  {
   "cell_type": "markdown",
   "id": "d8a4b308-c263-4a0d-bab8-4a8ef98a9a67",
   "metadata": {},
   "source": [
    "## ⚫ TUPLE"
   ]
  },
  {
   "cell_type": "markdown",
   "id": "18f2c74b-9a7f-4419-b442-0bbcce18970e",
   "metadata": {},
   "source": [
    "🔻 Tuple are denoted in paranthesis .ie()\n",
    "\n",
    "🔻 tuples are sequenticial data types but Inmutable.\n",
    "\n",
    "🔻 Tuple can include multiple data types"
   ]
  },
  {
   "cell_type": "markdown",
   "id": "d0d47158-1f3f-404b-91b3-2958a2520b5e",
   "metadata": {},
   "source": [
    "## CREATING A TUPLE"
   ]
  },
  {
   "cell_type": "code",
   "execution_count": 1,
   "id": "fc4c3a3f-ff3c-4b6f-a5b4-5873dc9f8f9d",
   "metadata": {},
   "outputs": [
    {
     "name": "stdout",
     "output_type": "stream",
     "text": [
      "('phython', 2, 6)\n"
     ]
    },
    {
     "data": {
      "text/plain": [
       "tuple"
      ]
     },
     "execution_count": 1,
     "metadata": {},
     "output_type": "execute_result"
    }
   ],
   "source": [
    "TUP1 = (\"phython\", 2, 6)\n",
    "\n",
    "print(TUP1)\n",
    "type(TUP1)"
   ]
  },
  {
   "cell_type": "markdown",
   "id": "d6524cdc-d2ab-412a-bf12-41ece93c657a",
   "metadata": {},
   "source": [
    " ## More than one value seperated by comma is considered as tuple"
   ]
  },
  {
   "cell_type": "code",
   "execution_count": 4,
   "id": "1c9eeaa0-2175-42b4-acc3-382718679943",
   "metadata": {},
   "outputs": [
    {
     "data": {
      "text/plain": [
       "tuple"
      ]
     },
     "execution_count": 4,
     "metadata": {},
     "output_type": "execute_result"
    }
   ],
   "source": [
    "tup3 = \"a\", \"b\", \"c\", \"d\"  \n",
    "\n",
    "type(tup3)"
   ]
  },
  {
   "cell_type": "markdown",
   "id": "e7bdb006-2a24-4bdc-934e-81a54be4b27a",
   "metadata": {},
   "source": [
    "# CREATING EMPTY TUPLE"
   ]
  },
  {
   "cell_type": "code",
   "execution_count": 3,
   "id": "84afe268-19cb-495c-8f24-fc1c1add93ad",
   "metadata": {},
   "outputs": [
    {
     "data": {
      "text/plain": [
       "tuple"
      ]
     },
     "execution_count": 3,
     "metadata": {},
     "output_type": "execute_result"
    }
   ],
   "source": [
    "ages =()\n",
    "\n",
    "type(ages)"
   ]
  },
  {
   "cell_type": "markdown",
   "id": "853e7df1-1ab0-4b4d-8289-08881ff66b93",
   "metadata": {},
   "source": [
    "#### CREATING TUPLE WITH SINGLE VALUE \n"
   ]
  },
  {
   "cell_type": "code",
   "execution_count": 5,
   "id": "cc71596e-18f1-45f6-8a40-f53ea50273cd",
   "metadata": {},
   "outputs": [
    {
     "name": "stdout",
     "output_type": "stream",
     "text": [
      "('phython',)\n"
     ]
    },
    {
     "data": {
      "text/plain": [
       "tuple"
      ]
     },
     "execution_count": 5,
     "metadata": {},
     "output_type": "execute_result"
    }
   ],
   "source": [
    "tup = (\"phython\",)\n",
    "# CREATING TUPLE WITH SINGLE VALUE - SHOULD HAVE A COMMA AT THE END - WITHOUT COMMA IT WILL BE CONSIDERED AS STRING OR INTEGER DEPENDING ON VALUE\n",
    "\n",
    "print(tup)\n",
    "type(tup)"
   ]
  },
  {
   "cell_type": "code",
   "execution_count": null,
   "id": "f8872f8c-7cdf-4ebb-a4bf-a8b538faff71",
   "metadata": {},
   "outputs": [],
   "source": [
    "--------------------------------------------------------------------------------------------------------------------------------------------------------"
   ]
  },
  {
   "cell_type": "markdown",
   "id": "f1f2a100-bde1-4af8-bd52-00c1dbbff2c0",
   "metadata": {},
   "source": [
    "## INDEXING OR  EXTRACTING VALUES\n"
   ]
  },
  {
   "cell_type": "code",
   "execution_count": 6,
   "id": "7623349a-11ba-4741-b70a-34769ae9f4e5",
   "metadata": {},
   "outputs": [],
   "source": [
    "fruits = ('apple', 'orange', 'grapes', 'banana')    # indexing of value starts from 0"
   ]
  },
  {
   "cell_type": "code",
   "execution_count": 7,
   "id": "022935bf-68a9-4613-a75c-adbb62db2f98",
   "metadata": {},
   "outputs": [
    {
     "data": {
      "text/plain": [
       "'apple'"
      ]
     },
     "execution_count": 7,
     "metadata": {},
     "output_type": "execute_result"
    }
   ],
   "source": [
    "# To access 'apple' from fruits list\n",
    "\n",
    "fruits[0]"
   ]
  },
  {
   "cell_type": "code",
   "execution_count": 8,
   "id": "eaa72068-142c-40f4-abf3-465d3247df90",
   "metadata": {},
   "outputs": [
    {
     "data": {
      "text/plain": [
       "('orange', 'grapes')"
      ]
     },
     "execution_count": 8,
     "metadata": {},
     "output_type": "execute_result"
    }
   ],
   "source": [
    "# accessing orange and grapes \n",
    "\n",
    "fruits[1:3]  "
   ]
  },
  {
   "cell_type": "code",
   "execution_count": 17,
   "id": "ed7b7cb0-3216-4392-a697-86a4aa85dc02",
   "metadata": {},
   "outputs": [
    {
     "data": {
      "text/plain": [
       "'banana'"
      ]
     },
     "execution_count": 17,
     "metadata": {},
     "output_type": "execute_result"
    }
   ],
   "source": [
    "# REVERSE INDEXING\n",
    "\n",
    "fruits[-1]"
   ]
  },
  {
   "cell_type": "code",
   "execution_count": 18,
   "id": "5ad5f807-a436-4388-b5a5-37ec3b2ba0c4",
   "metadata": {},
   "outputs": [
    {
     "data": {
      "text/plain": [
       "('orange', 'grapes', 'banana')"
      ]
     },
     "execution_count": 18,
     "metadata": {},
     "output_type": "execute_result"
    }
   ],
   "source": [
    "fruits[1::]"
   ]
  },
  {
   "cell_type": "code",
   "execution_count": 19,
   "id": "456cb181-8f4c-473f-a41e-72c2562010b4",
   "metadata": {},
   "outputs": [
    {
     "data": {
      "text/plain": [
       "('apple',)"
      ]
     },
     "execution_count": 19,
     "metadata": {},
     "output_type": "execute_result"
    }
   ],
   "source": [
    "fruits[::5]"
   ]
  },
  {
   "cell_type": "code",
   "execution_count": null,
   "id": "2b1d25fc-cdd6-428f-8868-03527e4404a3",
   "metadata": {},
   "outputs": [],
   "source": [
    "--------------------------------------------------------------------------------------------------------------------------------------------------------"
   ]
  },
  {
   "cell_type": "markdown",
   "id": "0007888e-c819-43d2-97d8-4ce23b9cb9dd",
   "metadata": {},
   "source": [
    "## CONCATENATING TUPLE"
   ]
  },
  {
   "cell_type": "markdown",
   "id": "b1e00026-5a16-4bef-b016-d241522382b8",
   "metadata": {},
   "source": [
    "1 . Tuples are inmutable, so new values cannot be added or deleted.\n",
    "\n",
    "2 . Instead 2 tuples can be combined.\n",
    "\n",
    "3 . '+' is used as concatenation.\n",
    "   "
   ]
  },
  {
   "cell_type": "code",
   "execution_count": 9,
   "id": "351b543d-2cb3-463c-be0e-321cb18f8835",
   "metadata": {},
   "outputs": [
    {
     "name": "stdout",
     "output_type": "stream",
     "text": [
      "(223, 78, 88, 'high', 'low')\n"
     ]
    }
   ],
   "source": [
    "tup1 = (223,78,88)\n",
    "tup2 = ('high', 'low')\n",
    "\n",
    "tup3 = tup1 + tup2\n",
    "print(tup3)"
   ]
  },
  {
   "cell_type": "code",
   "execution_count": null,
   "id": "e441fd87-fe98-430e-9363-ee1cb11366a0",
   "metadata": {},
   "outputs": [],
   "source": [
    "--------------------------------------------------------------------------------------------------------------------------------------------------------"
   ]
  },
  {
   "cell_type": "markdown",
   "id": "0fa239de-8fc5-4f25-828e-9608ee085443",
   "metadata": {},
   "source": [
    "## REPETATION OF A VALUE IN TUPLE"
   ]
  },
  {
   "cell_type": "markdown",
   "id": "82ccaaf2-27c1-479d-9488-a40be4f4d3ef",
   "metadata": {},
   "source": [
    "#### 1 . '*' is used to repeat or multiply the same value."
   ]
  },
  {
   "cell_type": "code",
   "execution_count": 10,
   "id": "c324223a-5393-49be-b24d-eccedd2f5114",
   "metadata": {},
   "outputs": [
    {
     "data": {
      "text/plain": [
       "('hello', 'hello', 'hello', 'hello')"
      ]
     },
     "execution_count": 10,
     "metadata": {},
     "output_type": "execute_result"
    }
   ],
   "source": [
    "tup = ('hello',)\n",
    "\n",
    "tup * 4                     # repeting values"
   ]
  },
  {
   "cell_type": "code",
   "execution_count": null,
   "id": "a2a96e8e-93f7-4c43-80eb-6cae68dc37d8",
   "metadata": {},
   "outputs": [],
   "source": [
    "--------------------------------------------------------------------------------------------------------------------------------------------------------"
   ]
  },
  {
   "cell_type": "markdown",
   "id": "95c21ead-ff44-42d5-87f0-3e5dd0c51d1f",
   "metadata": {},
   "source": [
    "## CHECKING MEMBERSHIP"
   ]
  },
  {
   "cell_type": "markdown",
   "id": "77e58d52-ca8b-438b-b454-54131057d6d4",
   "metadata": {},
   "source": [
    " ## 'in' is used to check whether object is present is tuple."
   ]
  },
  {
   "cell_type": "code",
   "execution_count": 11,
   "id": "76fc8a56-2e50-4d70-9f5f-def75014f069",
   "metadata": {},
   "outputs": [
    {
     "data": {
      "text/plain": [
       "True"
      ]
     },
     "execution_count": 11,
     "metadata": {},
     "output_type": "execute_result"
    }
   ],
   "source": [
    "tup = ('apple', 'grapes', 'orange', 23, 67)\n",
    "\n",
    "'orange' in tup              # checking 'orange' in tup"
   ]
  },
  {
   "cell_type": "markdown",
   "id": "d771d5b7-075b-44c6-9198-d175ee987dad",
   "metadata": {},
   "source": [
    "## CHECKING FOR NOT PRESENCE"
   ]
  },
  {
   "cell_type": "markdown",
   "id": "bd51b8bc-e5c5-4cf6-b454-2df23f4eee0e",
   "metadata": {},
   "source": [
    "### 'not in' is used to check whether an object is absent in tuple."
   ]
  },
  {
   "cell_type": "code",
   "execution_count": 12,
   "id": "22b61b70-e643-446a-aaca-f156e0920acf",
   "metadata": {},
   "outputs": [
    {
     "data": {
      "text/plain": [
       "True"
      ]
     },
     "execution_count": 12,
     "metadata": {},
     "output_type": "execute_result"
    }
   ],
   "source": [
    "tup = ('apple', 'grapes', 'orange', 23, 67)\n",
    "\n",
    "'banana' not in tup"
   ]
  },
  {
   "cell_type": "code",
   "execution_count": null,
   "id": "e4410dbe-4a2b-4bbd-82aa-627c6db59e63",
   "metadata": {},
   "outputs": [],
   "source": [
    "--------------------------------------------------------------------------------------------------------------------------------------------------------"
   ]
  },
  {
   "cell_type": "markdown",
   "id": "6a71c776-6464-4bc2-93e3-b04f658e307a",
   "metadata": {},
   "source": [
    "## ITERATION OF TUPLE"
   ]
  },
  {
   "cell_type": "code",
   "execution_count": 15,
   "id": "3fb0283f-e4c7-4793-b46b-f0e67b3b335b",
   "metadata": {},
   "outputs": [
    {
     "name": "stdout",
     "output_type": "stream",
     "text": [
      "apple\n",
      "grapes\n",
      "orange\n",
      "23\n",
      "67\n"
     ]
    }
   ],
   "source": [
    "tup = ('apple', 'grapes', 'orange', 23, 67)\n",
    "\n",
    "for t in tup:\n",
    "    print(t)"
   ]
  },
  {
   "cell_type": "code",
   "execution_count": null,
   "id": "c406ee0b-1dfe-4c0b-86e1-d80dbe751489",
   "metadata": {},
   "outputs": [],
   "source": [
    "--------------------------------------------------------------------------------------------------------------------------------------------------------"
   ]
  },
  {
   "cell_type": "markdown",
   "id": "ac013ea5-d322-42bd-9f02-4f7e85f03fa0",
   "metadata": {},
   "source": [
    "## TUPLE DELETION\n",
    "\n",
    "1 . Once created tuple values cannot be deleted.\n",
    "\n",
    "2 . Instead the entire tuple can be deleted"
   ]
  },
  {
   "cell_type": "code",
   "execution_count": 20,
   "id": "03b4896f-a543-4d3b-b3e0-29f707cb1597",
   "metadata": {},
   "outputs": [],
   "source": [
    "tup = ('physics', 'chemistry', 1997, 2000)\n",
    "\n",
    "del tup"
   ]
  },
  {
   "cell_type": "code",
   "execution_count": null,
   "id": "e44b9902-3f19-4629-a88a-66841560e748",
   "metadata": {},
   "outputs": [],
   "source": [
    "--------------------------------------------------------------------------------------------------------------------------------------------------------"
   ]
  },
  {
   "cell_type": "markdown",
   "id": "0f2cabb0-a1c7-4c60-889b-4578a9a6ae6e",
   "metadata": {},
   "source": [
    "## FINDING LENGTH OF TUPLE"
   ]
  },
  {
   "cell_type": "markdown",
   "id": "39da329d-e7a9-4149-aeb7-50f2e1344e39",
   "metadata": {},
   "source": [
    "### 1 . len() function is used to find length of tuple."
   ]
  },
  {
   "cell_type": "code",
   "execution_count": 21,
   "id": "56326485-8ec2-4ff9-9aab-dd5c757960a9",
   "metadata": {},
   "outputs": [
    {
     "data": {
      "text/plain": [
       "5"
      ]
     },
     "execution_count": 21,
     "metadata": {},
     "output_type": "execute_result"
    }
   ],
   "source": [
    "tup = (12, 45, 89, 90,'lini')\n",
    "\n",
    "len(tup)"
   ]
  },
  {
   "cell_type": "code",
   "execution_count": null,
   "id": "0f1c96f8-8811-4cdf-b47c-30e022fb52a9",
   "metadata": {},
   "outputs": [],
   "source": [
    "--------------------------------------------------------------------------------------------------------------------------------------------------------"
   ]
  },
  {
   "cell_type": "markdown",
   "id": "36deb79f-9e53-45b5-a39b-c27961c93edf",
   "metadata": {},
   "source": [
    "## EXERCISE "
   ]
  },
  {
   "cell_type": "markdown",
   "id": "d16ed0e8-d964-4d02-acbb-488dee02fc39",
   "metadata": {},
   "source": [
    "### Tuples (Creation, Modification and Access) :\n",
    "\n",
    "### Create 1st tuple with values -> (10, 20, 30), 2nd tuple with values -> (40, 50, 60):\n",
    "\n",
    "a. Concatenate the two tuples and store it in “t_combine”\n",
    "\n",
    "b. Repeat the elements of “t_combine” 3 times\n",
    "\n",
    "c. Access the 3rd element from “t_combine”\n",
    "\n",
    "d. Access the first three elements from “t_combine”\n",
    "\n",
    "e. Access the last three elements from “t_combine”"
   ]
  },
  {
   "cell_type": "code",
   "execution_count": 22,
   "id": "255839ee-fcc3-4b72-8360-baed46b14359",
   "metadata": {},
   "outputs": [],
   "source": [
    "tup1 = (10, 20, 30)\n",
    "tup2 = (40, 50, 60)"
   ]
  },
  {
   "cell_type": "code",
   "execution_count": 23,
   "id": "5d4663e4-0fec-44a1-b361-d73008dc488c",
   "metadata": {},
   "outputs": [
    {
     "data": {
      "text/plain": [
       "(10, 20, 30, 40, 50, 60)"
      ]
     },
     "execution_count": 23,
     "metadata": {},
     "output_type": "execute_result"
    }
   ],
   "source": [
    "# Concatenate the two tuples and store it in “t_combine”\n",
    "\n",
    "t_combine = tup1 + tup2\n",
    "\n",
    "t_combine"
   ]
  },
  {
   "cell_type": "code",
   "execution_count": 24,
   "id": "0bb3f554-6e3e-4f67-8f30-20cec2978760",
   "metadata": {},
   "outputs": [
    {
     "data": {
      "text/plain": [
       "(10, 20, 30, 40, 50, 60, 10, 20, 30, 40, 50, 60, 10, 20, 30, 40, 50, 60)"
      ]
     },
     "execution_count": 24,
     "metadata": {},
     "output_type": "execute_result"
    }
   ],
   "source": [
    "# Repeat the elements of “t_combine” 3 times\n",
    "\n",
    "t_combine * 3"
   ]
  },
  {
   "cell_type": "code",
   "execution_count": 31,
   "id": "29e69c87-6908-4d77-975a-24915b5ed6d9",
   "metadata": {},
   "outputs": [
    {
     "name": "stdout",
     "output_type": "stream",
     "text": [
      "third element in t_combine: 30\n"
     ]
    }
   ],
   "source": [
    "# Access the 3rd element from “t_combine\n",
    "\n",
    "l3 = t_combine[2]\n",
    "\n",
    "print(f'third element in t_combine: {l3}')"
   ]
  },
  {
   "cell_type": "code",
   "execution_count": 34,
   "id": "903bbb79-30dc-43c3-b7bc-89050a403da3",
   "metadata": {},
   "outputs": [
    {
     "name": "stdout",
     "output_type": "stream",
     "text": [
      "first 3 element of t_combine : (10, 20, 30)\n"
     ]
    }
   ],
   "source": [
    "# Access the first three elements from “t_combine”\n",
    "\n",
    "f3 = t_combine[0:3]\n",
    "\n",
    "print(f'first 3 element of t_combine : {f3}')"
   ]
  },
  {
   "cell_type": "code",
   "execution_count": 32,
   "id": "7add25dc-c77a-46dd-9a4a-71e97e8710ae",
   "metadata": {},
   "outputs": [
    {
     "name": "stdout",
     "output_type": "stream",
     "text": [
      "last 3 elements of t_combine: (40, 50, 60)\n"
     ]
    }
   ],
   "source": [
    "# Access the last three elements from “t_combine”\n",
    "\n",
    "l3 = t_combine[3:7]\n",
    "\n",
    "print(f'last 3 elements of t_combine: {l3}')"
   ]
  },
  {
   "cell_type": "code",
   "execution_count": null,
   "id": "215c0f47-7da2-428d-ab04-9e4cc2ba17ce",
   "metadata": {},
   "outputs": [],
   "source": []
  }
 ],
 "metadata": {
  "kernelspec": {
   "display_name": "Python 3 (ipykernel)",
   "language": "python",
   "name": "python3"
  },
  "language_info": {
   "codemirror_mode": {
    "name": "ipython",
    "version": 3
   },
   "file_extension": ".py",
   "mimetype": "text/x-python",
   "name": "python",
   "nbconvert_exporter": "python",
   "pygments_lexer": "ipython3",
   "version": "3.12.7"
  }
 },
 "nbformat": 4,
 "nbformat_minor": 5
}
