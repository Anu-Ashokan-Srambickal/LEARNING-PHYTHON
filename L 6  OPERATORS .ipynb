{
 "cells": [
  {
   "cell_type": "markdown",
   "id": "712eba42-226e-4371-ac1b-01406c8af21e",
   "metadata": {},
   "source": [
    "# OPERATORS"
   ]
  },
  {
   "cell_type": "markdown",
   "id": "74b1d15e-1d85-481e-98ca-e4a7c5452379",
   "metadata": {},
   "source": [
    "## 🍁 ARITHEMATIC OPERATORS"
   ]
  },
  {
   "attachments": {},
   "cell_type": "markdown",
   "id": "f8da782f-5ae2-4983-9208-16e9b65f94aa",
   "metadata": {},
   "source": [
    "|SYMBOL|  NAME    |EXAMPLE|RESULT|\n",
    "|------|----------|-------|------|\n",
    "|  +   | Addition |  2+6  |   7  | \n",
    "|  -   | Substraction|8-4 |  4   |\n",
    "|  *   | Multiplication  | 2*3   |  6   |\n",
    "|  **  |Exponentiation |2**3| 8|\n",
    "|  /  |True Division | 10/5 | 2|\n",
    "| //  |Floor Division| 5//4| 2 |\n",
    "| % | Modulo Operator | 10 % 3| 1|\n"
   ]
  },
  {
   "cell_type": "markdown",
   "id": "87d18454-7926-434d-bced-bbd8ab2b3da2",
   "metadata": {},
   "source": [
    "______________________________________________________________________________________________________________________________________________________"
   ]
  },
  {
   "cell_type": "markdown",
   "id": "98bf0813-4b46-4b50-af42-41657c1c7b9f",
   "metadata": {},
   "source": [
    "## 1. True Division (/)\n",
    "\n",
    "#### * This operator performs standard division \n",
    "\n",
    "#### * It always returns a floating-point number (a float), even if the result is a whole number."
   ]
  },
  {
   "cell_type": "markdown",
   "id": "5978fd1c-735b-4996-891d-195da15560aa",
   "metadata": {},
   "source": [
    "## 2. Floor Division (//)\n",
    "#### This operator performs integer division. \n",
    "\n",
    "#### It divides the numbers and returns the largest integer less than or equal to the result.\n",
    "\n",
    "#### This effectively \"floors\" the result, discarding any fractional part."
   ]
  },
  {
   "cell_type": "markdown",
   "id": "e1684575-3da1-4dbb-8a78-d0ce76535c9e",
   "metadata": {},
   "source": [
    "## 3. Modulo Operator (%)\n",
    "\n",
    "#### This operator returns the remainder of the division."
   ]
  },
  {
   "cell_type": "markdown",
   "id": "b1ad04dd-3f93-4744-a432-78d8561f0da8",
   "metadata": {},
   "source": [
    "_______________________________________________________________________________________________________________________________________________________"
   ]
  },
  {
   "cell_type": "markdown",
   "id": "f069c453-fc0f-474d-8230-d54995dd57f6",
   "metadata": {},
   "source": [
    "## 🧊 EXERCISE"
   ]
  },
  {
   "cell_type": "code",
   "execution_count": 1,
   "id": "fc39f1c7-3aca-4953-90ec-b252d97d03fc",
   "metadata": {},
   "outputs": [],
   "source": [
    "num_1 = 20\n",
    "num_2 = 10"
   ]
  },
  {
   "cell_type": "markdown",
   "id": "58e0351c-2dc2-4be5-8695-81be200ad97f",
   "metadata": {},
   "source": [
    "### DIVISION"
   ]
  },
  {
   "cell_type": "code",
   "execution_count": 5,
   "id": "54b46404-6c59-4807-90ec-9270fb57fbee",
   "metadata": {},
   "outputs": [
    {
     "data": {
      "text/plain": [
       "2.0"
      ]
     },
     "execution_count": 5,
     "metadata": {},
     "output_type": "execute_result"
    }
   ],
   "source": [
    "total = num_1/num_2\n",
    "total"
   ]
  },
  {
   "cell_type": "markdown",
   "id": "0a9a83d9-3578-4498-bd30-785dd1f6dae8",
   "metadata": {},
   "source": [
    "### FLOOR DIVISION"
   ]
  },
  {
   "cell_type": "code",
   "execution_count": 9,
   "id": "366bb85f-42bf-40b3-9040-56ee8a232985",
   "metadata": {},
   "outputs": [
    {
     "data": {
      "text/plain": [
       "2"
      ]
     },
     "execution_count": 9,
     "metadata": {},
     "output_type": "execute_result"
    }
   ],
   "source": [
    "total = num_1//num_2\n",
    "total"
   ]
  },
  {
   "cell_type": "markdown",
   "id": "b473d766-757d-4793-bb39-42f427b2da68",
   "metadata": {},
   "source": [
    "### MODULO OPERATION"
   ]
  },
  {
   "cell_type": "code",
   "execution_count": 10,
   "id": "470cbff3-e9db-44fb-849d-b03a9be2159e",
   "metadata": {},
   "outputs": [
    {
     "data": {
      "text/plain": [
       "0"
      ]
     },
     "execution_count": 10,
     "metadata": {},
     "output_type": "execute_result"
    }
   ],
   "source": [
    "total = num_1 % num_2\n",
    "total"
   ]
  },
  {
   "cell_type": "markdown",
   "id": "c2439c16-7703-4b91-9fa5-1c92dd431b0f",
   "metadata": {},
   "source": [
    "____________________________________________________________________________________________________________________________________________________"
   ]
  },
  {
   "cell_type": "markdown",
   "id": "a999c934-9dec-473a-9a2d-4bedbd681339",
   "metadata": {},
   "source": [
    "## 🍁 RELATIONAL OPERATORS"
   ]
  },
  {
   "cell_type": "markdown",
   "id": "992582bf-95ab-4427-aa41-b467bcfa6a9f",
   "metadata": {},
   "source": [
    "### Mainly used to compair values."
   ]
  },
  {
   "cell_type": "markdown",
   "id": "ab4797b8-61b3-47f7-ad4c-553a4c8403bf",
   "metadata": {},
   "source": [
    "### So Output is either 'True' or 'False'."
   ]
  },
  {
   "cell_type": "markdown",
   "id": "c7223436-f6f4-49e0-9e95-4e610b20cfe5",
   "metadata": {},
   "source": [
    "|OPERATOR|OPERATION|EXAMPLE|\n",
    "|--------|---------|-------|\n",
    "| == |Checks both values are equal, returns 'True'| 2==2|\n",
    "| !=, <>| Checks both values are not equal, returns \"True'| 3!=9|\n",
    "| >| Greater Than | 5>2|\n",
    "|<| Less Than|2<9|\n",
    "|>=| Greater Than and Equal To| 10>=8|\n",
    "|<=| Less Than and Equal to| 8<=2|\n"
   ]
  },
  {
   "cell_type": "markdown",
   "id": "332be0fb-195d-4adf-9e84-31fa474970c3",
   "metadata": {},
   "source": [
    "## 🧊 EXERCISE"
   ]
  },
  {
   "cell_type": "code",
   "execution_count": 11,
   "id": "0ed75afc-9c65-4b99-a841-2b5c729861b8",
   "metadata": {},
   "outputs": [],
   "source": [
    "num_1 = 20\n",
    "num_2 = 10"
   ]
  },
  {
   "cell_type": "code",
   "execution_count": 12,
   "id": "9676d629-36af-4625-addb-e006943b8ead",
   "metadata": {},
   "outputs": [
    {
     "data": {
      "text/plain": [
       "True"
      ]
     },
     "execution_count": 12,
     "metadata": {},
     "output_type": "execute_result"
    }
   ],
   "source": [
    "num_1 != num_2"
   ]
  },
  {
   "cell_type": "markdown",
   "id": "495c206d-d352-4c0f-85a1-2a17db1e3eb8",
   "metadata": {},
   "source": [
    "_________________________________________________________________________________________________________________________________________________"
   ]
  },
  {
   "cell_type": "markdown",
   "id": "0174b004-bc16-4f0c-a7cb-6816c9fb72d3",
   "metadata": {},
   "source": [
    "## 🍁 ASSIGNMENT OPERATOR"
   ]
  },
  {
   "cell_type": "markdown",
   "id": "9a3c5b2e-8d03-4d3a-aaa7-ed1735b1a1e9",
   "metadata": {},
   "source": [
    "### Assignment Operator is to assign or store a value to a variable."
   ]
  },
  {
   "cell_type": "markdown",
   "id": "f396e6e3-5a80-494a-a68c-d1716538e953",
   "metadata": {},
   "source": [
    "| OPERATOR | OPERATION | EXAMPLE |\n",
    "|----------|-----------|---------|\n",
    "|= | Equal To | t = a + b|\n",
    "|+=|  ShortHand Assignment Operator, to Add a value to a variable and then assign the new result back to that same variable| x = 5, x += 3|\n",
    "|-=| Subtraction| x -= 2  is  x = x - 2|\n",
    "|*=| Multiplication |  x = 5, x *= 3 |\n",
    "|/=| Modulo Operator | x %= 2  is  x = x % 2|\n",
    "|**=|Exponentiation|x **= 2  is  x = x ** 2|\n",
    "|//=|Floor division|x //= 2  is  x = x // 2|"
   ]
  },
  {
   "cell_type": "markdown",
   "id": "97a584bd-fe3a-40e3-b2be-1b553a9c3134",
   "metadata": {},
   "source": [
    "_______________________________________________________________________________________________________________________________________"
   ]
  },
  {
   "cell_type": "markdown",
   "id": "4a9c8d7d-dad2-4af7-af8d-df3561c889fe",
   "metadata": {},
   "source": [
    "# 🍁 LOGICAL OPERATOR"
   ]
  },
  {
   "cell_type": "markdown",
   "id": "b75de362-e8c7-4563-878b-5c7e281404bf",
   "metadata": {},
   "source": [
    "### Result is either 'True' or 'False'."
   ]
  },
  {
   "cell_type": "markdown",
   "id": "8dfffdb9-189e-401e-8671-219bacf37619",
   "metadata": {},
   "source": [
    "| OPERATOR| OPERATION| EXAMPLE|\n",
    "|---------|----------|--------|\n",
    "|and| Returns True only if both of the operands are True. If either operand is False, the entire expression is False.| x and y|\n",
    "|or|  Returns True if at least one of the operands is True. The expression is only False if both operands are False. | x or y|\n",
    "|not|Operator is a unary operator, meaning it operates on a single operand. It reverses or inverts the Boolean value of the operand.| x not y|"
   ]
  },
  {
   "cell_type": "markdown",
   "id": "af32fd02-0555-436f-84c0-d847ed611a73",
   "metadata": {},
   "source": [
    "_________________________________________________________________________________________________________________________________________"
   ]
  },
  {
   "cell_type": "markdown",
   "id": "6d823c83-42a3-4514-8037-3fd0c999cab5",
   "metadata": {},
   "source": [
    "## 🍁 MEMBERSHIP OPERATOR"
   ]
  },
  {
   "cell_type": "markdown",
   "id": "db840bde-b495-40c3-9cf8-fa1961d376f9",
   "metadata": {},
   "source": [
    "### Membership operators in Python are used to test if a value is present in a sequence or collection. "
   ]
  },
  {
   "cell_type": "markdown",
   "id": "9b17a828-e328-4670-9d26-32abe18967e2",
   "metadata": {},
   "source": [
    "|OPERATION| OPERATOR|EXAMPLE|\n",
    "|---------|----------|-------|\n",
    "|in|The in operator returns True if a value exists within an object (such as a string, list, tuple, set, or dictionary). Otherwise, it returns False.|\"world\" in message|\n",
    "|not in|not in operator is the logical inverse of in. It returns True if a value is not in the collection, and False if it is.|\"grape\" not in fruits|"
   ]
  },
  {
   "cell_type": "markdown",
   "id": "5ff7c78a-46c1-459f-bb35-7eae650ebc11",
   "metadata": {},
   "source": [
    "## 🧊 EXCERCISE"
   ]
  },
  {
   "cell_type": "code",
   "execution_count": 13,
   "id": "3008217d-55b1-45e5-8272-b6704d550370",
   "metadata": {},
   "outputs": [
    {
     "name": "stdout",
     "output_type": "stream",
     "text": [
      "Grape is not in the list.\n"
     ]
    }
   ],
   "source": [
    "fruits = [\"apple\", \"banana\", \"cherry\"]\n",
    "\n",
    "if \"grape\" not in fruits:\n",
    "    print(\"Grape is not in the list.\")"
   ]
  },
  {
   "cell_type": "code",
   "execution_count": 14,
   "id": "46a1d4e5-b2dc-48cb-84a6-489126cf676d",
   "metadata": {},
   "outputs": [
    {
     "name": "stdout",
     "output_type": "stream",
     "text": [
      "True\n"
     ]
    }
   ],
   "source": [
    "student_grades = {\"Alice\": 95, \"Bob\": 88, \"Charlie\": 72}\n",
    "\n",
    "# Checks if \"Alice\" is a key\n",
    "print(\"Alice\" in student_grades) "
   ]
  },
  {
   "cell_type": "markdown",
   "id": "9ba61776-c12e-4b7b-b41a-d96c4e3daf8d",
   "metadata": {},
   "source": [
    "________________________________________________________________________________________________________________________________________"
   ]
  },
  {
   "cell_type": "markdown",
   "id": "a751556c-ae20-43a5-80ed-7b2f47a23d25",
   "metadata": {},
   "source": [
    "## 🍁 IDENTICAL OPERATOR"
   ]
  },
  {
   "cell_type": "markdown",
   "id": "f025cb4d-1b99-4355-8326-323f2e44c691",
   "metadata": {},
   "source": [
    "* The identical operators are used to test if two variables refer to the exact same object in memory. \n",
    "\n",
    "* This is a different concept from checking if two objects have the same value.\n",
    "\n",
    "* The two identical operators are is and is not."
   ]
  },
  {
   "cell_type": "markdown",
   "id": "ab045c6f-350d-4899-a6ac-2f2b207f4162",
   "metadata": {},
   "source": [
    "|OPERATOR| OPERATION|EXAMPLE|\n",
    "|--------|----------|-------|\n",
    "|is| The is operator returns True if the two operands are the same object. You can think of it as comparing the memory addresses (or IDs) of the objects.| X is y|\n",
    "|is not|The is not operator is the logical inverse of is. It returns True if the two operands are not the same object and False otherwise.|x is not y|"
   ]
  },
  {
   "cell_type": "markdown",
   "id": "9c2bbad7-43bf-4edc-a7c0-bc321cce787f",
   "metadata": {},
   "source": [
    "## 🍁 BITWISE OPERATOR"
   ]
  },
  {
   "cell_type": "markdown",
   "id": "c7aef554-bde8-4d66-9fe8-12fab38a2b1a",
   "metadata": {},
   "source": [
    "* Bitwise operators in Python are used to perform operations on individual bits of an integer.\n",
    "  \n",
    "*  They are a fundamental part of low-level programming and are often used for tasks like data compression, encryption, and optimizing certain types of calculations."
   ]
  },
  {
   "cell_type": "markdown",
   "id": "11696cef-52fa-436f-82ac-aea54cf60499",
   "metadata": {},
   "source": [
    "|OPERATOR|OPERATION|EXAMPLE|\n",
    "|--------|---------|-------|\n",
    "|Bitwise AND (&)|The & operator compares two numbers bit by bit. It returns 1 if both bits are 1, and 0 otherwise.|a = 0101,b = 0011, Result: 0001|\n",
    "|Bitwise OR ('|')|The operator compares two numbers bit by bit. It returns 1 if at least one of the bits is 1.|a = 0101, b = 0011, Result: 0111|\n",
    "| Bitwise XOR (^)|The ^ operator (exclusive OR) compares two numbers bit by bit. It returns 1 if the bits are different, and 0 if they are the same.|a = 0101, b =0011, Result: 0110|"
   ]
  },
  {
   "cell_type": "markdown",
   "id": "c4e0ea3d-385e-4bb2-965c-89b4cbd481a4",
   "metadata": {},
   "source": []
  },
  {
   "cell_type": "code",
   "execution_count": null,
   "id": "9bcc29f5-4a30-4dc2-be36-5cf952fe525c",
   "metadata": {},
   "outputs": [],
   "source": []
  }
 ],
 "metadata": {
  "kernelspec": {
   "display_name": "Python 3 (ipykernel)",
   "language": "python",
   "name": "python3"
  },
  "language_info": {
   "codemirror_mode": {
    "name": "ipython",
    "version": 3
   },
   "file_extension": ".py",
   "mimetype": "text/x-python",
   "name": "python",
   "nbconvert_exporter": "python",
   "pygments_lexer": "ipython3",
   "version": "3.12.7"
  }
 },
 "nbformat": 4,
 "nbformat_minor": 5
}
