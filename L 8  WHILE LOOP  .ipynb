{
 "cells": [
  {
   "cell_type": "markdown",
   "id": "fc0d8d8f-4480-441c-9a5c-603a8a30d05a",
   "metadata": {},
   "source": [
    "### 🍁 LOOPING STATEMENTS"
   ]
  },
  {
   "cell_type": "markdown",
   "id": "b01dc6a2-18f4-4c87-9eab-1d20ecf5b5cd",
   "metadata": {},
   "source": [
    "LOOPING STATEMENTS ARE USED TO EXCECUTE A BLOCK OF CODE CONDINUEOUSLY UNTIL A CONDITION IS MET."
   ]
  },
  {
   "cell_type": "markdown",
   "id": "db0f84cb-5081-4660-9dbe-836b573ded97",
   "metadata": {},
   "source": [
    "THERE ARE 2 TYPES OF LOOPS IN PHYTHON.\n",
    "\n",
    "THEY ARE:-\n",
    "\n",
    "1. WHILE LOOP &\n",
    "\n",
    "2. FOR LOOP\n"
   ]
  },
  {
   "cell_type": "markdown",
   "id": "46d7444a-bbb6-4c5b-9052-c1b9da15f6b8",
   "metadata": {},
   "source": [
    "____________________________________________________________________________________________________________________________"
   ]
  },
  {
   "cell_type": "markdown",
   "id": "9d3f6133-99a2-42b8-8065-e9fef44c5511",
   "metadata": {},
   "source": [
    "### 🍒 1. WHILE LOOP"
   ]
  },
  {
   "cell_type": "markdown",
   "id": "66aef21a-8649-4d0f-bf4d-0cf73dace50a",
   "metadata": {},
   "source": [
    "#### ♦️ SYNTAX :\n",
    "\n",
    "while condition:\n",
    "\n",
    "    loop body"
   ]
  },
  {
   "cell_type": "markdown",
   "id": "8f89592d-ad1e-4f81-a791-46d9a5c2fbf3",
   "metadata": {},
   "source": [
    "_______________________________________________________________________________________________________________"
   ]
  },
  {
   "cell_type": "markdown",
   "id": "c6facd9e-c47a-45f8-ac3f-e8874fc4c6a7",
   "metadata": {},
   "source": [
    "### 🔺 Write a programme to print 'Hello' , 10 TIMES. "
   ]
  },
  {
   "cell_type": "code",
   "execution_count": 2,
   "id": "70059e1b-8dc9-43bb-bd64-9578c871fe2e",
   "metadata": {},
   "outputs": [
    {
     "name": "stdout",
     "output_type": "stream",
     "text": [
      "Hello\n",
      "Hello\n",
      "Hello\n",
      "Hello\n",
      "Hello\n",
      "Hello\n",
      "Hello\n",
      "Hello\n",
      "Hello\n",
      "Hello\n",
      "Loop Ends\n"
     ]
    }
   ],
   "source": [
    "i = 1\n",
    "\n",
    "while i <= 10:\n",
    "    print('Hello')\n",
    "    i=i+1\n",
    "\n",
    "print('Loop Ends')"
   ]
  },
  {
   "cell_type": "markdown",
   "id": "33c90f94-5074-4ed6-b948-63215bd520d5",
   "metadata": {},
   "source": [
    "_________________________________________________________________________________________________________________"
   ]
  },
  {
   "cell_type": "markdown",
   "id": "8da6f1f8-e8c4-4d32-9306-39b995d14a85",
   "metadata": {},
   "source": [
    "### 🔺 BASIC CONCEPT"
   ]
  },
  {
   "cell_type": "code",
   "execution_count": 3,
   "id": "76aebb80-2135-450e-887f-0cc33a76fc4d",
   "metadata": {},
   "outputs": [
    {
     "name": "stdout",
     "output_type": "stream",
     "text": [
      "Hello World\n",
      "Hello World\n",
      "Hello World\n",
      "Hello World\n",
      "Hello World\n",
      "Hello World\n",
      "Hello World\n",
      "Hello World\n",
      "Hello World\n",
      "Hello World\n"
     ]
    }
   ],
   "source": [
    "i = 1\n",
    "\n",
    "while i <= 10:\n",
    "    print('Hello World')\n",
    "    i=i+1"
   ]
  },
  {
   "cell_type": "markdown",
   "id": "7dcc5d4f-23ba-4e8b-ad96-20dcb16841e8",
   "metadata": {},
   "source": [
    "______________________________________________________________________________________________________________________"
   ]
  },
  {
   "cell_type": "markdown",
   "id": "f9dea9dd-e742-46c4-8c9a-2d42c33f0d00",
   "metadata": {},
   "source": [
    "### 🔺 PRINT 1 TO 10 "
   ]
  },
  {
   "cell_type": "code",
   "execution_count": 5,
   "id": "d2143f69-4a61-4e9b-8a16-e41df3b0c51a",
   "metadata": {},
   "outputs": [
    {
     "name": "stdout",
     "output_type": "stream",
     "text": [
      "1\n",
      "2\n",
      "3\n",
      "4\n",
      "5\n",
      "6\n",
      "7\n",
      "8\n",
      "9\n",
      "10\n",
      "Loop Ended\n"
     ]
    }
   ],
   "source": [
    "i= 1\n",
    "\n",
    "while i <= 10:\n",
    "    print(i)\n",
    "    i=i+1\n",
    "    \n",
    "print('Loop Ended')"
   ]
  },
  {
   "cell_type": "markdown",
   "id": "b0e3cb46-13a1-4afb-a9c0-71de03e03ec6",
   "metadata": {},
   "source": [
    "_____________________________________________________________________________________________________________________________"
   ]
  },
  {
   "cell_type": "markdown",
   "id": "fe85d158-420f-4718-83ee-0b0929232f4f",
   "metadata": {},
   "source": [
    "### 🔺 PRINT 10 TO 1"
   ]
  },
  {
   "cell_type": "code",
   "execution_count": 3,
   "id": "4b80ee09-2208-4fae-b620-921127bf1ac8",
   "metadata": {},
   "outputs": [
    {
     "name": "stdout",
     "output_type": "stream",
     "text": [
      "10\n",
      "9\n",
      "8\n",
      "7\n",
      "6\n",
      "5\n",
      "4\n",
      "3\n",
      "2\n",
      "1\n",
      "Loop Ended\n"
     ]
    }
   ],
   "source": [
    "i = 10\n",
    "\n",
    "while i >= 1:\n",
    "    print(i)\n",
    "    i=i-1\n",
    "\n",
    "print('Loop Ended')"
   ]
  },
  {
   "cell_type": "markdown",
   "id": "0896fc64-8ba8-43ce-b268-b9c06ea6c4bb",
   "metadata": {},
   "source": [
    "_________________________________________________"
   ]
  },
  {
   "cell_type": "markdown",
   "id": "9e2b98dc-33e4-4a38-a1fa-5c4b67496856",
   "metadata": {},
   "source": [
    "### 🔺 PRINT EVEN NUMBER IN DESCENDING ORDER"
   ]
  },
  {
   "cell_type": "code",
   "execution_count": 4,
   "id": "e24320ed-0451-4c2a-b4d3-aaeb6f7efb82",
   "metadata": {},
   "outputs": [
    {
     "name": "stdout",
     "output_type": "stream",
     "text": [
      "10\n",
      "8\n",
      "6\n",
      "4\n",
      "2\n",
      "Loop Ended\n"
     ]
    }
   ],
   "source": [
    "i = 10\n",
    "\n",
    "while i >= 1:\n",
    "    print(i)\n",
    "    i=i-2\n",
    "\n",
    "print('Loop Ended')"
   ]
  },
  {
   "cell_type": "markdown",
   "id": "3318c738-66e8-46eb-88c7-03706f8f5c52",
   "metadata": {},
   "source": [
    "_____________________________"
   ]
  },
  {
   "cell_type": "markdown",
   "id": "9ba72602-c805-440b-8ab8-5535a3c08b24",
   "metadata": {},
   "source": [
    "___________________________________"
   ]
  },
  {
   "cell_type": "markdown",
   "id": "4bb29a0c-f33e-4306-8082-0b6c99f02604",
   "metadata": {},
   "source": [
    "### 🔺 PRINT ODD NUMBERS"
   ]
  },
  {
   "cell_type": "code",
   "execution_count": 7,
   "id": "a1c7be6d-b092-4c28-842c-d17e4938e273",
   "metadata": {},
   "outputs": [
    {
     "name": "stdout",
     "output_type": "stream",
     "text": [
      "1\n",
      "3\n",
      "5\n",
      "7\n",
      "9\n",
      "Loop Ended\n"
     ]
    }
   ],
   "source": [
    "i = 1\n",
    "\n",
    "while i <= 10:\n",
    "    print(i)\n",
    "    i=i+2\n",
    "\n",
    "print('Loop Ended')"
   ]
  },
  {
   "cell_type": "markdown",
   "id": "e84b202d-49d4-46ee-87d4-b2e047109bd0",
   "metadata": {},
   "source": [
    "________________________"
   ]
  },
  {
   "cell_type": "markdown",
   "id": "e82ea281-de85-40cf-bac9-8c70a2495bf0",
   "metadata": {},
   "source": [
    "#### 🔺 PRACTICING WHILE LOOP ALING WITH IF.... STATEMENT"
   ]
  },
  {
   "cell_type": "markdown",
   "id": "ca6c5b08-2aa4-4006-9a62-1f0ecadca556",
   "metadata": {},
   "source": [
    "#### 🔺 METHOD 2 (USING WHILE & IF)\n"
   ]
  },
  {
   "cell_type": "code",
   "execution_count": 20,
   "id": "6ac1d0a1-5963-45c5-9639-605e18cd38ac",
   "metadata": {},
   "outputs": [
    {
     "name": "stdin",
     "output_type": "stream",
     "text": [
      "Enter a Number:  1\n",
      "Enter a Number:  10\n"
     ]
    },
    {
     "name": "stdout",
     "output_type": "stream",
     "text": [
      "1\n",
      "3\n",
      "5\n",
      "7\n",
      "9\n",
      "Loop Ended\n"
     ]
    }
   ],
   "source": [
    "starting_num = int(input('Enter a Number: '))\n",
    "\n",
    "Ending_num = int(input('Enter a Number: '))\n",
    "\n",
    "while starting_num <= Ending_num:\n",
    "   \n",
    "    if starting_num % 2 != 0:\n",
    "        print(starting_num)\n",
    "        \n",
    "    starting_num = starting_num + 1\n",
    "\n",
    "print('Loop Ended')"
   ]
  },
  {
   "cell_type": "markdown",
   "id": "b45ec8b4-28e8-41ed-9e06-d4e0e63fdf53",
   "metadata": {},
   "source": [
    "___________"
   ]
  },
  {
   "cell_type": "markdown",
   "id": "d066aa21-3a39-4426-828e-1eb9711a1805",
   "metadata": {},
   "source": [
    "__________"
   ]
  },
  {
   "cell_type": "markdown",
   "id": "f121c131-57a1-4870-b798-80c7d8f1ce16",
   "metadata": {},
   "source": [
    "### 🔺 PRINT EVEN NUMBER"
   ]
  },
  {
   "cell_type": "code",
   "execution_count": 8,
   "id": "09546d32-960c-49cf-8b58-fe5aa4c08943",
   "metadata": {},
   "outputs": [
    {
     "name": "stdout",
     "output_type": "stream",
     "text": [
      "2\n",
      "4\n",
      "6\n",
      "8\n",
      "10\n",
      "Loop Ended\n"
     ]
    }
   ],
   "source": [
    "i = 2\n",
    "\n",
    "while i <= 10:\n",
    "    print(i)\n",
    "    i=i+2\n",
    "\n",
    "print('Loop Ended')"
   ]
  },
  {
   "cell_type": "markdown",
   "id": "ea150b36-11c0-47d2-ab24-95b9b8ff4b20",
   "metadata": {},
   "source": [
    "#### 🔺 METHOD 2 (USING WHILE & IF)"
   ]
  },
  {
   "cell_type": "code",
   "execution_count": 17,
   "id": "d9fa992f-c847-404a-81a8-581e3521f5ec",
   "metadata": {},
   "outputs": [
    {
     "name": "stdout",
     "output_type": "stream",
     "text": [
      "2\n",
      "4\n",
      "6\n",
      "8\n",
      "10\n",
      "LOOP ENDED\n"
     ]
    }
   ],
   "source": [
    "i = 2\n",
    "\n",
    "while i <= 10:\n",
    "    if i % 2 == 0:\n",
    "        print(i)\n",
    "    i=i+2\n",
    "\n",
    "print('LOOP ENDED')"
   ]
  },
  {
   "cell_type": "markdown",
   "id": "623b321d-5ba1-4671-85e6-9b759d0f22d0",
   "metadata": {},
   "source": [
    "_______________________________"
   ]
  },
  {
   "cell_type": "markdown",
   "id": "f1bf6589-ef70-4f9e-bb53-941af6bfe5ad",
   "metadata": {},
   "source": [
    "______________________________________"
   ]
  },
  {
   "cell_type": "markdown",
   "id": "71b23f3a-38b1-42c0-9783-1a038b4d34ed",
   "metadata": {},
   "source": [
    "### 🔺 INCREMENTATION BY 5"
   ]
  },
  {
   "cell_type": "code",
   "execution_count": 14,
   "id": "b188982a-ba9f-4f61-8f9c-8c418ff0b3bb",
   "metadata": {},
   "outputs": [
    {
     "name": "stdin",
     "output_type": "stream",
     "text": [
      "Enter a Number:  5\n",
      "Enter a number:  101\n"
     ]
    },
    {
     "name": "stdout",
     "output_type": "stream",
     "text": [
      "5\n",
      "10\n",
      "15\n",
      "20\n",
      "25\n",
      "30\n",
      "35\n",
      "40\n",
      "45\n",
      "50\n",
      "55\n",
      "60\n",
      "65\n",
      "70\n",
      "75\n",
      "80\n",
      "85\n",
      "90\n",
      "95\n",
      "100\n",
      "Loop ended\n"
     ]
    }
   ],
   "source": [
    "starting_limit = int(input('Enter a Number: '))\n",
    "\n",
    "ending_limit = int(input('Enter a number: '))\n",
    "\n",
    "while starting_limit <= ending_limit:\n",
    "    \n",
    "    print(starting_limit)\n",
    "    \n",
    "    starting_limit = starting_limit + 5\n",
    "\n",
    "print('Loop ended')"
   ]
  },
  {
   "cell_type": "markdown",
   "id": "7e956103-5ee9-4be4-b1ba-b478b60be0a8",
   "metadata": {},
   "source": [
    "___________"
   ]
  },
  {
   "cell_type": "markdown",
   "id": "6c62f96c-6485-4d8e-8760-a50f7f24baef",
   "metadata": {},
   "source": [
    "#### 🔺 PRACTICING WHILE LOOP ALING WITH IF..... ELSE.... STATEMENT"
   ]
  },
  {
   "cell_type": "markdown",
   "id": "65b7b8f8-7b16-4f72-8e27-e5f48e90727c",
   "metadata": {},
   "source": [
    "#### 🔺 PRINT THE NUMBER AND MENTION WHETHER ODD OR EVEN"
   ]
  },
  {
   "cell_type": "code",
   "execution_count": 24,
   "id": "7bf084d1-7f1c-4094-83e1-2e4c974b648a",
   "metadata": {},
   "outputs": [
    {
     "name": "stdin",
     "output_type": "stream",
     "text": [
      "Enter a Starting Number:  5\n",
      "Enter an Ending Number:  10\n"
     ]
    },
    {
     "name": "stdout",
     "output_type": "stream",
     "text": [
      "5 Odd Number\n",
      "6 Even Number\n",
      "7 Odd Number\n",
      "8 Even Number\n",
      "9 Odd Number\n",
      "10 Even Number\n",
      "LOOP ENDS\n"
     ]
    }
   ],
   "source": [
    "i = int(input('Enter a Starting Number: '))\n",
    "\n",
    "e = int(input('Enter an Ending Number: '))\n",
    "\n",
    "while i <= e:\n",
    "    if i % 2 == 0:\n",
    "        print(i, \"Even Number\")\n",
    "    else:\n",
    "        print(i, \"Odd Number\")\n",
    "    i = i+1\n",
    "\n",
    "print(\"LOOP ENDS\")\n",
    "\n",
    "        "
   ]
  },
  {
   "cell_type": "markdown",
   "id": "061b1343-fe3e-4345-af06-859c01cc7313",
   "metadata": {},
   "source": [
    "____________________"
   ]
  },
  {
   "cell_type": "markdown",
   "id": "2e583e63-fbc0-47b4-9b88-a10a04bf851a",
   "metadata": {},
   "source": [
    "### 🛡 Break and Countinue Statements are used in while loop also"
   ]
  },
  {
   "cell_type": "markdown",
   "id": "cc6e278e-7bc5-4458-b6ca-8783456d967e",
   "metadata": {},
   "source": [
    "#### BREAK"
   ]
  },
  {
   "cell_type": "code",
   "execution_count": 1,
   "id": "6bb04565-d359-4dd4-bf81-74fc7cbaf729",
   "metadata": {},
   "outputs": [
    {
     "name": "stdout",
     "output_type": "stream",
     "text": [
      "1\n",
      "2\n",
      "3\n",
      "4\n",
      "5\n",
      "6\n",
      "7\n",
      "8\n",
      "9\n"
     ]
    }
   ],
   "source": [
    "i = 1\n",
    "\n",
    "while i <= 20:\n",
    "    \n",
    "    if i == 10:\n",
    "        break\n",
    "\n",
    "    print(i)\n",
    "    i = i+1   "
   ]
  },
  {
   "cell_type": "markdown",
   "id": "f3c2c569-75b3-459f-8f68-b47152b78ab3",
   "metadata": {},
   "source": [
    "#### 🔰 Continue"
   ]
  },
  {
   "cell_type": "code",
   "execution_count": null,
   "id": "c0fe048b-e485-40c2-97a0-bb2322df554c",
   "metadata": {},
   "outputs": [],
   "source": [
    "i = 1\n",
    "\n",
    "while i <= 10:\n",
    "    \n",
    "    if i == 6:\n",
    "        continue\n",
    "    \n",
    "    print(i)\n",
    "    i = i+1"
   ]
  },
  {
   "cell_type": "markdown",
   "id": "90a0a5dc-9d72-4d06-a0c7-33a7cb6e61d3",
   "metadata": {},
   "source": [
    "_______________"
   ]
  },
  {
   "cell_type": "markdown",
   "id": "8cfcf7c2-07d1-49b1-9053-9035986f28df",
   "metadata": {},
   "source": [
    "#### MULTIPLICATION TABLE USING WHILE LOOP"
   ]
  },
  {
   "cell_type": "code",
   "execution_count": 2,
   "id": "52300ecb-5c75-48bf-a1f6-358111ee450b",
   "metadata": {},
   "outputs": [
    {
     "name": "stdin",
     "output_type": "stream",
     "text": [
      "Enter a Number:  3\n"
     ]
    },
    {
     "name": "stdout",
     "output_type": "stream",
     "text": [
      "3 x 1 = 3\n",
      "3 x 2 = 6\n",
      "3 x 3 = 9\n",
      "3 x 4 = 12\n",
      "3 x 5 = 15\n",
      "3 x 6 = 18\n",
      "3 x 7 = 21\n",
      "3 x 8 = 24\n",
      "3 x 9 = 27\n",
      "3 x 10 = 30\n"
     ]
    }
   ],
   "source": [
    "n = int(input('Enter a Number: '))\n",
    "i =1\n",
    "\n",
    "while i <=10:\n",
    "    result = n*i\n",
    "    print(f'{n} x {i} = {result}')\n",
    "\n",
    "    i=i+1\n",
    "    "
   ]
  },
  {
   "cell_type": "markdown",
   "id": "7c0ecd95-8227-44b7-a832-a44fbd10a5fb",
   "metadata": {},
   "source": [
    "____________"
   ]
  },
  {
   "cell_type": "code",
   "execution_count": null,
   "id": "2a2d7c61-5f79-44e7-86b3-92d7ab8a5a60",
   "metadata": {},
   "outputs": [],
   "source": [
    "While loop & Control Statements :\n",
    "(else, break, continue, pass)\n",
    "\n",
    "Number Guessing Game\n",
    "\n",
    "Problem Statement: Create a Python program that implements a simple number\n",
    "guessing game using a while loop. The program should make use of control\n",
    "statements such as else, break, and continue."
   ]
  },
  {
   "cell_type": "code",
   "execution_count": null,
   "id": "5b376b0a-48b7-457b-8307-a32f27039fe9",
   "metadata": {},
   "outputs": [],
   "source": [
    "Instructions:\n",
    "1. Set Up the Game:\n",
    "★ Generate a random number between 1 and 10 that the user has to guess.\n",
    "Import random and use randint function.\n",
    "    \n",
    "import random\n",
    "# Generate random number between 1 and 10\n",
    "secret_number = random.randint(1, 10)"
   ]
  },
  {
   "cell_type": "code",
   "execution_count": null,
   "id": "2d76528f-b657-4709-989d-0cc6226a9b50",
   "metadata": {},
   "outputs": [],
   "source": [
    "2. Prompt the User:\n",
    "\n",
    "★ Ask the user to guess the number.\n",
    "★ Set a variable attempts to 3, which represents the maximum number of guesses allowed."
   ]
  },
  {
   "cell_type": "code",
   "execution_count": null,
   "id": "26138dfa-e911-4375-9983-266a2894b56d",
   "metadata": {},
   "outputs": [],
   "source": [
    "★ Provide feedback to the user for each guess:\n",
    "\n",
    "If the guess is out of the valid range (1 to 10), inform the user.\n",
    "➢ If the guess is greater than the secret number.\n",
    "➢ If the guess is lower than the secret number.\n",
    "➢ If the guess is correct, congratulate the user and end the game."
   ]
  },
  {
   "cell_type": "code",
   "execution_count": null,
   "id": "dff05d03-7632-409b-829d-4e7836357cc1",
   "metadata": {},
   "outputs": [],
   "source": [
    "4. Control Statements:\n",
    "★ Use continue to skip the rest of the loop after informing the user if the guess is out of range.\n",
    "★ Use break to exit the loop when the guess is correct.\n",
    "★ Use else with the while loop to provide a message like\n",
    "\"Better luck next  time!\" if the user runs out of attempts without guessing the correct number."
   ]
  },
  {
   "cell_type": "code",
   "execution_count": 2,
   "id": "ce4a97dd-1dd1-437e-a854-bfbaf71c8a66",
   "metadata": {},
   "outputs": [
    {
     "name": "stdin",
     "output_type": "stream",
     "text": [
      "Enter a Number between 1 and 10:  4\n"
     ]
    },
    {
     "name": "stdout",
     "output_type": "stream",
     "text": [
      "The Guess is Greater Than the Secret Number\n"
     ]
    },
    {
     "name": "stdin",
     "output_type": "stream",
     "text": [
      "Enter a Number between 1 and 10:  7\n"
     ]
    },
    {
     "name": "stdout",
     "output_type": "stream",
     "text": [
      "The Guess is Greater Than the Secret Number\n"
     ]
    },
    {
     "name": "stdin",
     "output_type": "stream",
     "text": [
      "Enter a Number between 1 and 10:  1\n"
     ]
    },
    {
     "name": "stdout",
     "output_type": "stream",
     "text": [
      "The Guess is Lower Than the Secret Number\n",
      "Sorry, you’ve used all 3 attempts. The secret number was 2.\n"
     ]
    }
   ],
   "source": [
    "import random\n",
    "\n",
    "# Generate random number between 1 and 10\n",
    "secret_number = random.randint(1, 10)\n",
    "attempts = 0\n",
    "max_attempts = 3\n",
    "\n",
    "while attempts < max_attempts:\n",
    "    n = int(input('Enter a Number between 1 and 10: '))\n",
    "    attempts += 1\n",
    "\n",
    "    if n < 1 or n > 10:\n",
    "        print('The Guess is Out of the Valid Range')\n",
    "    elif n < secret_number:\n",
    "        print('The Guess is Lower Than the Secret Number')\n",
    "    elif n > secret_number:\n",
    "        print('The Guess is Greater Than the Secret Number')\n",
    "    else:\n",
    "        print('The Guess is Correct, Congratulations!!')\n",
    "        break\n",
    "\n",
    "if attempts == max_attempts and n != secret_number:\n",
    "    print(f'Sorry, you’ve used all {max_attempts} attempts. The secret number was {secret_number}.')"
   ]
  },
  {
   "cell_type": "markdown",
   "id": "88f18946-5238-4cfe-9ed1-37acccfcde92",
   "metadata": {},
   "source": [
    "______________________________________________"
   ]
  },
  {
   "cell_type": "code",
   "execution_count": null,
   "id": "414bd8a6-1939-46ee-8432-81a09fcd21e1",
   "metadata": {},
   "outputs": [],
   "source": []
  }
 ],
 "metadata": {
  "kernelspec": {
   "display_name": "Python 3 (ipykernel)",
   "language": "python",
   "name": "python3"
  },
  "language_info": {
   "codemirror_mode": {
    "name": "ipython",
    "version": 3
   },
   "file_extension": ".py",
   "mimetype": "text/x-python",
   "name": "python",
   "nbconvert_exporter": "python",
   "pygments_lexer": "ipython3",
   "version": "3.12.7"
  }
 },
 "nbformat": 4,
 "nbformat_minor": 5
}
