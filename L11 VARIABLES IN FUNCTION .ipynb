{
 "cells": [
  {
   "cell_type": "markdown",
   "id": "a867e55e-f8b5-42e2-94e2-a42fb8ba11fd",
   "metadata": {},
   "source": [
    "## 🍁 VARIABLES"
   ]
  },
  {
   "cell_type": "markdown",
   "id": "36ce0e92-1ba2-4751-9f87-bcd47e17a134",
   "metadata": {},
   "source": [
    "- All variables in a program may not be accessible at all locations in that program. \n",
    "\n",
    "- This depends on where you have declared a variable.\n",
    "\n",
    "- The scope of a variable determines the portion of the program where you can access a particular identifier. \n"
   ]
  },
  {
   "cell_type": "markdown",
   "id": "ed8d7d71-141c-4bc0-add6-588312521ce4",
   "metadata": {},
   "source": [
    "___________________"
   ]
  },
  {
   "cell_type": "markdown",
   "id": "4498e4a9-86dd-433e-b14a-8a14869098b8",
   "metadata": {},
   "source": [
    "There are two basic scopes of variables in Python :-\n",
    "\n",
    "   •\tGlobal variables\n",
    "\n",
    "   •\tLocal variables"
   ]
  },
  {
   "cell_type": "markdown",
   "id": "829ead13-c83f-42d7-929c-f3176f6eea30",
   "metadata": {},
   "source": [
    "____________________________"
   ]
  },
  {
   "cell_type": "markdown",
   "id": "446dacb7-efd4-436c-8e34-5ae047b584a7",
   "metadata": {},
   "source": [
    "### 🧭 Local vs Global Variables\n"
   ]
  },
  {
   "cell_type": "markdown",
   "id": "4647e39a-3841-4d0a-9848-cc2470963f39",
   "metadata": {},
   "source": [
    "Variables inside a function are usually local, meaning they only exist while the function runs.\n"
   ]
  },
  {
   "cell_type": "code",
   "execution_count": 2,
   "id": "a09c8761-4f32-44ef-9ee5-112019a4e146",
   "metadata": {},
   "outputs": [
    {
     "name": "stdout",
     "output_type": "stream",
     "text": [
      "Hello, world!\n"
     ]
    }
   ],
   "source": [
    "def greet():\n",
    "    \n",
    "    message = \"Hello, world!\"  # local variable\n",
    "    print(message)\n",
    "\n",
    "greet()\n"
   ]
  },
  {
   "cell_type": "markdown",
   "id": "38216092-5f19-4dca-bf57-1f08fd903b7b",
   "metadata": {},
   "source": [
    "_____________________________"
   ]
  },
  {
   "cell_type": "markdown",
   "id": "bae0de1f-df61-4aee-8949-9969ae03c922",
   "metadata": {},
   "source": [
    "### 🌍 Global Variables\n"
   ]
  },
  {
   "cell_type": "code",
   "execution_count": 3,
   "id": "892023e6-ea09-4e0a-b1df-ce1ea0e9faff",
   "metadata": {},
   "outputs": [
    {
     "name": "stdout",
     "output_type": "stream",
     "text": [
      "My name is Ali\n"
     ]
    }
   ],
   "source": [
    "name = \"Ali\"  # global variable\n",
    "\n",
    "def say_name():\n",
    "    print(\"My name is\", name)\n",
    "\n",
    "say_name()\n"
   ]
  },
  {
   "cell_type": "markdown",
   "id": "6b5dbd75-cf5b-4af6-9016-c96b5134d5c1",
   "metadata": {},
   "source": [
    "_________________________"
   ]
  },
  {
   "cell_type": "markdown",
   "id": "52701a25-6893-4a94-8355-4b5544b39c85",
   "metadata": {},
   "source": [
    "### ⚠️ Modifying Global Variables Inside a Function\n",
    "\n"
   ]
  },
  {
   "cell_type": "markdown",
   "id": "36f202e3-f8cb-4351-9098-1fb908e6922e",
   "metadata": {},
   "source": [
    "- To change a global variable inside a function, you must use the global keyword:"
   ]
  },
  {
   "cell_type": "code",
   "execution_count": 4,
   "id": "ed1b9321-04f0-4d9f-8e55-f856af6cb621",
   "metadata": {},
   "outputs": [
    {
     "name": "stdout",
     "output_type": "stream",
     "text": [
      "1\n"
     ]
    }
   ],
   "source": [
    "counter = 0\n",
    "\n",
    "def increment():\n",
    "    global counter\n",
    "    counter += 1\n",
    "\n",
    "increment()\n",
    "print(counter)"
   ]
  },
  {
   "cell_type": "markdown",
   "id": "3d0c85e9-0c6f-43a3-9bb8-2c8029bb5a4f",
   "metadata": {},
   "source": [
    "____________________________"
   ]
  },
  {
   "cell_type": "markdown",
   "id": "210b5d32-3b71-4cc4-8e41-320b528a1b18",
   "metadata": {},
   "source": [
    "### 📦 Function Parameters as Variables\n"
   ]
  },
  {
   "cell_type": "markdown",
   "id": "17bdccd5-139d-49c3-8743-2b38dffa9dc5",
   "metadata": {},
   "source": [
    "- When you pass arguments to a function, they become local variables inside that function.\n"
   ]
  },
  {
   "cell_type": "code",
   "execution_count": 5,
   "id": "39e5846a-7fe9-46f3-8599-b2c3336bc052",
   "metadata": {},
   "outputs": [
    {
     "name": "stdout",
     "output_type": "stream",
     "text": [
      "7\n"
     ]
    }
   ],
   "source": [
    "def add(a, b):\n",
    "    result = a + b  # 'a', 'b', and 'result' are local\n",
    "    return result\n",
    "\n",
    "print(add(3, 4))"
   ]
  },
  {
   "cell_type": "markdown",
   "id": "6e65c8d9-cb39-4c5d-8c27-1efaaeb8ff18",
   "metadata": {},
   "source": [
    "___________________________________"
   ]
  },
  {
   "cell_type": "code",
   "execution_count": null,
   "id": "388365eb-7723-4f3a-9b16-2e2788aeae25",
   "metadata": {},
   "outputs": [],
   "source": []
  },
  {
   "cell_type": "code",
   "execution_count": null,
   "id": "6e8d670e-624e-43ea-843a-ef532879d343",
   "metadata": {},
   "outputs": [],
   "source": []
  },
  {
   "cell_type": "code",
   "execution_count": null,
   "id": "1df8b11e-0bfc-4daf-b7dd-dae0406a52e7",
   "metadata": {},
   "outputs": [],
   "source": []
  }
 ],
 "metadata": {
  "kernelspec": {
   "display_name": "Python 3 (ipykernel)",
   "language": "python",
   "name": "python3"
  },
  "language_info": {
   "codemirror_mode": {
    "name": "ipython",
    "version": 3
   },
   "file_extension": ".py",
   "mimetype": "text/x-python",
   "name": "python",
   "nbconvert_exporter": "python",
   "pygments_lexer": "ipython3",
   "version": "3.12.7"
  }
 },
 "nbformat": 4,
 "nbformat_minor": 5
}
